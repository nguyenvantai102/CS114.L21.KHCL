{
  "nbformat": 4,
  "nbformat_minor": 0,
  "metadata": {
    "colab": {
      "name": "CoLab04_CrawlData",
      "provenance": [],
      "collapsed_sections": [
        "xJXDx5apkS4z",
        "6XE6DEPQaq5O",
        "Ui999VG_gRso",
        "8Z9pYq_3lYL8",
        "pBNJOlpQoMOs",
        "o4P4iN5kie7B",
        "D1jyM4IGBxyq",
        "3DDId618B6Sv",
        "jj9U4gCupfxD",
        "gi54frnO0eIj",
        "4tku8kXx0eJY",
        "-vHF77ys_UtS",
        "INF-iGcR0PUY"
      ],
      "authorship_tag": "ABX9TyNQvKPstSVpEyi4KO6ixuYm",
      "include_colab_link": true
    },
    "kernelspec": {
      "display_name": "Python 3",
      "name": "python3"
    },
    "language_info": {
      "name": "python"
    }
  },
  "cells": [
    {
      "cell_type": "markdown",
      "metadata": {
        "id": "view-in-github",
        "colab_type": "text"
      },
      "source": [
        "<a href=\"https://colab.research.google.com/github/nguyenvantai102/CS114.L21.KHCL/blob/main/CoLab04_CrawlData.ipynb\" target=\"_parent\"><img src=\"https://colab.research.google.com/assets/colab-badge.svg\" alt=\"Open In Colab\"/></a>"
      ]
    },
    {
      "cell_type": "markdown",
      "metadata": {
        "id": "xJXDx5apkS4z"
      },
      "source": [
        "# A. Các trang web châm biếm:\n",
        "## 1. [The Onion](#scrollTo=6XE6DEPQaq5O)\n",
        "## 2. [The Betoota Advocate](#scrollTo=o4P4iN5kie7B)\n",
        "## 3. [World News Daily Report](#scrollTo=jj9U4gCupfxD)\n",
        "## 4. [NewsBiscuit](#scrollTo=CJ_CVvWj1sIR&line=4&uniqifier=1)\n"
      ]
    },
    {
      "cell_type": "markdown",
      "metadata": {
        "id": "6XE6DEPQaq5O"
      },
      "source": [
        "## 1. [The Onion](https://www.theonion.com/)\n",
        "* Ý tưởng:\n",
        "- Kiểm tra sitemap thì web này có, sitemap phát triển trên ý tưởng thời gian\n",
        "- Sử dụng sitemap https://www.theonion.com/sitemap/2019/january/8\n",
        "- Tìm từ tháng 1 tháng 6 năm 2018 ->2021"
      ]
    },
    {
      "cell_type": "markdown",
      "metadata": {
        "id": "Ui999VG_gRso"
      },
      "source": [
        "### a. Xây dựng link để request"
      ]
    },
    {
      "cell_type": "code",
      "metadata": {
        "id": "NHpHZeNDieUK"
      },
      "source": [
        "months_ = [\"january\",\"february\",\"march\",\"april\",\"may\",\"june\",\"july\",\"august\",\"september\",\"october\",\"november\",\"december\"]"
      ],
      "execution_count": null,
      "outputs": []
    },
    {
      "cell_type": "code",
      "metadata": {
        "colab": {
          "base_uri": "https://localhost:8080/"
        },
        "id": "0x0Kd8nnhsiS",
        "outputId": "d6a9433f-d558-4f4e-9ca0-64286b50f401"
      },
      "source": [
        "FullLink = []\n",
        "for year in range(2018,2022):\n",
        "  months = months_\n",
        "  if year == 2018:\n",
        "    months = months_[5:-1]\n",
        "  if year == 2021:\n",
        "    months = months_[0:5]\n",
        "  for month in months:\n",
        "    for day in range(1,32):\n",
        "      link = \"https://www.theonion.com/sitemap/\" + str(year) +\"/\" + month + \"/\" +str(day)\n",
        "      FullLink.append(link)\n",
        "print(*FullLink[0:10],sep=\"\\n\")\n",
        "print(*FullLink[-10:-1],sep=\"\\n\")"
      ],
      "execution_count": null,
      "outputs": [
        {
          "output_type": "stream",
          "text": [
            "https://www.theonion.com/sitemap/2018/june/1\n",
            "https://www.theonion.com/sitemap/2018/june/2\n",
            "https://www.theonion.com/sitemap/2018/june/3\n",
            "https://www.theonion.com/sitemap/2018/june/4\n",
            "https://www.theonion.com/sitemap/2018/june/5\n",
            "https://www.theonion.com/sitemap/2018/june/6\n",
            "https://www.theonion.com/sitemap/2018/june/7\n",
            "https://www.theonion.com/sitemap/2018/june/8\n",
            "https://www.theonion.com/sitemap/2018/june/9\n",
            "https://www.theonion.com/sitemap/2018/june/10\n",
            "https://www.theonion.com/sitemap/2021/may/22\n",
            "https://www.theonion.com/sitemap/2021/may/23\n",
            "https://www.theonion.com/sitemap/2021/may/24\n",
            "https://www.theonion.com/sitemap/2021/may/25\n",
            "https://www.theonion.com/sitemap/2021/may/26\n",
            "https://www.theonion.com/sitemap/2021/may/27\n",
            "https://www.theonion.com/sitemap/2021/may/28\n",
            "https://www.theonion.com/sitemap/2021/may/29\n",
            "https://www.theonion.com/sitemap/2021/may/30\n"
          ],
          "name": "stdout"
        }
      ]
    },
    {
      "cell_type": "markdown",
      "metadata": {
        "id": "8Z9pYq_3lYL8"
      },
      "source": [
        "### b) Thử nghiệm 1 link"
      ]
    },
    {
      "cell_type": "code",
      "metadata": {
        "colab": {
          "base_uri": "https://localhost:8080/"
        },
        "id": "fEuIW9CClcqo",
        "outputId": "1eda5c15-c824-4c15-aea3-7630458622a6"
      },
      "source": [
        "# Thử tìm thử trong một Category\n",
        "response = requests.get(\"https://www.theonion.com/sitemap/2021/may/26\")\n",
        "soup = BeautifulSoup(response.content, \"html.parser\")\n",
        "# Check và thấy rằng mỗi paper đều nằm trong một thẻ dev và có chung class:\"item-details\"\n",
        "papers = soup.findAll('h4', class_='sc-1w8kdgf-1 bwRmiu js_sitemap-article')\n",
        "for paper in papers:\n",
        "  print(paper)\n",
        "  # # Kiểm tra và thấy link của bài báo nằm ở trong thẻ a thuộc tính href\n",
        "  # link = paper.find('a').attrs[\"href\"]\n",
        "  # # Kiểm tra và thấy tiêu đề của bài báo nằm trong thẻ a thuộc tính title\n",
        "  # title = paper.find('a').attrs[\"title\"]\n",
        "  # # Loại bỏ link ko thuộc chủ đè\n",
        "  # time = paper.find('time').attrs[\"datetime\"]\n",
        "  # if curentcategory[40:] not in link:\n",
        "  #   break\n",
        "  # # Thử in ra màn hình\n",
        "  # print(time[:10])\n",
        "  # print(title + \",\"+link+\",1\")"
      ],
      "execution_count": null,
      "outputs": [
        {
          "output_type": "stream",
          "text": [
            "<h4 class=\"sc-1w8kdgf-1 bwRmiu js_sitemap-article\"><a href=\"https://www.theonion.com/5-things-to-know-about-belarus-leader-diverting-a-ryan-1846976357\">5 Things To Know About Belarus’ Leader Diverting A Ryanair Flight</a></h4>\n",
            "<h4 class=\"sc-1w8kdgf-1 bwRmiu js_sitemap-article\"><a href=\"https://www.theonion.com/ask-the-onion-how-to-go-zero-waste-1846964890\">Ask ‘The Onion’: How To Go Zero Waste</a></h4>\n",
            "<h4 class=\"sc-1w8kdgf-1 bwRmiu js_sitemap-article\"><a href=\"https://www.theonion.com/no-way-to-prevent-this-says-only-nation-where-this-r-1846975039\">‘No Way To Prevent This,’ Says Only Nation Where This Regularly Happens</a></h4>\n",
            "<h4 class=\"sc-1w8kdgf-1 bwRmiu js_sitemap-article\"><a href=\"https://www.theonion.com/biden-putin-to-hold-summit-in-geneva-1846974763\">Biden, Putin To Hold Summit In Geneva</a></h4>\n",
            "<h4 class=\"sc-1w8kdgf-1 bwRmiu js_sitemap-article\"><a href=\"https://www.theonion.com/therapy-myth-vs-fact-1846968446\">Therapy: Myth Vs. Fact</a></h4>\n",
            "<h4 class=\"sc-1w8kdgf-1 bwRmiu js_sitemap-article\"><a href=\"https://www.theonion.com/man-with-family-tattooed-across-chest-forbidden-to-co-1846965699\">Man With ‘Family’ Tattooed Across Chest Forbidden To Come Within 500 Feet Of His Wife</a></h4>\n",
            "<h4 class=\"sc-1w8kdgf-1 bwRmiu js_sitemap-article\"><a href=\"https://www.theonion.com/surgeon-totally-blanks-on-what-he-cut-open-patient-for-1846965502\">Surgeon Totally Blanks On What He Cut Open Patient For</a></h4>\n",
            "<h4 class=\"sc-1w8kdgf-1 bwRmiu js_sitemap-article\"><a href=\"https://www.theonion.com/unexpected-crunch-prompts-woman-to-take-roll-call-of-te-1846937222\">Unexpected Crunch Prompts Woman To Take Roll Call Of Teeth With Tip Of Tongue</a></h4>\n",
            "<h4 class=\"sc-1w8kdgf-1 bwRmiu js_sitemap-article\"><a href=\"https://www.theonion.com/critics-warn-15-wage-will-force-mcdonald-s-to-replace-1846967163\">Critics Warn $15 Wage Will Force McDonald’s To Replace Burger Patties With Robots</a></h4>\n"
          ],
          "name": "stdout"
        }
      ]
    },
    {
      "cell_type": "markdown",
      "metadata": {
        "id": "ZKIf3xeinWHR"
      },
      "source": [
        "* nhận xét: dữ liệu cần lấy nằm trong thẻ a, lấy thôi"
      ]
    },
    {
      "cell_type": "code",
      "metadata": {
        "colab": {
          "base_uri": "https://localhost:8080/"
        },
        "id": "HLDzyEkwlXk7",
        "outputId": "537621bf-dd62-4375-f395-657a418b1200"
      },
      "source": [
        "response = requests.get(\"https://www.theonion.com/sitemap/2021/may/26\")\n",
        "soup = BeautifulSoup(response.content, \"html.parser\")\n",
        "# Check và thấy rằng mỗi paper đều nằm trong một thẻ dev và có chung class:\"item-details\"\n",
        "papers = soup.findAll('h4', class_='sc-1w8kdgf-1 bwRmiu js_sitemap-article')\n",
        "for paper in papers:\n",
        "  link = paper.find('a').attrs[\"href\"]\n",
        "  title = paper.find('a').text.lower()\n",
        "  print(link,title,1 )"
      ],
      "execution_count": null,
      "outputs": [
        {
          "output_type": "stream",
          "text": [
            "https://www.theonion.com/5-things-to-know-about-belarus-leader-diverting-a-ryan-1846976357 5 things to know about belarus’ leader diverting a ryanair flight 1\n",
            "https://www.theonion.com/ask-the-onion-how-to-go-zero-waste-1846964890 ask ‘the onion’: how to go zero waste 1\n",
            "https://www.theonion.com/no-way-to-prevent-this-says-only-nation-where-this-r-1846975039 ‘no way to prevent this,’ says only nation where this regularly happens 1\n",
            "https://www.theonion.com/biden-putin-to-hold-summit-in-geneva-1846974763 biden, putin to hold summit in geneva 1\n",
            "https://www.theonion.com/therapy-myth-vs-fact-1846968446 therapy: myth vs. fact 1\n",
            "https://www.theonion.com/man-with-family-tattooed-across-chest-forbidden-to-co-1846965699 man with ‘family’ tattooed across chest forbidden to come within 500 feet of his wife 1\n",
            "https://www.theonion.com/surgeon-totally-blanks-on-what-he-cut-open-patient-for-1846965502 surgeon totally blanks on what he cut open patient for 1\n",
            "https://www.theonion.com/unexpected-crunch-prompts-woman-to-take-roll-call-of-te-1846937222 unexpected crunch prompts woman to take roll call of teeth with tip of tongue 1\n",
            "https://www.theonion.com/critics-warn-15-wage-will-force-mcdonald-s-to-replace-1846967163 critics warn $15 wage will force mcdonald’s to replace burger patties with robots 1\n"
          ],
          "name": "stdout"
        }
      ]
    },
    {
      "cell_type": "markdown",
      "metadata": {
        "id": "pBNJOlpQoMOs"
      },
      "source": [
        "### c) Tìm trên cả tập link"
      ]
    },
    {
      "cell_type": "code",
      "metadata": {
        "id": "_p1Wv4nsoY70"
      },
      "source": [
        "article_link = []\n",
        "headline = []\n",
        "for linkSiteMap in FullLink:\n",
        "  response = requests.get(linkSiteMap)\n",
        "  soup = BeautifulSoup(response.content, \"html.parser\")\n",
        "  # Check và thấy rằng mỗi paper đều nằm trong một thẻ dev và có chung class:\"item-details\"\n",
        "  papers = soup.findAll('h4', class_='sc-1w8kdgf-1 bwRmiu js_sitemap-article')\n",
        "  for paper in papers:\n",
        "    link = paper.find('a').attrs[\"href\"]\n",
        "    title = paper.find('a').text.lower()\n",
        "    article_link.append(link)\n",
        "    headline.append(title)"
      ],
      "execution_count": null,
      "outputs": []
    },
    {
      "cell_type": "code",
      "metadata": {
        "colab": {
          "base_uri": "https://localhost:8080/"
        },
        "id": "ZORRWm2FqgCN",
        "outputId": "e2243aba-3dc5-450a-d32c-c948ff07793d"
      },
      "source": [
        "import pandas as pd\n",
        "FullData1 = pd.DataFrame(columns= ['article_link', 'headline', 'is_sarcastic'])\n",
        "FullData1['article_link'] = article_link\n",
        "FullData1['headline'] = headline\n",
        "FullData1['is_sarcastic'] = 1\n",
        "FullData1"
      ],
      "execution_count": null,
      "outputs": [
        {
          "output_type": "execute_result",
          "data": {
            "text/html": [
              "<div>\n",
              "<style scoped>\n",
              "    .dataframe tbody tr th:only-of-type {\n",
              "        vertical-align: middle;\n",
              "    }\n",
              "\n",
              "    .dataframe tbody tr th {\n",
              "        vertical-align: top;\n",
              "    }\n",
              "\n",
              "    .dataframe thead th {\n",
              "        text-align: right;\n",
              "    }\n",
              "</style>\n",
              "<table border=\"1\" class=\"dataframe\">\n",
              "  <thead>\n",
              "    <tr style=\"text-align: right;\">\n",
              "      <th></th>\n",
              "      <th>article_link</th>\n",
              "      <th>headline</th>\n",
              "      <th>is_sarcastic</th>\n",
              "    </tr>\n",
              "  </thead>\n",
              "  <tbody>\n",
              "    <tr>\n",
              "      <th>0</th>\n",
              "      <td>https://www.theonion.com/dying-cat-mercifully-...</td>\n",
              "      <td>dying cat mercifully put down garbage disposal</td>\n",
              "      <td>1</td>\n",
              "    </tr>\n",
              "    <tr>\n",
              "      <th>1</th>\n",
              "      <td>https://www.theonion.com/washed-up-former-spel...</td>\n",
              "      <td>washed-up former spelling bee champion sitting...</td>\n",
              "      <td>1</td>\n",
              "    </tr>\n",
              "    <tr>\n",
              "      <th>2</th>\n",
              "      <td>https://www.theonion.com/trump-boys-construct-...</td>\n",
              "      <td>trump boys construct fake melania for lonely f...</td>\n",
              "      <td>1</td>\n",
              "    </tr>\n",
              "    <tr>\n",
              "      <th>3</th>\n",
              "      <td>https://www.theonion.com/25-000-neti-pots-reca...</td>\n",
              "      <td>25,000 neti pots recalled after defect causes ...</td>\n",
              "      <td>1</td>\n",
              "    </tr>\n",
              "    <tr>\n",
              "      <th>4</th>\n",
              "      <td>https://www.theonion.com/botanic-garden-forced...</td>\n",
              "      <td>botanic garden forced to euthanize rose bush t...</td>\n",
              "      <td>1</td>\n",
              "    </tr>\n",
              "    <tr>\n",
              "      <th>...</th>\n",
              "      <td>...</td>\n",
              "      <td>...</td>\n",
              "      <td>...</td>\n",
              "    </tr>\n",
              "    <tr>\n",
              "      <th>8534</th>\n",
              "      <td>https://www.theonion.com/nation-pauses-to-refl...</td>\n",
              "      <td>nation pauses to reflect on heroic sacrifices ...</td>\n",
              "      <td>1</td>\n",
              "    </tr>\n",
              "    <tr>\n",
              "      <th>8535</th>\n",
              "      <td>https://www.theonion.com/mario-golf-producer-d...</td>\n",
              "      <td>mario golf producer defends choice to use cgi ...</td>\n",
              "      <td>1</td>\n",
              "    </tr>\n",
              "    <tr>\n",
              "      <th>8536</th>\n",
              "      <td>https://www.theonion.com/use-this-checklist-to...</td>\n",
              "      <td>use this checklist to build the ultimate bug-o...</td>\n",
              "      <td>1</td>\n",
              "    </tr>\n",
              "    <tr>\n",
              "      <th>8537</th>\n",
              "      <td>https://www.theonion.com/bob-baffert-once-agai...</td>\n",
              "      <td>bob baffert once again denies doping allegatio...</td>\n",
              "      <td>1</td>\n",
              "    </tr>\n",
              "    <tr>\n",
              "      <th>8538</th>\n",
              "      <td>https://www.theonion.com/university-names-coll...</td>\n",
              "      <td>university names college of fine arts after ch...</td>\n",
              "      <td>1</td>\n",
              "    </tr>\n",
              "  </tbody>\n",
              "</table>\n",
              "<p>8539 rows × 3 columns</p>\n",
              "</div>"
            ],
            "text/plain": [
              "                                           article_link  ... is_sarcastic\n",
              "0     https://www.theonion.com/dying-cat-mercifully-...  ...            1\n",
              "1     https://www.theonion.com/washed-up-former-spel...  ...            1\n",
              "2     https://www.theonion.com/trump-boys-construct-...  ...            1\n",
              "3     https://www.theonion.com/25-000-neti-pots-reca...  ...            1\n",
              "4     https://www.theonion.com/botanic-garden-forced...  ...            1\n",
              "...                                                 ...  ...          ...\n",
              "8534  https://www.theonion.com/nation-pauses-to-refl...  ...            1\n",
              "8535  https://www.theonion.com/mario-golf-producer-d...  ...            1\n",
              "8536  https://www.theonion.com/use-this-checklist-to...  ...            1\n",
              "8537  https://www.theonion.com/bob-baffert-once-agai...  ...            1\n",
              "8538  https://www.theonion.com/university-names-coll...  ...            1\n",
              "\n",
              "[8539 rows x 3 columns]"
            ]
          },
          "metadata": {
            "tags": []
          },
          "execution_count": 56
        }
      ]
    },
    {
      "cell_type": "markdown",
      "metadata": {
        "id": "ZgeD8f5drnDW"
      },
      "source": [
        "### d) Save to .CSV"
      ]
    },
    {
      "cell_type": "code",
      "metadata": {
        "colab": {
          "base_uri": "https://localhost:8080/"
        },
        "id": "t1yIAqB8rnDY",
        "outputId": "85f13835-d5f4-4b84-9c44-28769ae4f89e"
      },
      "source": [
        "from google.colab import drive\n",
        "drive.mount('/content/drive')\n",
        "FullData0.to_csv(r'/content/drive/MyDrive/Colab Notebooks/DATA_ML/TheOnion.csv', index = False, header=False)"
      ],
      "execution_count": null,
      "outputs": [
        {
          "output_type": "stream",
          "text": [
            "Drive already mounted at /content/drive; to attempt to forcibly remount, call drive.mount(\"/content/drive\", force_remount=True).\n"
          ],
          "name": "stdout"
        }
      ]
    },
    {
      "cell_type": "markdown",
      "metadata": {
        "id": "o4P4iN5kie7B"
      },
      "source": [
        "## 2. [The Betoota Advocate](https://www.betootaadvocate.com/)\n",
        "** Ý tưởng:\n",
        "- Bước 1 lấy link của các thể loại [trên thanh menu] có trên web\n",
        "- bước 2 truy cập từng thu mục lấy các bài về\n",
        "\n",
        "** Bài viết tham khảo:\n",
        "[Cùng Python Crawl Dữ Liệu Để Tạo Bài Báo Nhanh](https://codelearn.io/sharing/python-crawl-du-lieu-tao-bai-bao-nhanh?fbclid=IwAR2Y1Dufc9GACkdnvZVZLX8V_qIsHZxFJOt-kAYlSHtx0Si6TpN6gsEzsJ8)\n"
      ]
    },
    {
      "cell_type": "markdown",
      "metadata": {
        "id": "D1jyM4IGBxyq"
      },
      "source": [
        "### Bước 1 lấy link của các thể loại [trên thanh menu] có trên web"
      ]
    },
    {
      "cell_type": "code",
      "metadata": {
        "colab": {
          "base_uri": "https://localhost:8080/"
        },
        "id": "yn-9iUkMlp-D",
        "outputId": "82ebd035-9443-4584-9516-734c3ab30b19"
      },
      "source": [
        "# Import thư viện\n",
        "import requests\n",
        "from bs4 import BeautifulSoup\n",
        "# Load request từ trang chủ tờ báo\n",
        "response = requests.get(\"https://www.betootaadvocate.com/\")\n",
        "# Lấy Source HTML vừa request\n",
        "soup = BeautifulSoup(response.content, \"html.parser\")\n",
        "# Check source HTML thì thấy những \"Thể loại\" nằm trong thẻ li, class = 'menu-item-object-category' ---> Lọc ngay chần chừ gì nữa\n",
        "category = soup.findAll('li', class_='menu-item-object-category')\n",
        "# Mà ta chỉ cần lấy link thôi! Link thì nằm trong thẻ a thuộc tính href ---> Lọc ra \n",
        "CategoryLinks = set(link.find('a').attrs[\"href\"] for link in category)\n",
        "# In thành quả\n",
        "print(*CategoryLinks, sep=\"\\n\")"
      ],
      "execution_count": null,
      "outputs": [
        {
          "output_type": "stream",
          "text": [
            "https://www.betootaadvocate.com/category/entertainment/\n",
            "https://www.betootaadvocate.com/category/sports/\n",
            "https://www.betootaadvocate.com/category/humans-of-betoota/\n",
            "https://www.betootaadvocate.com/category/breaking-news/\n",
            "https://www.betootaadvocate.com/category/advocate-in-focus/\n",
            "https://www.betootaadvocate.com/category/world-news/\n",
            "https://www.betootaadvocate.com/category/uncategorized/\n"
          ],
          "name": "stdout"
        }
      ]
    },
    {
      "cell_type": "markdown",
      "metadata": {
        "id": "dpvycMLFB2Wm"
      },
      "source": [
        "### Bước 2 truy cập từng thu mục lấy các bài về"
      ]
    },
    {
      "cell_type": "markdown",
      "metadata": {
        "id": "3DDId618B6Sv"
      },
      "source": [
        "#### a) Phân tích thử một mục"
      ]
    },
    {
      "cell_type": "code",
      "metadata": {
        "colab": {
          "base_uri": "https://localhost:8080/"
        },
        "id": "XhAOIYvSoNg4",
        "outputId": "198d0b48-c75a-42cf-9e85-fb95faf46bae"
      },
      "source": [
        "# Thử tìm thử trong một Category\n",
        "curentcategory = 'https://www.betootaadvocate.com/category/breaking-news/'\n",
        "response = requests.get(\"https://www.betootaadvocate.com/category/breaking-news/page/16/\")\n",
        "soup = BeautifulSoup(response.content, \"html.parser\")\n",
        "# Check và thấy rằng mỗi paper đều nằm trong một thẻ dev và có chung class:\"item-details\"\n",
        "papers = soup.findAll('div', class_='item-details')\n",
        "\n",
        "for paper in papers:\n",
        "  # Kiểm tra và thấy link của bài báo nằm ở trong thẻ a thuộc tính href\n",
        "  link = paper.find('a').attrs[\"href\"]\n",
        "  # Kiểm tra và thấy tiêu đề của bài báo nằm trong thẻ a thuộc tính title\n",
        "  title = paper.find('a').attrs[\"title\"]\n",
        "  # Loại bỏ link ko thuộc chủ đè\n",
        "  time = paper.find('time').attrs[\"datetime\"]\n",
        "  if curentcategory[40:] not in link:\n",
        "    break\n",
        "  # Thử in ra màn hình\n",
        "  print(time[:10])\n",
        "  print(title + \",\"+link+\",1\")"
      ],
      "execution_count": null,
      "outputs": [
        {
          "output_type": "stream",
          "text": [
            "2020-12-17\n",
            "Nan’s UNO Victory Foiled By Hypercompetitive Adult Grandson Calling Her Out For Not Saying UNO,https://www.betootaadvocate.com/breaking-news/nans-uno-victory-foiled-by-hypercompetitive-adult-grandson-calling-her-out-for-not-saying-uno/,1\n",
            "2020-12-17\n",
            "The Rest Of Australia Tells Sydney’s Northern Beaches To Keep That Fucking Bridge Up,https://www.betootaadvocate.com/breaking-news/australia-tells-sydneys-northern-beaches-to-keep-that-fucking-bridge-up/,1\n",
            "2020-12-15\n",
            "Aussie Film Industry Secures Major Coup With Next Jurassic Park To Be Filmed In Sky News Studio,https://www.betootaadvocate.com/breaking-news/aussie-film-industry-secures-major-coup-with-next-jurassic-park-to-be-filmed-in-sky-news-studio/,1\n",
            "2020-12-15\n",
            "Chinese Trade War Results In Critical Shortage Of Single-Use Power Tools,https://www.betootaadvocate.com/breaking-news/chinese-trade-war-results-in-critical-shortage-of-single-use-power-tools/,1\n",
            "2020-12-14\n",
            "Officeworks Really Doing Their Best To Spoil The Remaining School Holidays,https://www.betootaadvocate.com/breaking-news/officeworks-really-doing-their-best-to-spoil-the-remaining-school-holidays-2/,1\n",
            "2020-12-14\n",
            "“I Don’t Really Burn,” Says Local Moron About To Be Burnt,https://www.betootaadvocate.com/breaking-news/i-dont-really-burn-says-local-moron-about-to-be-burnt/,1\n",
            "2020-12-13\n",
            "Local Bushie Casually Flicks Away Huntsman Spider With His Bare Hand,https://www.betootaadvocate.com/breaking-news/local-bushie-flicks-away-huntsman-spider-with-his-bare-hand/,1\n",
            "2020-12-13\n",
            "Aboriginal Flags At Half Mast After American Country Music Singer Charley Pride Dies Aged 86,https://www.betootaadvocate.com/breaking-news/aboriginal-flags-at-half-mast-after-american-country-music-singer-charley-pride-dies-aged-86/,1\n",
            "2020-12-13\n",
            "Morning Stroll Ruined As Woman Suddenly Becomes Aware She Can’t Separate Toes In Shoes,https://www.betootaadvocate.com/breaking-news/morning-stroll-ruined-as-woman-suddenly-becomes-aware-she-cant-separate-toes-in-shoes/,1\n",
            "2020-12-12\n",
            "Stoner Share House Decides Which Decorations Will Hang In Their Home Until May,https://www.betootaadvocate.com/breaking-news/stoner-share-house-decides-which-decorations-will-hang-in-their-home-until-may/,1\n"
          ],
          "name": "stdout"
        }
      ]
    },
    {
      "cell_type": "markdown",
      "metadata": {
        "id": "iE7WCUr9jR11"
      },
      "source": [
        "#### b) PHÂN TÍCH ĐÃ XONG, GỘP LẠI -> CRAWL CẢ TRANG NÀO"
      ]
    },
    {
      "cell_type": "code",
      "metadata": {
        "id": "x-Qni8XwjvKt"
      },
      "source": [
        "# Thuật toán check thời gian 3 năm trở lại\n",
        "# vì định dạng ngày tháng ở trên theo năm, tháng, ngày \n",
        "def checkTime(time):\n",
        "  now3year = \"2018-06-10\"\n",
        "  return time>=now3year"
      ],
      "execution_count": null,
      "outputs": []
    },
    {
      "cell_type": "code",
      "metadata": {
        "id": "rcNGTJjfjaWb"
      },
      "source": [
        "article_link = []\n",
        "headline = []\n",
        "for categorylink in CategoryLinks:\n",
        "  number = 0\n",
        "  count = 0\n",
        "  while True:\n",
        "    try:\n",
        "      number += 1\n",
        "      curentcategory = categorylink + \"page/\" + str(number) + \"/\";\n",
        "      # Thử tìm thử trong một Category\n",
        "      response = requests.get(curentcategory)\n",
        "      soup = BeautifulSoup(response.content, \"html.parser\")\n",
        "      # Check và thấy rằng mỗi paper đều nằm trong một thẻ dev và có chung class:\"item-details\"\n",
        "      papers = soup.findAll('div', class_='item-details')\n",
        "      # Dừng khi ko trang request ko có bài báo nào\n",
        "      if len(papers) == 0:\n",
        "        break\n",
        "      for paper in papers:\n",
        "        # Kiểm tra và thấy link của bài báo nằm ở trong thẻ a thuộc tính href\n",
        "        link = paper.find('a').attrs[\"href\"]\n",
        "        # Kiểm tra và thấy tiêu đề của bài báo nằm trong thẻ a thuộc tính title\n",
        "        title = paper.find('a').attrs[\"title\"].lower()\n",
        "        # Kiểm tra phải viết 3 năm trở lại đây không\n",
        "        time = paper.find('time').attrs[\"datetime\"]\n",
        "        if not checkTime(time):\n",
        "          break\n",
        "        # Loại bỏ link ko thuộc chủ đè\n",
        "        if (categorylink[40:] not in link) or (link in article_link):\n",
        "          break\n",
        "        # Thử in ra màn hình\n",
        "        article_link.append(link)\n",
        "        headline.append(title)\n",
        "    except:\n",
        "      break"
      ],
      "execution_count": null,
      "outputs": []
    },
    {
      "cell_type": "code",
      "metadata": {
        "id": "btakDM-egHYF"
      },
      "source": [
        "import pandas as pd\n",
        "FullData2 = pd.DataFrame(columns= ['article_link', 'headline', 'is_sarcastic'])\n",
        "FullData2['article_link'] = article_link\n",
        "FullData2['headline'] = headline\n",
        "FullData2['is_sarcastic'] = 1"
      ],
      "execution_count": null,
      "outputs": []
    },
    {
      "cell_type": "markdown",
      "metadata": {
        "id": "5sgxYBih1F19"
      },
      "source": [
        "#### c) Save to .CSV"
      ]
    },
    {
      "cell_type": "code",
      "metadata": {
        "colab": {
          "base_uri": "https://localhost:8080/"
        },
        "id": "ObFJBi_ySu96",
        "outputId": "69415f62-a0f7-4299-c442-82fd99813a89"
      },
      "source": [
        "from google.colab import drive\n",
        "drive.mount('/content/drive')\n",
        "FullData2.to_csv(r'/content/drive/MyDrive/Colab Notebooks/DATA_ML/thebetootaadvocate_com.csv', index = False, header=False)"
      ],
      "execution_count": null,
      "outputs": [
        {
          "output_type": "stream",
          "text": [
            "Drive already mounted at /content/drive; to attempt to forcibly remount, call drive.mount(\"/content/drive\", force_remount=True).\n"
          ],
          "name": "stdout"
        }
      ]
    },
    {
      "cell_type": "markdown",
      "metadata": {
        "id": "jj9U4gCupfxD"
      },
      "source": [
        "## 3. [World News Daily Report](https://worldnewsdailyreport.com/)\n",
        "Kế thừa ý tưởng từ Crawl web [The Betoota Advocate](https://www.betootaadvocate.com/)\n"
      ]
    },
    {
      "cell_type": "markdown",
      "metadata": {
        "id": "gi54frnO0eIj"
      },
      "source": [
        "### Bước 1 lấy link của các thể loại [trên thanh menu] có trên web"
      ]
    },
    {
      "cell_type": "code",
      "metadata": {
        "colab": {
          "base_uri": "https://localhost:8080/"
        },
        "id": "4n_gBJk40eJS",
        "outputId": "d9492dfc-667e-4ccf-8299-7e19182554f4"
      },
      "source": [
        "# Import thư viện\n",
        "import requests\n",
        "from bs4 import BeautifulSoup\n",
        "# Load request từ trang chủ tờ báo\n",
        "response = requests.get(\"https://worldnewsdailyreport.com/\")\n",
        "# Lấy Source HTML vừa request\n",
        "soup = BeautifulSoup(response.content, \"html.parser\")\n",
        "# Check source HTML thì thấy những \"Thể loại\" nằm trong thẻ li, class = 'menu-item-object-category' ---> Lọc ngay chần chừ gì nữa\n",
        "category = soup.findAll('li', class_='menu-item-object-category')\n",
        "# Mà ta chỉ cần lấy link thôi! Link thì nằm trong thẻ a thuộc tính href ---> Lọc ra \n",
        "CategoryLinks = set(link.find('a').attrs[\"href\"] for link in category)\n",
        "# In thành quả\n",
        "print(*CategoryLinks, sep=\"\\n\")"
      ],
      "execution_count": 1,
      "outputs": [
        {
          "output_type": "stream",
          "text": [
            "https://worldnewsdailyreport.com/category/crime-2/\n",
            "https://worldnewsdailyreport.com/category/game/\n",
            "https://worldnewsdailyreport.com/category/society/justice/\n",
            "https://worldnewsdailyreport.com/category/health/disease-health/\n",
            "https://worldnewsdailyreport.com/category/pregnancy/\n",
            "https://worldnewsdailyreport.com/category/industry/\n",
            "https://worldnewsdailyreport.com/category/lawsuit-2/\n",
            "https://worldnewsdailyreport.com/category/olympics/\n",
            "https://worldnewsdailyreport.com/category/food-2/\n",
            "https://worldnewsdailyreport.com/category/politics/\n",
            "https://worldnewsdailyreport.com/category/mental-illness-2/\n",
            "https://worldnewsdailyreport.com/category/controversy/\n",
            "https://worldnewsdailyreport.com/category/celebrities/\n",
            "https://worldnewsdailyreport.com/category/fashion/\n",
            "https://worldnewsdailyreport.com/category/sports/\n",
            "https://worldnewsdailyreport.com/category/people/\n",
            "https://worldnewsdailyreport.com/category/health/\n",
            "https://worldnewsdailyreport.com/category/economy/\n",
            "https://worldnewsdailyreport.com/category/professional-sport/\n",
            "https://worldnewsdailyreport.com/category/science/\n",
            "https://worldnewsdailyreport.com/category/tragedy/\n",
            "https://worldnewsdailyreport.com/category/archeology/\n",
            "https://worldnewsdailyreport.com/category/international-events/\n",
            "https://worldnewsdailyreport.com/category/feminine-hygiene-2/\n",
            "https://worldnewsdailyreport.com/category/history/\n",
            "https://worldnewsdailyreport.com/category/business/\n",
            "https://worldnewsdailyreport.com/category/science/technology/\n",
            "https://worldnewsdailyreport.com/category/tourism/\n",
            "https://worldnewsdailyreport.com/category/accident-2/\n",
            "https://worldnewsdailyreport.com/category/entertainment/\n",
            "https://worldnewsdailyreport.com/category/happiness/\n",
            "https://worldnewsdailyreport.com/category/weird/\n",
            "https://worldnewsdailyreport.com/category/religion/\n",
            "https://worldnewsdailyreport.com/category/ufo-2/\n",
            "https://worldnewsdailyreport.com/category/genetics-2/\n",
            "https://worldnewsdailyreport.com/category/society/\n",
            "https://worldnewsdailyreport.com/category/family/\n",
            "https://worldnewsdailyreport.com/category/terrorism-2/\n",
            "https://worldnewsdailyreport.com/category/science/environment/\n",
            "https://worldnewsdailyreport.com/category/paranormal-2/\n",
            "https://worldnewsdailyreport.com/category/science/paleontology/\n",
            "https://worldnewsdailyreport.com/category/sexuality/\n"
          ],
          "name": "stdout"
        }
      ]
    },
    {
      "cell_type": "markdown",
      "metadata": {
        "id": "4tku8kXx0eJY"
      },
      "source": [
        "### Bước 2 truy cập từng thu mục lấy các bài về"
      ]
    },
    {
      "cell_type": "markdown",
      "metadata": {
        "id": "_PmGDFWi0eJZ"
      },
      "source": [
        "#### a) Phân tích thử một mục"
      ]
    },
    {
      "cell_type": "code",
      "metadata": {
        "colab": {
          "base_uri": "https://localhost:8080/"
        },
        "id": "eU01ZIs90eJb",
        "outputId": "105f15fc-31e1-44a5-edfb-6ac2e18f6989"
      },
      "source": [
        "# Thử tìm thử trong một Category\n",
        "response = requests.get(\"https://worldnewsdailyreport.com/category/people/page/2/\")\n",
        "soup = BeautifulSoup(response.content, \"html.parser\")\n",
        "# Check và thấy rằng mỗi paper đều nằm trong một thẻ dev và có chung class:\"item-details\"\n",
        "papers = soup.findAll('h3', class_='entry-title content-list-title')\n",
        "\n",
        "for paper in papers:\n",
        "  # Kiểm tra và thấy link của bài báo nằm ở trong thẻ a thuộc tính href\n",
        "  link = paper.find('a').attrs[\"href\"]\n",
        "  # Kiểm tra và thấy tiêu đề của bài báo nằm trong thẻ a thuộc tính title\n",
        "  title = paper.find('a').attrs[\"title\"]\n",
        "  # Thử in ra màn hình\n",
        "  print(title + \",\"+link+\",1\")"
      ],
      "execution_count": 2,
      "outputs": [
        {
          "output_type": "stream",
          "text": [
            "San Francisco man requires 176 stitches to anus after boyfriend used jackhammer as sex toy,https://worldnewsdailyreport.com/san-francisco-man-requires-176-stitches-to-anus-after-boyfriend-used-jackhammer-as-sex-toy/,1\n",
            "Burglar sues homeowner after being raped by German shepherds while stuck in house’s pet door,https://worldnewsdailyreport.com/burglar-sues-homeowner-after-being-raped-by-german-shepherds-while-stuck-in-houses-pet-door/,1\n",
            "Man turns himself in to police for killing his inflatable sex doll girlfriend, claims mental illness,https://worldnewsdailyreport.com/man-turns-himself-in-to-police-for-killing-his-inflatable-sex-doll-girlfriend-claims-mental-illness/,1\n",
            "Utah woman arrested for secretly putting penis enlargement drugs in her husband’s food for years,https://worldnewsdailyreport.com/utah-woman-arrested-for-secretly-putting-penis-enlargement-drugs-in-her-husbands-food-for-years/,1\n",
            "California man sues his parents for $1,8M for dressing him up as a girl up to the age of 14,https://worldnewsdailyreport.com/california-man-sues-his-parents-for-18m-for-dressing-him-up-as-a-girl-up-to-the-age-of-14/,1\n",
            "Woman sues USPS for $1,1M in child support after having 6 children from 5 different mailmen,https://worldnewsdailyreport.com/woman-sues-usps-for-11m-in-child-support-after-having-6-children-from-5-different-mailmen/,1\n",
            "New Zealand farmer jailed after sexually transmitting coronavirus to flock of 400 sheep,https://worldnewsdailyreport.com/new-zealand-farmer-jailed-after-sexually-transmitting-coronavirus-to-flock-of-400-sheep/,1\n",
            "Utah family claims 15-year-old son turned gay after 5G cell phone tower was installed near home,https://worldnewsdailyreport.com/utah-family-claims-15-year-old-son-turned-gay-after-5g-cell-phone-tower-was-installed-near-home/,1\n",
            "Two gorillas at San Diego Zoo test positive for COVID-19 after being sexually assaulted by drunk woman,https://worldnewsdailyreport.com/two-gorillas-at-san-diego-zoo-safari-park-test-positive-for-covid-19-after-being-sexually-assaulted-by-drunk-woman/,1\n",
            "Man with sexual fetish about nasal swabs banned from COVID testing after 192 negative tests,https://worldnewsdailyreport.com/man-with-sexual-fetish-about-nasal-swabs-banned-from-covid-testing-after-192-negative-tests/,1\n"
          ],
          "name": "stdout"
        }
      ]
    },
    {
      "cell_type": "markdown",
      "metadata": {
        "id": "a9TUpgn80eJe"
      },
      "source": [
        "#### b) PHÂN TÍCH ĐÃ XONG, GỘP LẠI -> CRAWL CẢ TRANG NÀO"
      ]
    },
    {
      "cell_type": "markdown",
      "metadata": {
        "id": "8JizbPsiMWKk"
      },
      "source": [
        "##### Hàm check thời gian "
      ]
    },
    {
      "cell_type": "code",
      "metadata": {
        "id": "glzUPJ630eJf"
      },
      "source": [
        "# Thuật toán check thời gian 3 năm trở lại\n",
        "# Khác với bài trên, với trang web này thì không hiển thị ngày tháng bên ngoài bản tóm tắt tìm được\n",
        "# mà cũng không thể hiện trên màn hình khi truy cập nhưng lại nằm trong thẻ <meta property=\"article:published_time\" content=\"2015-09-10T20:31:15+00:00\" /> \n",
        "# b1: truy cập vào paper\n",
        "# b2: lấy time\n",
        "def checkTime(linkpaper):\n",
        "  now3year = \"2018-06-10\"\n",
        "  # truy cập paper\n",
        "  response = requests.get(linkpaper)\n",
        "  soup = BeautifulSoup(response.content, \"html.parser\")\n",
        "  # Lấy thẻ meta có chứa thời gian đăng bài\n",
        "  meta = soup.find('meta', attrs={'property': 'article:published_time'})\n",
        "  # lấy nội dung\n",
        "  time = meta.attrs[\"content\"]\n",
        "  # print(time[:10])\n",
        "  time = time[:10]\n",
        "  return time>=now3year"
      ],
      "execution_count": 3,
      "outputs": []
    },
    {
      "cell_type": "markdown",
      "metadata": {
        "id": "e3Le0VXQMlLT"
      },
      "source": [
        "##### Run"
      ]
    },
    {
      "cell_type": "code",
      "metadata": {
        "id": "c_TP9IIs0eJg"
      },
      "source": [
        "article_link = []\n",
        "headline = []\n",
        "for categorylink in CategoryLinks:\n",
        "  number = 0\n",
        "  while True:\n",
        "    try:\n",
        "      number += 1\n",
        "      curentcategory = categorylink + \"page/\" + str(number) + \"/\";\n",
        "      # Thử tìm thử trong một Category\n",
        "      response = requests.get(curentcategory)\n",
        "      soup = BeautifulSoup(response.content, \"html.parser\")\n",
        "      # Check và thấy rằng mỗi paper đều nằm trong một thẻ dev và có chung class:\"item-details\"\n",
        "      papers = soup.findAll('h3', class_='entry-title content-list-title')\n",
        "      # Dừng khi ko trang request ko có bài báo nào\n",
        "      if len(papers) == 0:\n",
        "        break\n",
        "      for paper in papers:\n",
        "        # Kiểm tra và thấy link của bài báo nằm ở trong thẻ a thuộc tính href\n",
        "        link = paper.find('a').attrs[\"href\"]\n",
        "        # Kiểm tra và thấy tiêu đề của bài báo nằm trong thẻ a thuộc tính title\n",
        "        title = paper.find('a').attrs[\"title\"].lower()\n",
        "        # Kiểm tra phải viết 3 năm trở lại đây không\n",
        "        if not checkTime(link):\n",
        "          break\n",
        "        # Loại bỏ link ko thuộc chủ đè\n",
        "        if link in article_link:\n",
        "          break\n",
        "        # Thử in ra màn hình\n",
        "        article_link.append(link)\n",
        "        headline.append(title)\n",
        "    except:\n",
        "      break"
      ],
      "execution_count": 4,
      "outputs": []
    },
    {
      "cell_type": "code",
      "metadata": {
        "colab": {
          "base_uri": "https://localhost:8080/",
          "height": 0
        },
        "id": "ddCo_HNH0eJj",
        "outputId": "efb0c3c5-63ed-4035-b114-07cb4f646549"
      },
      "source": [
        "import pandas as pd\n",
        "FullData3 = pd.DataFrame(columns= ['article_link', 'headline', 'is_sarcastic'])\n",
        "FullData3['article_link'] = article_link\n",
        "FullData3['headline'] = headline\n",
        "FullData3['is_sarcastic'] = 1\n",
        "FullData3"
      ],
      "execution_count": 5,
      "outputs": [
        {
          "output_type": "execute_result",
          "data": {
            "text/html": [
              "<div>\n",
              "<style scoped>\n",
              "    .dataframe tbody tr th:only-of-type {\n",
              "        vertical-align: middle;\n",
              "    }\n",
              "\n",
              "    .dataframe tbody tr th {\n",
              "        vertical-align: top;\n",
              "    }\n",
              "\n",
              "    .dataframe thead th {\n",
              "        text-align: right;\n",
              "    }\n",
              "</style>\n",
              "<table border=\"1\" class=\"dataframe\">\n",
              "  <thead>\n",
              "    <tr style=\"text-align: right;\">\n",
              "      <th></th>\n",
              "      <th>article_link</th>\n",
              "      <th>headline</th>\n",
              "      <th>is_sarcastic</th>\n",
              "    </tr>\n",
              "  </thead>\n",
              "  <tbody>\n",
              "    <tr>\n",
              "      <th>0</th>\n",
              "      <td>https://worldnewsdailyreport.com/woman-runs-ov...</td>\n",
              "      <td>woman runs over husband 17 times with pickup t...</td>\n",
              "      <td>1</td>\n",
              "    </tr>\n",
              "    <tr>\n",
              "      <th>1</th>\n",
              "      <td>https://worldnewsdailyreport.com/police-shut-d...</td>\n",
              "      <td>police shut down christmas mall kiosk after in...</td>\n",
              "      <td>1</td>\n",
              "    </tr>\n",
              "    <tr>\n",
              "      <th>2</th>\n",
              "      <td>https://worldnewsdailyreport.com/convicted-aus...</td>\n",
              "      <td>convicted australian kangaroo rapist arrested ...</td>\n",
              "      <td>1</td>\n",
              "    </tr>\n",
              "    <tr>\n",
              "      <th>3</th>\n",
              "      <td>https://worldnewsdailyreport.com/male-stripper...</td>\n",
              "      <td>male stripper shot 5 times after showing up at...</td>\n",
              "      <td>1</td>\n",
              "    </tr>\n",
              "    <tr>\n",
              "      <th>4</th>\n",
              "      <td>https://worldnewsdailyreport.com/1500-year-old...</td>\n",
              "      <td>1500-year old magical grimoire stolen from ita...</td>\n",
              "      <td>1</td>\n",
              "    </tr>\n",
              "    <tr>\n",
              "      <th>...</th>\n",
              "      <td>...</td>\n",
              "      <td>...</td>\n",
              "      <td>...</td>\n",
              "    </tr>\n",
              "    <tr>\n",
              "      <th>156</th>\n",
              "      <td>https://worldnewsdailyreport.com/florida-teen-...</td>\n",
              "      <td>florida teen stung over 600 times after insert...</td>\n",
              "      <td>1</td>\n",
              "    </tr>\n",
              "    <tr>\n",
              "      <th>157</th>\n",
              "      <td>https://worldnewsdailyreport.com/san-francisco...</td>\n",
              "      <td>san francisco: uber driver admits to being for...</td>\n",
              "      <td>1</td>\n",
              "    </tr>\n",
              "    <tr>\n",
              "      <th>158</th>\n",
              "      <td>https://worldnewsdailyreport.com/a-page-turns-...</td>\n",
              "      <td>a page turns in las vegas’ history: 76-year ol...</td>\n",
              "      <td>1</td>\n",
              "    </tr>\n",
              "    <tr>\n",
              "      <th>159</th>\n",
              "      <td>https://worldnewsdailyreport.com/homeless-mans...</td>\n",
              "      <td>homeless man’s penis ‘snapped in half’ during ...</td>\n",
              "      <td>1</td>\n",
              "    </tr>\n",
              "    <tr>\n",
              "      <th>160</th>\n",
              "      <td>https://worldnewsdailyreport.com/colorado-man-...</td>\n",
              "      <td>colorado man claims he was held 2 weeks as a s...</td>\n",
              "      <td>1</td>\n",
              "    </tr>\n",
              "  </tbody>\n",
              "</table>\n",
              "<p>161 rows × 3 columns</p>\n",
              "</div>"
            ],
            "text/plain": [
              "                                          article_link  ... is_sarcastic\n",
              "0    https://worldnewsdailyreport.com/woman-runs-ov...  ...            1\n",
              "1    https://worldnewsdailyreport.com/police-shut-d...  ...            1\n",
              "2    https://worldnewsdailyreport.com/convicted-aus...  ...            1\n",
              "3    https://worldnewsdailyreport.com/male-stripper...  ...            1\n",
              "4    https://worldnewsdailyreport.com/1500-year-old...  ...            1\n",
              "..                                                 ...  ...          ...\n",
              "156  https://worldnewsdailyreport.com/florida-teen-...  ...            1\n",
              "157  https://worldnewsdailyreport.com/san-francisco...  ...            1\n",
              "158  https://worldnewsdailyreport.com/a-page-turns-...  ...            1\n",
              "159  https://worldnewsdailyreport.com/homeless-mans...  ...            1\n",
              "160  https://worldnewsdailyreport.com/colorado-man-...  ...            1\n",
              "\n",
              "[161 rows x 3 columns]"
            ]
          },
          "metadata": {
            "tags": []
          },
          "execution_count": 5
        }
      ]
    },
    {
      "cell_type": "markdown",
      "metadata": {
        "id": "rPL78kfln8Wi"
      },
      "source": [
        "### 3. CRAWL lại\n",
        "Phương pháp giống với web 4"
      ]
    },
    {
      "cell_type": "code",
      "metadata": {
        "id": "IWDMmIfMol-z"
      },
      "source": [
        "FullLink = []\n",
        "months = range(1,13)\n",
        "for year in range(2018,2022):\n",
        "  if year == 2018:\n",
        "    months = range(6,13)\n",
        "  if year == 2021:\n",
        "    months = range(1,6)\n",
        "  for month in months:\n",
        "    link = \"https://worldnewsdailyreport.com/\" + str(year) +\"/\" + str(month) + \"/\"\n",
        "    FullLink.append(link)\n",
        "print(*FullLink,sep=\"\\n\")"
      ],
      "execution_count": null,
      "outputs": []
    },
    {
      "cell_type": "code",
      "metadata": {
        "id": "yUQf6IfupayT"
      },
      "source": [
        "response = requests.get('https://worldnewsdailyreport.com/2019/page/1')\n",
        "soup = BeautifulSoup(response.content, \"html.parser\")\n",
        "\n",
        "# Check và thấy rằng mỗi paper đều nằm trong một thẻ dev và có chung class:\"item-details\"\n",
        "papers = soup.findAll('h3', class_='entry-title content-list-title')\n",
        "for paper in papers:\n",
        "  try:\n",
        "    # Kiểm tra và thấy link của bài báo nằm ở trong thẻ a thuộc tính href\n",
        "    link = paper.find('a').attrs[\"href\"]\n",
        "    # Kiểm tra và thấy tiêu đề của bài báo nằm trong thẻ a thuộc tính title\n",
        "    title = paper.find('a').attrs[\"title\"].lower()\n",
        "\n",
        "    print(link)\n",
        "    print(title)\n",
        "  except:\n",
        "    continue    "
      ],
      "execution_count": null,
      "outputs": []
    },
    {
      "cell_type": "code",
      "metadata": {
        "id": "IbrGBjRXp_pA"
      },
      "source": [
        "article_link = []\n",
        "headline = []\n",
        "for categorylink in FullLink:\n",
        "  number = 0\n",
        "  while True:\n",
        "    try:\n",
        "      number += 1\n",
        "      curentcategory = categorylink + \"page/\" + str(number) + \"/\";\n",
        "      # Thử tìm thử trong một Category\n",
        "      response = requests.get(curentcategory)\n",
        "      soup = BeautifulSoup(response.content, \"html.parser\")\n",
        "      # Check và thấy rằng mỗi paper đều nằm trong một thẻ dev và có chung class:\"item-details\"\n",
        "      papers = soup.findAll('h3', class_='entry-title content-list-title')\n",
        "      # Dừng khi ko trang request ko có bài báo nào\n",
        "      if len(papers) == 0:\n",
        "        break\n",
        "      for paper in papers:\n",
        "        # Kiểm tra và thấy link của bài báo nằm ở trong thẻ a thuộc tính href\n",
        "        link = paper.find('a').attrs[\"href\"]\n",
        "        # Kiểm tra và thấy tiêu đề của bài báo nằm trong thẻ a thuộc tính title\n",
        "        title = paper.find('a').attrs[\"title\"].lower()\n",
        "\n",
        "        article_link.append(link)\n",
        "        headline.append(title)\n",
        "    except:\n",
        "      break"
      ],
      "execution_count": null,
      "outputs": []
    },
    {
      "cell_type": "code",
      "metadata": {
        "id": "_0hrJCHwq4wq"
      },
      "source": [
        "import pandas as pd\n",
        "FullData3 = pd.DataFrame(columns= ['article_link', 'headline', 'is_sarcastic'])\n",
        "FullData3['article_link'] = article_link\n",
        "FullData3['headline'] = headline\n",
        "FullData3['is_sarcastic'] = 1\n",
        "FullData3"
      ],
      "execution_count": null,
      "outputs": []
    },
    {
      "cell_type": "markdown",
      "metadata": {
        "id": "N8dEaPm_oYZc"
      },
      "source": [
        "### 4. Save CSV"
      ]
    },
    {
      "cell_type": "code",
      "metadata": {
        "id": "MLQDh8cK0eJn",
        "colab": {
          "base_uri": "https://localhost:8080/"
        },
        "outputId": "b18cf73a-1b26-46cc-e4df-85514423d766"
      },
      "source": [
        "from google.colab import drive\n",
        "drive.mount('/content/drive')\n",
        "FullData3.to_csv(r'/content/drive/MyDrive/Colab Notebooks/DATA_ML/WorldNewsDailyReport.csv', index = False, header=False)"
      ],
      "execution_count": 6,
      "outputs": [
        {
          "output_type": "stream",
          "text": [
            "Drive already mounted at /content/drive; to attempt to forcibly remount, call drive.mount(\"/content/drive\", force_remount=True).\n"
          ],
          "name": "stdout"
        }
      ]
    },
    {
      "cell_type": "markdown",
      "metadata": {
        "id": "CJ_CVvWj1sIR"
      },
      "source": [
        "## 4. [NewsBiscuit](http://www.newsbiscuit.com/)\n",
        "** Ý tưởng: Thử truy cập thử vào web thấy các địa chỉ web có ngày tháng, tiến hành kiểm tra thì khá ổn http://www.newsbiscuit.com/2021/06/05/\n",
        "- Tạo link để request\n",
        "- resquest và lấy bài\n"
      ]
    },
    {
      "cell_type": "markdown",
      "metadata": {
        "id": "-vHF77ys_UtS"
      },
      "source": [
        "### Bước 1 Tạo danh sách link request"
      ]
    },
    {
      "cell_type": "code",
      "metadata": {
        "colab": {
          "base_uri": "https://localhost:8080/"
        },
        "id": "ZsySIhNs_UtS",
        "outputId": "aba22043-3baf-42eb-bf9e-441dcd98861c"
      },
      "source": [
        "FullLink = []\n",
        "months = range(1,13)\n",
        "for year in range(2018,2022):\n",
        "  if year == 2018:\n",
        "    months = range(6,13)\n",
        "  if year == 2021:\n",
        "    months = range(1,6)\n",
        "  for month in months:\n",
        "    link = \"http://www.newsbiscuit.com/\" + str(year) +\"/\" + str(month) + \"/\"\n",
        "    FullLink.append(link)\n",
        "print(*FullLink,sep=\"\\n\")"
      ],
      "execution_count": 2,
      "outputs": [
        {
          "output_type": "stream",
          "text": [
            "http://www.newsbiscuit.com/2018/6/\n",
            "http://www.newsbiscuit.com/2018/7/\n",
            "http://www.newsbiscuit.com/2018/8/\n",
            "http://www.newsbiscuit.com/2018/9/\n",
            "http://www.newsbiscuit.com/2018/10/\n",
            "http://www.newsbiscuit.com/2018/11/\n",
            "http://www.newsbiscuit.com/2018/12/\n",
            "http://www.newsbiscuit.com/2019/6/\n",
            "http://www.newsbiscuit.com/2019/7/\n",
            "http://www.newsbiscuit.com/2019/8/\n",
            "http://www.newsbiscuit.com/2019/9/\n",
            "http://www.newsbiscuit.com/2019/10/\n",
            "http://www.newsbiscuit.com/2019/11/\n",
            "http://www.newsbiscuit.com/2019/12/\n",
            "http://www.newsbiscuit.com/2020/6/\n",
            "http://www.newsbiscuit.com/2020/7/\n",
            "http://www.newsbiscuit.com/2020/8/\n",
            "http://www.newsbiscuit.com/2020/9/\n",
            "http://www.newsbiscuit.com/2020/10/\n",
            "http://www.newsbiscuit.com/2020/11/\n",
            "http://www.newsbiscuit.com/2020/12/\n",
            "http://www.newsbiscuit.com/2021/1/\n",
            "http://www.newsbiscuit.com/2021/2/\n",
            "http://www.newsbiscuit.com/2021/3/\n",
            "http://www.newsbiscuit.com/2021/4/\n",
            "http://www.newsbiscuit.com/2021/5/\n"
          ],
          "name": "stdout"
        }
      ]
    },
    {
      "cell_type": "markdown",
      "metadata": {
        "id": "LpYQo9T8_UtT"
      },
      "source": [
        "### Bước 2 truy cập từng thu mục lấy các bài về"
      ]
    },
    {
      "cell_type": "markdown",
      "metadata": {
        "id": "-1EzrRXb_UtT"
      },
      "source": [
        "#### a) Phân tích thử một mục"
      ]
    },
    {
      "cell_type": "code",
      "metadata": {
        "colab": {
          "base_uri": "https://localhost:8080/"
        },
        "id": "4nKFC72Z_UtT",
        "outputId": "c58586f1-e578-4a41-e645-8c2c00f23fee"
      },
      "source": [
        "# Import thư viện\n",
        "import requests\n",
        "from bs4 import BeautifulSoup\n",
        "# Thử tìm thử trong một Category\n",
        "response = requests.get(\"http://www.newsbiscuit.com/2021/2/page/3/\")\n",
        "soup = BeautifulSoup(response.content, \"html.parser\")\n",
        "# Check và thấy rằng mỗi paper đều nằm trong một thẻ dev và có chung class:\"item-details\"\n",
        "papers = soup.findAll('div', class_='col-sm-8 text-center')\n",
        "for paper in papers:\n",
        "  # Kiểm tra và thấy link của bài báo nằm ở trong thẻ a thuộc tính href\n",
        "  link = paper.find('a').attrs[\"href\"]\n",
        "  # Kiểm tra và thấy tiêu đề của bài báo nằm trong thẻ a thuộc tính title\n",
        "  title = paper.find('a').text\n",
        "  print(title + \",\"+link)"
      ],
      "execution_count": 3,
      "outputs": [
        {
          "output_type": "stream",
          "text": [
            "Government commission statue of Matt Hancock to topple,http://www.newsbiscuit.com/2021/02/25/government-commission-statue-of-matt-hancock-to-topple/\n",
            "Population of England already asking Boris ‘are we there yet?’,http://www.newsbiscuit.com/2021/02/24/population-of-england-already-asking-boris-are-we-there-yet/\n",
            "‘Coffee on a bench': Derbyshire police remove all benches from county,http://www.newsbiscuit.com/2021/02/24/coffee-on-a-bench-derbyshire-police-remove-all-benches-from-county/\n",
            "New variant of Boris Johnson discovered,http://www.newsbiscuit.com/2021/02/24/new-variant-of-boris-johnson-discovered/\n",
            "Harry Windsor to be next James Bond,http://www.newsbiscuit.com/2021/02/23/harry-windsor-to-be-next-james-bond/\n"
          ],
          "name": "stdout"
        }
      ]
    },
    {
      "cell_type": "markdown",
      "metadata": {
        "id": "NQSXjNyS_UtU"
      },
      "source": [
        "#### b) CRAWL CẢ TRANG"
      ]
    },
    {
      "cell_type": "code",
      "metadata": {
        "id": "oHC4zHevsGm4"
      },
      "source": [
        "article_link = []\n",
        "headline = []\n",
        "for categorylink in FullLink:\n",
        "  number = 0\n",
        "  while True:\n",
        "    try:\n",
        "      number += 1\n",
        "      linkSiteMap = categorylink + \"page/\" + str(number) + \"/\";\n",
        "      # Thử tìm thử trong một Category\n",
        "      response = requests.get(linkSiteMap)\n",
        "      soup = BeautifulSoup(response.content, \"html.parser\")\n",
        "      # Check và thấy rằng mỗi paper đều nằm trong một thẻ dev và có chung class:\"item-details\"\n",
        "      papers = soup.findAll('div', class_='col-sm-8 text-center')\n",
        "      # Dừng khi ko trang request ko có bài báo nào\n",
        "      if len(papers) == 0:\n",
        "        break\n",
        "      for paper in papers:\n",
        "        # Kiểm tra và thấy link của bài báo nằm ở trong thẻ a thuộc tính href\n",
        "        link = paper.find('a').attrs[\"href\"]\n",
        "        # Kiểm tra và thấy tiêu đề của bài báo nằm trong thẻ a thuộc tính title\n",
        "        title = paper.find('a').text.lower()\n",
        "        article_link.append(link)\n",
        "        headline.append(title)\n",
        "      print(linkSiteMap)\n",
        "    except:\n",
        "      break"
      ],
      "execution_count": null,
      "outputs": []
    },
    {
      "cell_type": "code",
      "metadata": {
        "id": "ub7k1AXq_UtV",
        "colab": {
          "base_uri": "https://localhost:8080/",
          "height": 419
        },
        "outputId": "41732e1a-18b0-4822-f3a8-a59fa3c80401"
      },
      "source": [
        "import pandas as pd\n",
        "FullData4 = pd.DataFrame(columns= ['article_link', 'headline', 'is_sarcastic'])\n",
        "FullData4['article_link'] = article_link\n",
        "FullData4['headline'] = headline\n",
        "FullData4['is_sarcastic'] = 1\n",
        "FullData4"
      ],
      "execution_count": 5,
      "outputs": [
        {
          "output_type": "execute_result",
          "data": {
            "text/html": [
              "<div>\n",
              "<style scoped>\n",
              "    .dataframe tbody tr th:only-of-type {\n",
              "        vertical-align: middle;\n",
              "    }\n",
              "\n",
              "    .dataframe tbody tr th {\n",
              "        vertical-align: top;\n",
              "    }\n",
              "\n",
              "    .dataframe thead th {\n",
              "        text-align: right;\n",
              "    }\n",
              "</style>\n",
              "<table border=\"1\" class=\"dataframe\">\n",
              "  <thead>\n",
              "    <tr style=\"text-align: right;\">\n",
              "      <th></th>\n",
              "      <th>article_link</th>\n",
              "      <th>headline</th>\n",
              "      <th>is_sarcastic</th>\n",
              "    </tr>\n",
              "  </thead>\n",
              "  <tbody>\n",
              "    <tr>\n",
              "      <th>0</th>\n",
              "      <td>http://www.newsbiscuit.com/2018/06/30/hoses-to...</td>\n",
              "      <td>hoses to blame for grenfell. flammable materia...</td>\n",
              "      <td>1</td>\n",
              "    </tr>\n",
              "    <tr>\n",
              "      <th>1</th>\n",
              "      <td>http://www.newsbiscuit.com/2018/06/30/duchess-...</td>\n",
              "      <td>duchess of cambridge to carry out next texas e...</td>\n",
              "      <td>1</td>\n",
              "    </tr>\n",
              "    <tr>\n",
              "      <th>2</th>\n",
              "      <td>http://www.newsbiscuit.com/2018/06/29/fifa-bri...</td>\n",
              "      <td>fifa brings in kirstie allsop to makeover ‘aus...</td>\n",
              "      <td>1</td>\n",
              "    </tr>\n",
              "    <tr>\n",
              "      <th>3</th>\n",
              "      <td>http://www.newsbiscuit.com/2018/06/29/britain-...</td>\n",
              "      <td>britain hotter than some cities that must be q...</td>\n",
              "      <td>1</td>\n",
              "    </tr>\n",
              "    <tr>\n",
              "      <th>4</th>\n",
              "      <td>http://www.newsbiscuit.com/2018/06/29/england-...</td>\n",
              "      <td>england 0 – 1 belgium not a brexit metaphor, g...</td>\n",
              "      <td>1</td>\n",
              "    </tr>\n",
              "    <tr>\n",
              "      <th>...</th>\n",
              "      <td>...</td>\n",
              "      <td>...</td>\n",
              "      <td>...</td>\n",
              "    </tr>\n",
              "    <tr>\n",
              "      <th>2723</th>\n",
              "      <td>http://www.newsbiscuit.com/2021/05/02/many-to-...</td>\n",
              "      <td>many to use may day bank holiday to ponder utt...</td>\n",
              "      <td>1</td>\n",
              "    </tr>\n",
              "    <tr>\n",
              "      <th>2724</th>\n",
              "      <td>http://www.newsbiscuit.com/2021/05/02/voters-h...</td>\n",
              "      <td>‘voters happy with corruption as long as mps h...</td>\n",
              "      <td>1</td>\n",
              "    </tr>\n",
              "    <tr>\n",
              "      <th>2725</th>\n",
              "      <td>http://www.newsbiscuit.com/2021/05/01/people-a...</td>\n",
              "      <td>‘people aren’t interested in piracy but in imp...</td>\n",
              "      <td>1</td>\n",
              "    </tr>\n",
              "    <tr>\n",
              "      <th>2726</th>\n",
              "      <td>http://www.newsbiscuit.com/2021/05/01/boris-jo...</td>\n",
              "      <td>boris johnson’s personal phone number discover...</td>\n",
              "      <td>1</td>\n",
              "    </tr>\n",
              "    <tr>\n",
              "      <th>2727</th>\n",
              "      <td>http://www.newsbiscuit.com/2021/05/01/matt-han...</td>\n",
              "      <td>matt hancock ‘still awful’</td>\n",
              "      <td>1</td>\n",
              "    </tr>\n",
              "  </tbody>\n",
              "</table>\n",
              "<p>2728 rows × 3 columns</p>\n",
              "</div>"
            ],
            "text/plain": [
              "                                           article_link  ... is_sarcastic\n",
              "0     http://www.newsbiscuit.com/2018/06/30/hoses-to...  ...            1\n",
              "1     http://www.newsbiscuit.com/2018/06/30/duchess-...  ...            1\n",
              "2     http://www.newsbiscuit.com/2018/06/29/fifa-bri...  ...            1\n",
              "3     http://www.newsbiscuit.com/2018/06/29/britain-...  ...            1\n",
              "4     http://www.newsbiscuit.com/2018/06/29/england-...  ...            1\n",
              "...                                                 ...  ...          ...\n",
              "2723  http://www.newsbiscuit.com/2021/05/02/many-to-...  ...            1\n",
              "2724  http://www.newsbiscuit.com/2021/05/02/voters-h...  ...            1\n",
              "2725  http://www.newsbiscuit.com/2021/05/01/people-a...  ...            1\n",
              "2726  http://www.newsbiscuit.com/2021/05/01/boris-jo...  ...            1\n",
              "2727  http://www.newsbiscuit.com/2021/05/01/matt-han...  ...            1\n",
              "\n",
              "[2728 rows x 3 columns]"
            ]
          },
          "metadata": {
            "tags": []
          },
          "execution_count": 5
        }
      ]
    },
    {
      "cell_type": "markdown",
      "metadata": {
        "id": "b85b064u_UtV"
      },
      "source": [
        "#### c) Save to .CSV"
      ]
    },
    {
      "cell_type": "code",
      "metadata": {
        "colab": {
          "base_uri": "https://localhost:8080/"
        },
        "id": "qyi2xuE9_UtV",
        "outputId": "7ca94f93-5022-45cc-f3de-38e3fc2ac4e8"
      },
      "source": [
        "from google.colab import drive\n",
        "drive.mount('/content/drive')\n",
        "FullData4.to_csv(r'/content/drive/MyDrive/Colab Notebooks/DATA_ML/NewsBiscuit.csv', index = False, header=False)"
      ],
      "execution_count": 7,
      "outputs": [
        {
          "output_type": "stream",
          "text": [
            "Drive already mounted at /content/drive; to attempt to forcibly remount, call drive.mount(\"/content/drive\", force_remount=True).\n"
          ],
          "name": "stdout"
        }
      ]
    },
    {
      "cell_type": "markdown",
      "metadata": {
        "id": "INF-iGcR0PUY"
      },
      "source": [
        "# B. Các trang web chính thống:"
      ]
    },
    {
      "cell_type": "markdown",
      "metadata": {
        "id": "CBhyUiwZ0zZy"
      },
      "source": [
        "## 1. [USA Today](https://www.usatoday.com/)\n",
        " *Ý tưởng:\n",
        "- Giống như đã là với TheOnion\n",
        "- Kiểm tra sitemap thì web này có, sitemap phát triển trên ý tưởng thời gian\n",
        "- Sử dụng sitemap https://www.usatoday.com/sitemap/2021/february/10/\n",
        "- Tìm từ tháng 1 tháng 6 năm 2018 ->2021"
      ]
    },
    {
      "cell_type": "markdown",
      "metadata": {
        "id": "aTs02j2l0zaB"
      },
      "source": [
        "### a) Xây dựng link để request"
      ]
    },
    {
      "cell_type": "code",
      "metadata": {
        "id": "zrpj9CyJ0zaC"
      },
      "source": [
        "months_ = [\"january\",\"february\",\"march\",\"april\",\"may\",\"june\",\"july\",\"august\",\"september\",\"october\",\"november\",\"december\"]"
      ],
      "execution_count": null,
      "outputs": []
    },
    {
      "cell_type": "code",
      "metadata": {
        "colab": {
          "base_uri": "https://localhost:8080/"
        },
        "id": "MqDi2FFf0zaE",
        "outputId": "28c6628b-e080-4e6f-e7f5-001acae33cec"
      },
      "source": [
        "FullLink = []\n",
        "for year in range(2018,2022):\n",
        "  months = months_\n",
        "  if year == 2018:\n",
        "    months = months_[5:-1]\n",
        "  if year == 2021:\n",
        "    months = months_[0:5]\n",
        "  for month in months:\n",
        "    for day in range(1,32):\n",
        "      link = \"https://www.usatoday.com/sitemap/\" + str(year) +\"/\" + month + \"/\" +str(day)\n",
        "      FullLink.append(link)\n",
        "print(*FullLink[0:10],sep=\"\\n\")\n",
        "print(*FullLink[-10:-1],sep=\"\\n\")"
      ],
      "execution_count": null,
      "outputs": [
        {
          "output_type": "stream",
          "text": [
            "https://www.usatoday.com/sitemap/2018/june/1\n",
            "https://www.usatoday.com/sitemap/2018/june/2\n",
            "https://www.usatoday.com/sitemap/2018/june/3\n",
            "https://www.usatoday.com/sitemap/2018/june/4\n",
            "https://www.usatoday.com/sitemap/2018/june/5\n",
            "https://www.usatoday.com/sitemap/2018/june/6\n",
            "https://www.usatoday.com/sitemap/2018/june/7\n",
            "https://www.usatoday.com/sitemap/2018/june/8\n",
            "https://www.usatoday.com/sitemap/2018/june/9\n",
            "https://www.usatoday.com/sitemap/2018/june/10\n",
            "https://www.usatoday.com/sitemap/2021/may/22\n",
            "https://www.usatoday.com/sitemap/2021/may/23\n",
            "https://www.usatoday.com/sitemap/2021/may/24\n",
            "https://www.usatoday.com/sitemap/2021/may/25\n",
            "https://www.usatoday.com/sitemap/2021/may/26\n",
            "https://www.usatoday.com/sitemap/2021/may/27\n",
            "https://www.usatoday.com/sitemap/2021/may/28\n",
            "https://www.usatoday.com/sitemap/2021/may/29\n",
            "https://www.usatoday.com/sitemap/2021/may/30\n"
          ],
          "name": "stdout"
        }
      ]
    },
    {
      "cell_type": "markdown",
      "metadata": {
        "id": "Ry9W12F90zaI"
      },
      "source": [
        "### b) Thử nghiệm 1 link"
      ]
    },
    {
      "cell_type": "code",
      "metadata": {
        "colab": {
          "base_uri": "https://localhost:8080/"
        },
        "id": "qNbzQ4vb0zaJ",
        "outputId": "2a70dbd1-c6d1-4c07-81ae-2852cc6f9737"
      },
      "source": [
        "# Thử tìm thử trong một Category\n",
        "# Import thư viện\n",
        "import requests\n",
        "from bs4 import BeautifulSoup\n",
        "response = requests.get(\"https://www.usatoday.com/sitemap/2021/may/22\")\n",
        "soup = BeautifulSoup(response.content, \"html.parser\")\n",
        "# Check và thấy rằng mỗi paper đều nằm trong một thẻ dev và có chung class:\"item-details\"\n",
        "papers = soup.findAll('li', class_='sitemap-list-item')\n",
        "for paper in papers[0:10]:\n",
        "  print(paper)"
      ],
      "execution_count": null,
      "outputs": [
        {
          "output_type": "stream",
          "text": [
            "<li class=\"sitemap-list-item\"><a href=\"/sitemap/2021/\">2021</a></li>\n",
            "<li class=\"sitemap-list-item sitemap-month-name\"><a href=\"/sitemap/2021/may/\">may</a></li>\n",
            "<li class=\"sitemap-list-item sitemap-month-name active\">may 22</li>\n",
            "<li class=\"sitemap-list-item\"><a href=\"https://www.usatoday.com/story/sports/golf/2021/05/21/sarah-kemp-takes-lpga-tour-lead-at-firm-and-fast-kingsmill/44241349/\">Sarah Kemp takes LPGA Tour lead at firm and fast Kingsmill</a></li>\n",
            "<li class=\"sitemap-list-item\"><a href=\"https://www.usatoday.com/web-stories/1st-generation-student-struggles-to-balance-college-work-amid-covid/\">1st-generation student struggles to find balance amid COVID</a></li>\n",
            "<li class=\"sitemap-list-item\"><a href=\"https://www.usatoday.com/story/news/2021/05/21/state-drop-social-distancing-requirements-june/5208785001/\">State to drop social distancing requirements in June</a></li>\n",
            "<li class=\"sitemap-list-item\"><a href=\"https://www.usatoday.com/story/sports/mlb/2021/05/21/yankees-cf-hicks-to-have-surgery-out-several-months/44241605/\">Yankees CF Hicks to have surgery, out several months</a></li>\n",
            "<li class=\"sitemap-list-item\"><a href=\"https://www.usatoday.com/story/sports/golf/2021/05/21/column-pure-golf-at-the-pga-something-everyone-understands/44241683/\">Column: Pure golf at the PGA, something everyone understands</a></li>\n",
            "<li class=\"sitemap-list-item\"><a href=\"https://www.usatoday.com/story/sports/golf/2021/05/21/johnson-thomas-schauffele-miss-pga-cut-ryder-captains-in/44241469/\">Johnson, Thomas, Schauffele miss PGA cut; Ryder captains in</a></li>\n",
            "<li class=\"sitemap-list-item\"><a href=\"https://boxingjunkie.usatoday.com/2021/05/manny-pacquiao-errol-spence-jr-to-fight-on-aug-21\">Manny Pacquiao announces first fight in two years</a></li>\n"
          ],
          "name": "stdout"
        }
      ]
    },
    {
      "cell_type": "markdown",
      "metadata": {
        "id": "ut9Hgl6S0zaK"
      },
      "source": [
        "* nhận xét: dữ liệu cần lấy nằm trong thẻ a, lấy thôi"
      ]
    },
    {
      "cell_type": "code",
      "metadata": {
        "colab": {
          "base_uri": "https://localhost:8080/"
        },
        "id": "rUDWzoJk0zaL",
        "outputId": "d88fc24b-c573-4d1f-b969-0fc1733ec24d"
      },
      "source": [
        "response = requests.get(\"https://www.usatoday.com/sitemap/2021/may/22/\")\n",
        "soup = BeautifulSoup(response.content, \"html.parser\")\n",
        "# Check và thấy rằng mỗi paper đều nằm trong một thẻ dev và có chung class:\"item-details\"\n",
        "papers = soup.findAll('li', class_='sitemap-list-item')\n",
        "for paper in papers:\n",
        "  try:\n",
        "    link = paper.find('a').attrs[\"href\"]\n",
        "    title = paper.find('a').text.lower()\n",
        "    if \"/sitemap/\" in link:\n",
        "      continue\n",
        "    print(link,title,1 )\n",
        "  except:\n",
        "    continue"
      ],
      "execution_count": null,
      "outputs": [
        {
          "output_type": "stream",
          "text": [
            "https://www.usatoday.com/story/sports/golf/2021/05/21/sarah-kemp-takes-lpga-tour-lead-at-firm-and-fast-kingsmill/44241349/ sarah kemp takes lpga tour lead at firm and fast kingsmill 1\n",
            "https://www.usatoday.com/web-stories/1st-generation-student-struggles-to-balance-college-work-amid-covid/ 1st-generation student struggles to find balance amid covid 1\n",
            "https://www.usatoday.com/story/news/2021/05/21/state-drop-social-distancing-requirements-june/5208785001/ state to drop social distancing requirements in june 1\n",
            "https://www.usatoday.com/story/sports/mlb/2021/05/21/yankees-cf-hicks-to-have-surgery-out-several-months/44241605/ yankees cf hicks to have surgery, out several months 1\n",
            "https://www.usatoday.com/story/sports/golf/2021/05/21/column-pure-golf-at-the-pga-something-everyone-understands/44241683/ column: pure golf at the pga, something everyone understands 1\n",
            "https://www.usatoday.com/story/sports/golf/2021/05/21/johnson-thomas-schauffele-miss-pga-cut-ryder-captains-in/44241469/ johnson, thomas, schauffele miss pga cut; ryder captains in 1\n",
            "https://boxingjunkie.usatoday.com/2021/05/manny-pacquiao-errol-spence-jr-to-fight-on-aug-21 manny pacquiao announces first fight in two years 1\n",
            "https://www.usatoday.com/story/sports/golf/2021/05/21/oosthuizen-chasing-second-career-major-at-pga-again/44242139/ oosthuizen chasing second career major at pga _ again 1\n",
            "https://www.usatoday.com/story/sports/golf/2021/05/21/harry-higgs-is-keeping-his-caddie-for-the-pga-championship/44241617/ harry higgs is keeping his caddie for the pga championship 1\n",
            "https://www.usatoday.com/story/sports/mlb/2021/05/21/leading-off-mikolas-back-with-cards-cole-vs-abreu-chisox/44241547/ leading off: mikolas back with cards, cole vs abreu, chisox 1\n",
            "https://www.usatoday.com/story/news/politics/2021/05/21/epstein-prison-officers-avoid-jail-time-deal-feds/5212741001/ epstein prison officers to avoid jail time in deal with feds 1\n",
            "https://www.usatoday.com/story/sports/wnba/2021/05/21/tina-charles-stars-against-former-team-mystics-beat-liberty/44241635/ tina charles stars against former team, mystics beat liberty 1\n",
            "https://www.usatoday.com/story/news/politics/2021/05/21/biden-gives-k-pop-shout-out-part-global-cultural-connections/5211926001/ biden gives k-pop a shout-out as part of global cultural connections 1\n",
            "https://www.usatoday.com/story/sports/mlb/2021/05/21/positive-test-leads-mariners-to-place-4-on-covid-19-il/44241813/ positive test leads mariners to place 4 on covid-19 il 1\n",
            "https://www.usatoday.com/story/sports/wnba/2021/05/21/carter-scores-23-points-dream-beat-fever-for-1st-win/44241555/ carter scores 23 points, dream beat fever for 1st win 1\n",
            "https://www.usatoday.com/story/sports/ftw/2021/05/21/pga-championship-erik-van-rooyen-meltdown-shot-water/116411124/ pga championship: erik van rooyen loses it after shot rolls into water 1\n",
            "https://www.usatoday.com/web-stories/finding-hope-amid-hate-during-aapi-heritage-month/ finding hope amid hate in aapi heritage month 1\n",
            "https://www.usatoday.com/story/sports/golf/pga/2021/05/21/pga-championship-saturday-third-round-tee-times-tv-schedule-streaming/5212140001/ pga championship 2021: saturday tee times, tv schedule, streaming info 1\n",
            "https://www.usatoday.com/videos/news/nation/2021/05/22/jews-new-york-protest-israel/5214849001/ jews in new york protest israel 1\n",
            "https://www.usatoday.com/videos/news/nation/2021/05/22/wilmer-valderrama-and-moises-arias-their-new-movie-blast-beat/5214961001/ wilmer valderrama and moises arias on their new movie 'blast beat' 1\n",
            "https://www.usatoday.com/videos/entertainment/2021/05/22/wilmer-valderrama-and-moises-arias-their-new-movie-blast-beat/5214965001/ wilmer valderrama and moises arias on their new movie 'blast beat' 1\n",
            "https://www.usatoday.com/story/sports/nhl/2021/05/21/bruins-score-3-ppg-beat-capitals-4-1-for-3-1-series-lead/44241443/ bruins score 3 ppg, beat capitals 4-1 for 3-1 series lead 1\n",
            "https://www.usatoday.com/story/sports/mlb/yankees/2021/05/21/yankees-ninth-inning-triple-play-walkoff-white-sox/5215207001/ yankees turn triple play in 9th inning then beat white sox on walk-off 1\n",
            "https://www.usatoday.com/story/sports/nfl/2021/05/21/ex-jags-lb-smith-signs-plea-deal-avoids-underage-sex-charge/44241327/ ex-jags lb smith signs plea deal, avoids underage sex charge 1\n",
            "https://www.usatoday.com/story/sports/nhl/2021/05/21/nhl-playoffs-nazem-kadri-suspended-8-games-justin-faulk-hit/5207223001/ nhl playoffs: nazem kadri suspended 8 games for hit on justin faulk 1\n",
            "https://www.usatoday.com/story/sports/mlb/2021/05/21/tired-twins-shrug-off-travel-blast-indians-10-0/44241567/ tired twins shrug off travel, blast indians 10-0 1\n",
            "https://www.usatoday.com/story/sports/mlb/2021/05/21/strasburg-returns-pitches-into-6th-nats-beat-orioles-4-2/44241487/ strasburg returns, pitches into 6th, nats beat orioles 4-2 1\n",
            "https://www.usatoday.com/story/sports/mlb/2021/05/21/winker-hits-3-solo-home-runs-as-reds-beat-brewers/44241665/ winker hits 3 solo home runs as reds beat brewers 1\n",
            "https://www.usatoday.com/story/sports/nhl/2021/05/21/nhl-playoff-scores-predators-beat-hurricanes-bruins-beat-capitals/5216806001/ nhl playoff scores: predators top hurricanes; avs, bruins get 3rd win 1\n",
            "https://www.usatoday.com/story/sports/nba/2021/05/22/grizzlies-beat-warriors-overtime-thriller-clinch-eighth-seed/5213701001/ nba play-in: grizzlies hold off warriors in ot thriller for no. 8 seed 1\n",
            "https://www.usatoday.com/story/sports/nhl/2021/05/22/avalanches-nazem-kadri-suspended-8-games-for-hit-to-head/44241425/ avalanche's nazem kadri suspended 8 games for hit to head 1\n",
            "https://www.usatoday.com/story/sports/mlb/2021/05/22/acua-adrianza-hit-grand-slams-braves-rout-pirates-20-1/44242181/ acuña, adrianza hit grand slams, braves rout pirates 20-1 1\n",
            "https://www.usatoday.com/story/sports/mlb/2021/05/22/rookie-lee-finally-makes-contact-mets-beat-marlins-in-12th/44241697/ rookie lee finally makes contact, mets beat marlins in 12th 1\n",
            "https://www.usatoday.com/story/sports/mlb/2021/05/22/yanks-turn-triple-play-edge-white-sox-2-1-behind-torres/44241509/ yanks turn triple play, edge white sox 2-1 behind torres 1\n",
            "https://www.usatoday.com/story/sports/mlb/2021/05/22/meja-hits-grand-slam-in-12th-rays-beat-blue-jays-9-7/44241507/ mejía hits grand slam in 12th, rays beat blue jays 9-7 1\n",
            "https://www.usatoday.com/story/sports/nhl/2021/05/22/matt-duchene-scores-in-2-ot-predators-beat-hurricanes-5-4/44241651/ matt duchene scores in 2 ot, predators beat hurricanes 5-4 1\n",
            "https://www.usatoday.com/story/sports/wnba/2021/05/22/tina-charles-ariel-atkins-help-mystics-beat-liberty/44241583/ tina charles, ariel atkins help mystics beat liberty 1\n",
            "https://www.usatoday.com/story/sports/mlb/2021/05/22/pederson-happ-lead-hendricks-cubs-over-cardinals-12-3/44241551/ pederson, happ, lead hendricks, cubs over cardinals 12-3 1\n",
            "https://www.usatoday.com/story/sports/nhl/2021/05/22/matt-duchune-lifts-predators-past-hurricanes-in-2-ot/44241571/ matt duchune lifts predators past hurricanes in 2 ot 1\n",
            "https://www.usatoday.com/story/sports/mlb/2021/05/22/mcmahon-homers-twice-rockies-beat-diamondbacks-7-1/44241671/ mcmahon homers twice, rockies beat diamondbacks 7-1 1\n",
            "https://www.usatoday.com/story/sports/mlb/2021/05/22/cabraras-slam-solo-homer-lead-tigers-over-royals-7-5/44241439/ cabrara's slam, solo homer lead tigers over royals 7-5 1\n",
            "https://www.usatoday.com/story/sports/mlb/2021/05/22/devers-santana-go-deep-red-sox-beat-phillies-11-3/44242151/ devers, santana go deep, red sox beat phillies 11-3 1\n",
            "https://www.usatoday.com/story/sports/nba/2021/05/22/morant-grizzlies-beat-warriors-in-ot-advance-to-face-jazz/44241575/ morant, grizzlies beat warriors in ot, advance to face jazz 1\n",
            "https://www.usatoday.com/story/sports/mlb/2021/05/22/garcas-homer-in-10th-gives-rangers-7-5-win-over-astros/44241485/ garcía's homer in 10th gives rangers 7-5 win over astros 1\n",
            "https://www.usatoday.com/story/sports/nhl/2021/05/22/avs-score-3-in-2nd-beat-blues-5-1-to-take-a-3-0-series-lead/44241495/ avs score 3 in 2nd, beat blues 5-1 to take a 3-0 series lead 1\n",
            "https://www.usatoday.com/story/sports/mlb/2021/05/22/catch-this-laureano-pinder-do-it-all-as-top-angels-8-4/44241801/ catch this: laureano, pinder do it all, a's top angels 8-4 1\n",
            "https://www.usatoday.com/story/sports/nhl/2021/05/22/stastny-scores-in-ot-jets-beat-oilers-1-0-for-2-0-lead/44241673/ stastny scores in ot, jets beat oilers 1-0 for 2-0 lead 1\n",
            "https://www.usatoday.com/story/sports/mlb/2021/05/22/bauer-ks-11-dodgers-beat-giants-for-fifth-straight-win/116412188/ bauer k's 11, dodgers beat giants for fifth straight win 1\n",
            "https://www.usatoday.com/story/sports/golf/2021/05/22/mickelson-at-pga-is-atop-a-major-leaderboard-for-4th-decade/44241341/ mickelson at pga is atop a major leaderboard for 4th decade 1\n",
            "https://www.usatoday.com/story/sports/mlb/2021/05/22/tatis-hits-50th-career-homer-padres-rout-mariners-16-1/44242133/ tatis hits 50th career homer, padres rout mariners 16-1 1\n",
            "https://www.usatoday.com/story/sports/nba/2021/05/22/the-nba-playoffs-10-things-to-know-as-the-tourney-begins/44241593/ the nba playoffs: 10 things to know as the tourney begins 1\n",
            "https://www.usatoday.com/story/sports/mlb/2021/05/22/leading-off-mariners-hit-by-virus-mikolas-back-with-cards/44241421/ leading off: mariners hit by virus, mikolas back with cards 1\n",
            "https://www.usatoday.com/story/opinion/2021/05/22/chrissy-teigen-cyber-bully-cancel-culture-courtney-stodden/5185634001/ chrissy teigen-courtney stodden: cancel culture won't end bullying 1\n",
            "https://www.usatoday.com/story/sports/soccer/2021/05/22/the-return-of-the-wellington-phoenix-433-days-later/44242175/ the return of the (wellington) phoenix: 433 days later 1\n",
            "https://www.usatoday.com/story/sports/mlb/2021/05/22/count-em-mlb-hits-20000-players-when-godoy-debuts-for-ms/116412222/ count 'em! mlb hits 20,000 players when godoy debuts for m's 1\n",
            "https://www.usatoday.com/in-depth/news/politics/2021/05/22/gaffe-machine-goes-silent-biden-stays-message-president/5037495001/ a 'gaffe machine' goes silent: biden stays on message as president 1\n",
            "https://www.usatoday.com/in-depth/opinion/2021/05/22/importance-building-americans-broadband-network-infrastructure/5132948001/ the importance of building on american's broadband network 1\n",
            "https://www.usatoday.com/story/news/2021/05/22/us-flights-israel-hurricane-season-5-things-know-weekend/5195355001/ us flights to israel, hurricane season: 5 things to know this weekend 1\n",
            "https://www.usatoday.com/story/money/personalfinance/retirement/2021/05/22/adp-pepsi-sysco-stock-retirement/116399928/ adp, pepsi, sysco: three stocks to consider in your retirement 1\n",
            "https://www.usatoday.com/story/opinion/2021/05/22/israel-gaza-hamas-terror-jewish-people-column/5163782001/ israel-hamas conflict: jews have a right to exist, defend ourselves 1\n",
            "https://www.usatoday.com/story/sports/sports-betting/2021/05/22/miami-heat-at-milwaukee-bucks-game-1-odds-picks-and-prediction/116411830/ miami heat at milwaukee bucks game 1 odds, picks and prediction 1\n",
            "https://www.usatoday.com/story/news/2021/05/22/more-americans-back-palestinians-against-conflict-israel/5185821001/ more americans back palestinians against conflict with israel 1\n",
            "https://www.usatoday.com/story/sports/sports-betting/2021/05/22/pittsburgh-penguins-at-new-york-islanders-game-4-odds-picks-and-prediction/116411848/ pittsburgh penguins at new york islanders game 4 odds, picks and prediction 1\n",
            "https://www.usatoday.com/story/sports/olympics/2021/05/22/world-athletics-approves-23-russians-to-compete-as-neutrals/44241481/ world athletics approves 23 russians to compete as neutrals 1\n",
            "https://www.usatoday.com/picture-gallery/travel/10best/awards/2021/05/22/10-best-science-museums-united-states/5210281001/ these are the 10 best science museums in the united states 1\n",
            "https://www.usatoday.com/story/sports/mlb/2021/05/22/no-hitter-why-rangers-mariners-cleveland-has-been-twice-victimized/5193356001/ no-hitter: why rangers, mariners, cleveland has been twice victimized 1\n",
            "https://www.usatoday.com/in-depth/tech/gaming/2021/05/22/elder-scrolls-v-skyrim-survival-mode/4881837001/ why you should play elder scrolls v: skyrim on 'survival mode' 1\n",
            "https://www.usatoday.com/story/news/politics/2021/05/22/donald-trump-criminal-investigation-makes-his-political-future-murky/5166416001/ donald trump criminal investigation makes his political future murky 1\n",
            "https://www.usatoday.com/in-depth/money/shopping/2021/05/22/aldi-finds-deals-groceries-prices-savings-instacart-pickup/5074272001/ aldi deals: save on groceries, wine and aldi finds 'aisle of shame' 1\n",
            "https://www.usatoday.com/story/entertainment/books/2021/05/22/5-books-not-miss-lost-boys-montauk-king-richard-watergate/5086521001/ 5 books not to miss: ‘the lost boys of montauk,’ ‘king richard’ 1\n",
            "https://www.usatoday.com/story/opinion/2021/05/22/transgender-athletes-girls-women-sports-track-connecticut-column/5149532001/ why i believe i shouldn't be competing with transgender athletes 1\n",
            "https://www.usatoday.com/story/sports/sports-betting/2021/05/22/ufc-fight-night-188-edmen-shahbazyan-vs-jack-hermansson-odds-picks-and-prediction/116411898/ ufc fight night 188: edmen shahbazyan vs. jack hermansson odds, picks and prediction 1\n",
            "https://www.usatoday.com/story/sports/nhl/2021/05/22/nhl-scores-connor-mcdavid-dmitry-orlov-hit-kevan-miller/5214783001/ nhl scores: connor mcdavid shut out; bruins coach upset with call 1\n",
            "https://www.usatoday.com/in-depth/news/nation/2021/05/22/george-floyds-murder-generated-artwork-aimed-heal-and-bond/5080128001/ george floyd's murder generated artwork that aimed to heal and bond 1\n",
            "https://www.usatoday.com/story/sports/sports-betting/2021/05/22/chicago-white-sox-at-new-york-yankees-odds-picks-and-prediction/116411942/ chicago white sox at new york yankees odds, picks and prediction 1\n",
            "https://www.usatoday.com/story/sports/motor/formula1/2021/05/22/verstappen-tops-3rd-practice-for-monaco-gp-before-qualifying/44241609/ ferrari's leclerc takes pole for monaco gp, verstappen 2nd 1\n",
            "https://www.usatoday.com/story/sports/sports-betting/2021/05/22/ufc-fight-night-188-felicia-spencer-vs-norma-dumont-odds-picks-and-prediction/116411958/ ufc fight night 188: felicia spencer vs. norma dumont odds, picks and prediction 1\n",
            "https://www.usatoday.com/in-depth/entertainment/music/2021/05/22/sara-bareilles-interview-amidst-the-chaos-hollywood-bowl-girls-5-eva/5169233001/ sara bareilles talks hollywood bowl album, bizarre 'girls5eva' lyrics 1\n",
            "https://www.usatoday.com/story/entertainment/movies/2021/05/22/army-dead-zack-snyder-talks-spoilers-netflix-zombie-film/5174680001/ 'army of the dead': zack snyder talks big spoilers in his zombie film 1\n",
            "https://www.usatoday.com/in-depth/travel/cruises/2021/05/22/expedition-cruise-photos-antarctica-galapagos-arctic-alaska-greenland/5150368001/ cruise ship photos: expedition cruises take travelers to remote places 1\n",
            "https://www.usatoday.com/story/news/politics/2021/05/22/former-vice-president-mike-pence-and-his-wife-karen-move-back-indiana/5207465001/ former vice president mike pence and his wife, karen, move back to indiana 1\n",
            "https://www.usatoday.com/story/sports/sports-betting/2021/05/22/montreal-canadiens-at-toronto-maple-leafs-game-2-odds-picks-and-prediction/116412082/ montreal canadiens at toronto maple leafs game 2 odds, picks and prediction 1\n",
            "https://www.usatoday.com/story/sports/nba/warriors/2021/05/22/stephen-curry-draymond-green-warriors-optimistic-about-future/5219002001/ warriors optimistic about 2021-22 despite missing nba playoffs again 1\n",
            "https://www.usatoday.com/story/sports/sports-betting/2021/05/22/chicago-cubs-at-st-louis-cardinals-odds-picks-and-prediction/116412112/ chicago cubs at st. louis cardinals odds, picks and prediction 1\n",
            "https://www.usatoday.com/story/sports/sports-betting/2021/05/22/arizona-diamondbacks-at-colorado-rockies-odds-picks-and-prediction/116412166/ arizona diamondbacks at colorado rockies odds, picks and prediction 1\n",
            "https://www.usatoday.com/story/tech/2021/05/22/microsoft-internet-explorer-windows-retired-apple-imac-netflix-gaming/5201300001/ microsoft sidelining internet explorer; apple delivering new imacs 1\n",
            "https://www.usatoday.com/story/news/health/2021/05/22/covid-19-essential-caregiving-laws-nursing-homes/5168990001/ protected to death? covid-19 spurs rally for essential caregiving laws 1\n",
            "https://www.usatoday.com/story/sports/sports-betting/2021/05/22/pittsburgh-pirates-at-atlanta-braves-odds-picks-and-prediction/116412182/ pittsburgh pirates at atlanta braves odds, picks and prediction 1\n",
            "https://www.usatoday.com/in-depth/news/nation/2021/05/22/george-floyds-murder-fueled-black-lives-matter-movement-whats-next/4929808001/ george floyd's murder fueled black lives matter movement. what's next? 1\n",
            "https://www.usatoday.com/story/sports/sports-betting/2021/05/22/portland-trail-blazers-at-denver-nuggets-game-1-odds-picks-and-prediction/116412210/ portland trail blazers at denver nuggets game 1 odds, picks and prediction 1\n",
            "https://www.usatoday.com/videos/news/nation/2021/05/22/japanese-forces-hold-annual-fire-power-exercise/5219589001/ japanese forces hold annual fire power exercise 1\n",
            "https://www.usatoday.com/picture-gallery/travel/destinations/10greatplaces/2021/05/22/best-beaches-seashells-california-north-carolina/5205477001/ best beaches for seashells, from california to north carolina 1\n",
            "https://www.usatoday.com/story/travel/destinations/10greatplaces/2021/05/22/best-beaches-finding-seashells-floridas-sanibel-island-more/5203949001/ best beaches for finding seashells: florida's sanibel island, more 1\n",
            "https://www.usatoday.com/story/news/nation/2021/05/22/minneapolis-shooting-fatal-injured-police-say/5219575001/ minneapolis shooting: 2 dead, 8 others injured, police say 1\n",
            "https://www.usatoday.com/story/sports/columnist/nancy-armour/2021/05/22/chellsie-memmels-comeback-targets-tokyo-olympics/5191878001/ chellsie memmel's comeback is for real as she targets tokyo olympics 1\n",
            "https://www.usatoday.com/videos/travel/experience/theme-parks/2021/05/22/worlds-tallest-fastest-coaster-test-run/5219712001/ six flags reveals world's tallest, fastest coaster's test run in nj 1\n",
            "https://www.usatoday.com/story/entertainment/music/2021/05/22/apple-tv-1971-unearthed-moments-rock-music-docuseries/5190444001/ apple tv+ '1971': 5 unearthed moments that rock music docuseries 1\n",
            "https://www.usatoday.com/story/tech/columnist/2021/05/22/star-wars-pinball-retro-games-nostalgia-pac-man-pong/5202468001/ star wars pinball vr, retro games satisfy nostalgia for pac-man, pong 1\n",
            "https://www.usatoday.com/videos/news/nation/2021/05/22/morning-scenes-gaza-port-following-cease-fire/5219797001/ morning scenes at gaza port following cease-fire 1\n",
            "https://www.usatoday.com/story/news/health/2021/05/22/covid-news-california-reopening-summer-cases-ohio-vax-million/5210091001/ covid news: california reopening; summer cases; ohio vax-a-million 1\n",
            "https://www.usatoday.com/story/sports/sports-betting/2021/05/22/ufc-fight-night-188-rob-font-vs-cody-garbrandt-odds-picks-and-prediction/116412428/ ufc fight night 188: rob font vs. cody garbrandt odds, picks and prediction 1\n",
            "https://www.usatoday.com/videos/news/nation/2021/05/22/shopkeepers-view-damage-commercial-street-gaza/5219895001/ shopkeepers view damage on commercial street in gaza 1\n",
            "https://www.usatoday.com/story/news/nation/2021/05/22/mega-millions-515-million-winning-ticket-sold-pennsylvania/5219864001/ mega millions: $515 million winning ticket sold in pennsylvania 1\n",
            "https://www.usatoday.com/story/sports/sports-betting/2021/05/22/ufc-fight-night-188-yan-xiaonan-vs-carla-esparza-odds-picks-and-prediction/116412444/ ufc fight night 188: yan xiaonan vs. carla esparza odds, picks and prediction 1\n",
            "https://www.usatoday.com/story/sports/golf/2021/05/22/the-latest-horschel-off-to-fast-start-at-pga-as-wind-eases/44243955/ the latest: mickelson holds on to lead the pga championship 1\n",
            "https://www.usatoday.com/story/sports/cycling/2021/05/22/record-setting-centenarian-cyclist-marchand-dies-aged-109/44243947/ record-setting centenarian cyclist marchand dies aged 109 1\n",
            "https://www.usatoday.com/story/sports/sports-betting/2021/05/22/ufc-fight-night-188-justin-tafa-vs-jared-vanderaa-odds-picks-and-prediction/116412448/ ufc fight night 188: justin tafa vs. jared vanderaa odds, picks and prediction 1\n",
            "https://www.usatoday.com/story/entertainment/2021/05/22/bbc-diana-interview-former-director-resigns-gallery-board/5219979001/ bbc diana interview: former director resigns from gallery board 1\n",
            "https://www.usatoday.com/story/life/health-wellness/2021/05/22/social-outings-post-vaccination-awkward-but-thats-not-bad-thing/5204574001/ social outings post-vaccination are awkward but that's not a bad thing 1\n",
            "https://www.usatoday.com/story/news/nation/2021/05/22/coronavirus-indian-us-community-reacts-spike-covid-19-deaths/5220007001/ coronavirus in indian: us community reacts to spike of covid-19 deaths 1\n",
            "https://www.usatoday.com/story/sports/nba/lakers/2021/05/22/lebron-james-wont-face-quarantine-violating-nbas-covid-protocol/5219678001/ lebron james won't face quarantine for violating nba's covid protocol 1\n",
            "https://www.usatoday.com/story/news/world/2021/05/22/egyptian-mediators-hold-talks-firm-up-israel-hamas-truce-gaza/5220250001/ egyptian mediators hold talks to firm up israel-hamas truce in gaza 1\n",
            "https://www.usatoday.com/story/sports/sports-betting/2021/05/22/boston-celtics-at-brooklyn-nets-game-1-odds-picks-and-prediction/116412750/ boston celtics at brooklyn nets game 1 odds, picks and prediction 1\n",
            "https://www.usatoday.com/story/sports/soccer/2021/05/22/lewandowski-scores-in-last-minute-to-set-bundesliga-record/44248179/ lewandowski scores in last minute to set bundesliga record 1\n",
            "https://www.usatoday.com/story/news/nation/2021/05/22/california-road-rage-shooting-6-year-olds-family-seeks-shooter/5219877001/ california road rage shooting: 6-year-old's family seeks shooter 1\n",
            "https://www.usatoday.com/videos/news/nation/2021/05/22/austin-addresses-us-military-academy-class-2021/5220578001/ austin addresses us military academy class of 2021 1\n",
            "https://www.usatoday.com/story/news/politics/2021/05/22/debbie-dingell-hospitalized-surgery-ulcer/5220526001/ u.s. rep. debbie dingell undergoes surgery for perforated ulcer 1\n",
            "https://www.usatoday.com/story/sports/ncaaf/bigten/2021/05/22/michigan-football-brian-elwood-reid-robert-anderson-sexual-abuse/5220432001/ ex-michigan football player's novel mirrors report on doctor's abuse 1\n",
            "https://www.usatoday.com/picture-gallery/news/nation/2021/05/22/photos-us-military-academy-west-point-celebrates-2021-graduates/5220631001/ photos: us military academy at west point celebrates 2021 graduates 1\n",
            "https://www.usatoday.com/story/sports/sports-betting/2021/05/22/dallas-mavericks-at-los-angeles-clippers-odds-picks-and-prediction/116413174/ dallas mavericks at los angeles clippers odds, picks and prediction 1\n",
            "https://www.usatoday.com/story/sports/sports-betting/2021/05/22/boston-red-sox-at-philadelphia-phillies-odds-picks-and-prediction/116413238/ boston red sox at philadelphia phillies odds, picks and prediction 1\n",
            "https://www.usatoday.com/videos/news/nation/2021/05/22/queen-visits-hms-queen-elizabeth-portsmouth/5220825001/ queen visits hms queen elizabeth in portsmouth 1\n",
            "https://www.usatoday.com/videos/sports/nba/sportspulse/2021/05/22/grown-up-grizzlies-ja-morant-and-franchise-take-massive-step-forward-win-over-warriorsa/5220804001/ grown up grizzlies: ja morant and franchise take massive step forward with win over warriors 1\n",
            "https://www.usatoday.com/story/sports/ncaaf/mac/2021/05/22/central-michigan-qb-john-keller-released-from-hospital-after-shooting/5220714001/ central michigan qb john keller released from hospital after shooting 1\n",
            "https://www.usatoday.com/story/sports/nba/2021/05/22/theyre-back-knicks-hawks-to-return-with-big-playoff-crowd/44250427/ they're back: knicks, hawks to return with big playoff crowd 1\n",
            "https://www.usatoday.com/story/sports/nba/2021/05/22/76ers-trust-playoff-process-leads-to-1st-nba-title-since-83/44250921/ 76ers trust playoff process leads to 1st nba title since '83 1\n",
            "https://www.usatoday.com/story/sports/ncaab/2021/05/22/hoosiers-add-size-as-7-foot-center-decides-to-transfer/44251783/ hoosiers add size as 7-foot center decides to transfer 1\n",
            "https://www.usatoday.com/story/sports/tennis/2021/05/22/ruud-beats-shapovalov-to-win-geneva-open-title/44250931/ ruud beats shapovalov to win geneva open title 1\n",
            "https://www.usatoday.com/story/sports/nascar/2021/05/22/nascars-elliott-still-chasing-1st-win-of-season-in-texas/44251859/ nascar's elliott still chasing 1st win of season in texas 1\n",
            "https://www.usatoday.com/story/sports/sports-betting/2021/05/22/jose-zepeda-vs-henry-lundy-fight-odds-picks-and-prediction/116413544/ jose zepeda vs. henry lundy fight odds, picks and prediction 1\n",
            "https://www.usatoday.com/story/sports/mlb/2021/05/22/this-date-in-baseball/44252429/ this date in baseball 1\n",
            "https://www.usatoday.com/story/sports/sports-betting/2021/05/22/jose-carlos-ramirez-vs-josh-taylor-fight-odds-picks-and-prediction/116413540/ jose carlos ramirez vs. josh taylor fight odds, picks and prediction 1\n",
            "https://www.usatoday.com/videos/news/nation/2021/05/22/today-history-may-22nd/5221863001/ today in history for may 22nd 1\n",
            "https://www.usatoday.com/story/sports/motor/formula1/2021/05/22/hamilton-unhappy-after-poor-qualifying-effort-at-monaco/44252623/ hamilton unhappy after poor qualifying effort at monaco 1\n",
            "https://www.usatoday.com/story/entertainment/tv/2021/05/22/jedediah-bila-parts-ways-fox-news-excited-whats-come/5220366001/ jedediah bila parts ways with fox news: 'excited for what's to come' 1\n",
            "https://www.usatoday.com/videos/news/nation/2021/05/22/first-peek-new-panda-national-zoo/5209949001/ first peek of new panda at national zoo 1\n",
            "https://www.usatoday.com/story/money/2021/05/22/bitcoins-been-up-and-down-exactly-what-and-how-does-work/5220333001/ bitcoin's been up and down. exactly what is it and how does it work? 1\n",
            "https://www.usatoday.com/videos/news/nation/2021/05/22/protest-paris-show-support-palestinians/5222006001/ protest in paris to show support for palestinians 1\n",
            "https://www.usatoday.com/videos/news/nation/2021/05/22/biden-travels-camp-david-weekend/5222005001/ biden travels to camp david for the weekend 1\n",
            "https://www.usatoday.com/story/sports/nba/2021/05/22/nba-tells-head-coaches-they-can-go-without-masks-in-games/44251349/ unmasked: nba coaches allowed to open playoffs without masks 1\n",
            "https://www.usatoday.com/videos/news/politics/2021/05/22/epstein-prison-officers-no-jail-time/5222186001/ epstein prison officers charged will face no jail time, strike deal 1\n",
            "https://www.usatoday.com/story/sports/nba/2021/05/22/suns-draw-defending-champ-lakers-in-return-to-nba-playoffs/44254607/ suns draw defending champ lakers in return to nba playoffs 1\n",
            "https://www.usatoday.com/videos/news/nation/2021/05/22/virgin-galactic-rocket-ship-ascends-new-mexico/5222631001/ virgin galactic rocket ship ascends from new mexico 1\n",
            "https://www.usatoday.com/story/news/politics/2021/05/22/george-floyds-family-visit-president-joe-biden-white-house/5222533001/ george floyd’s family to visit president joe biden at white house 1\n",
            "https://www.usatoday.com/story/sports/soccer/2021/05/22/atltico-holds-on-to-win-1st-spanish-league-title-since-2014/44256111/ atlético holds on to win 1st spanish league title since 2014 1\n",
            "https://www.usatoday.com/story/sports/nba/2021/05/22/jazz-grizzlies-hungry-to-prove-themselves-in-playoffs/44308551/ jazz, grizzlies hungry to prove themselves in playoffs 1\n",
            "https://www.usatoday.com/story/nletter/health/2021/05/22/coronavirus-watch-ohio-vaccinations-jumped-after-vaccine-lotto-news/5222727001/ coronavirus watch: ohio vaccinations jumped after vaccine lotto news 1\n",
            "https://www.usatoday.com/story/sports/tennis/2021/05/22/coco-gauff-beats-wang-for-2nd-career-title-and-1st-on-clay/44250609/ coco gauff beats wang for 2nd career title and 1st on clay 1\n",
            "https://www.usatoday.com/videos/news/nation/2021/05/22/debbie-dingell-hospitalized-perforated-ulcer/5222922001/ debbie dingell hospitalized for a perforated ulcer 1\n",
            "https://www.usatoday.com/story/sports/sports-betting/2021/05/22/seattle-mariners-at-san-diego-padres-odds-picks-and-prediction/116414212/ seattle mariners at san diego padres odds, picks and prediction 1\n",
            "https://www.usatoday.com/story/sports/nhl/2021/05/22/killorn-kucherov-pace-lightnings-6-2-rout-of-panthers/44260667/ killorn, kucherov pace lightning's 6-2 rout of panthers 1\n",
            "https://www.usatoday.com/videos/news/nation/2021/05/22/hamas-militants-celebrate-ceasefire-gaza/5224029001/ hamas militants celebrate ceasefire in gaza 1\n",
            "https://www.usatoday.com/story/sports/nhl/2021/05/22/tavares-has-concussion-knee-injury-likely-to-miss-series/116414466/ tavares has concussion, knee injury; likely to miss series 1\n",
            "https://www.usatoday.com/videos/news/nation/2021/05/22/ap-top-stories-may-22-p/5224310001/ ap top stories may 22 1\n",
            "https://www.usatoday.com/videos/news/weather/2021/05/22/florida-wildfire-grows-10-times-its-size-less-than-day/5223832001/ florida wildfire grows to 10 times its size in less than a day 1\n",
            "https://www.usatoday.com/story/money/reviewed/2021/05/22/memorial-day-2021-30-best-furniture-shop-holiday/5201765001/ memorial day 2021: the 30 best furniture to shop this holiday 1\n",
            "https://www.usatoday.com/videos/news/nation/2021/05/22/pandemic-ebbs-alabama-city-throws-parade/5224429001/ as pandemic ebbs, alabama city throws parade 1\n",
            "https://www.usatoday.com/story/sports/nascar/2021/05/22/todd-gilliland-rallies-to-win-nascar-trucks-race-in-austin/44259953/ todd gilliland rallies to win nascar trucks race in austin 1\n",
            "https://www.usatoday.com/story/sports/nba/2021/05/22/national-teams-wait-on-nba-stars-for-olympic-qualifier-games/44260853/ national teams wait on nba stars for olympic qualifier games 1\n",
            "https://www.usatoday.com/story/sports/columnist/nancy-armour/2021/05/22/chellsie-memmel-comeback-us-classic-gymnastics/5224293001/ gymnastics: chellsie memmel shows age is just a number at us classic 1\n",
            "https://www.usatoday.com/story/news/world/2021/05/22/residents-flee-volcano-erupts-near-congolese-city-goma/5224640001/ residents flee as volcano erupts near congolese city of goma 1\n",
            "https://www.usatoday.com/story/travel/2021/05/22/barry-diller-park-built-media-mogul-opened-manhattan-week/5224666001/ barry diller: park built by media mogul opened in manhattan this week 1\n",
            "https://www.usatoday.com/story/sports/nba/2021/05/22/khris-middleton-lifts-bucks-past-heat-in-ot-in-game-1/44261749/ khris middleton lifts bucks past heat in ot in game 1 1\n",
            "https://www.usatoday.com/story/entertainment/2021/05/22/garth-brooks-dick-van-dyke-debbie-allen-more-earn-kennedy-center-honors/5224949001/ garth brooks, dick van dyke, more earn kennedy center honors 1\n",
            "https://www.usatoday.com/story/sports/nba/bucks/2021/05/22/khris-middleton-overtime-shot-milwaukee-bucks-beat-miami-heat/5225122001/ khris middleton overtime shot lifts milwaukee bucks over miami heat 1\n",
            "https://www.usatoday.com/story/news/nation/2021/05/22/israel-hamas-conflict-jewish-groups-sound-alarm-antisemitism-us/5220334001/ israel-hamas conflict: jewish groups sound alarm on antisemitism in us 1\n",
            "https://www.usatoday.com/story/tech/2021/05/22/tinder-bumble-make-easier-swipe-right-if-youve-got-vaccine/5225253001/ tinder, bumble make it easier to swipe right if you've got the vaccine 1\n",
            "https://www.usatoday.com/story/sports/mls/2021/05/22/moras-brace-helps-timbers-down-galaxy-3-0/116414902/ mora's brace helps timbers down galaxy 3-0 1\n",
            "https://www.usatoday.com/story/sports/nhl/2021/05/22/sorokin-islanders-beat-penguins-4-1-in-game-4-to-tie-series/44263041/ sorokin, islanders beat penguins 4-1 in game 4 to tie series 1\n",
            "https://www.usatoday.com/story/sports/nhl/2021/05/22/islanders-beat-penguins-4-1-to-tie-series-at-2/44263271/ islanders beat penguins 4-1 to tie series at 2 1\n",
            "https://www.usatoday.com/story/sports/mlb/2021/05/22/blue-jays-biggio-on-il-with-cervical-spine-ligament-sprain/44263451/ blue jays' biggio on il with cervical spine ligament sprain 1\n",
            "https://www.usatoday.com/story/sports/golf/2021/05/22/wei-ling-hsu-moriya-jutanugarn-share-lead-at-kingsmill/116415088/ wei-ling hsu, moriya jutanugarn share lead at kingsmill 1\n",
            "https://www.usatoday.com/story/sports/nhl/2021/05/22/nhl-playoff-scores-islanders-penguins-lightning-panthers/5226359001/ nhl scores: islanders even series; lightning take 3-1 lead 1\n",
            "https://www.usatoday.com/story/sports/nba/2021/05/22/doncic-has-31-points-mavs-beat-clippers-113-102-in-game-1/44266477/ doncic has 31 points, mavs beat clippers 113-103 in game 1 1\n",
            "https://www.usatoday.com/story/sports/nba/2021/05/22/luka-doncic-mavericks-steal-game-one-from-kawhi-leonard-clippers/5226794001/ nba playoffs: luka doncic, mavericks beat kawhi leonard, clippers 1\n",
            "https://www.usatoday.com/story/sports/mlb/2021/05/22/blackmans-hr-tapias-catch-lift-rockies-over-d-backs-7-6/44268089/ blackman's hr, tapia's catch lift rockies over d-backs 7-6 1\n",
            "https://golfweek.usatoday.com/2021/05/22/phil-mickelson-pga-championship-leading-brooks-koepka/ mickelson looking to make history as he takes lead into sunday at pga championship 1\n",
            "https://www.usatoday.com/story/sports/golf/2021/05/22/even-on-easier-ocean-course-low-scores-elusive-at-pga/44268447/ even on easier ocean course, low scores elusive at pga 1\n",
            "https://www.usatoday.com/story/sports/golf/2021/05/22/a-wild-ride-for-mickelson-and-18-holes-away-from-history/44268987/ a wild ride for mickelson and 18 holes away from history 1\n",
            "https://www.usatoday.com/story/sports/golf/2021/05/22/rangefinders-all-the-rage-for-those-at-the-pga-championship/44269425/ rangefinders all the rage for those at the pga championship 1\n"
          ],
          "name": "stdout"
        }
      ]
    },
    {
      "cell_type": "markdown",
      "metadata": {
        "id": "G9jn6ioy0zaN"
      },
      "source": [
        "### c) Tìm trên cả tập link"
      ]
    },
    {
      "cell_type": "code",
      "metadata": {
        "id": "OyhM5hQ-0zaO"
      },
      "source": [
        "article_link = []\n",
        "headline = []\n",
        "for linkSiteMap in FullLink:\n",
        "  response = requests.get(linkSiteMap)\n",
        "  soup = BeautifulSoup(response.content, \"html.parser\")\n",
        "  # Check và thấy rằng mỗi paper đều nằm trong một thẻ dev và có chung class:\"item-details\"\n",
        "  papers = soup.findAll('li', class_='sitemap-list-item')\n",
        "  for paper in papers:\n",
        "    try:\n",
        "      link = paper.find('a').attrs[\"href\"]\n",
        "      title = paper.find('a').text.lower()\n",
        "      # Lọc lại thông tin thu được\n",
        "      if (\"/sitemap/\" in link) or (\"https://www.usatoday.com\" not in link):\n",
        "        continue\n",
        "      article_link.append(link)\n",
        "      headline.append(title)\n",
        "    except:\n",
        "      continue    "
      ],
      "execution_count": null,
      "outputs": []
    },
    {
      "cell_type": "code",
      "metadata": {
        "colab": {
          "base_uri": "https://localhost:8080/",
          "height": 419
        },
        "id": "Cuw4KLDE0zaP",
        "outputId": "3ebbc499-fa97-41c8-c91a-247559abf6c1"
      },
      "source": [
        "import pandas as pd\n",
        "FullData0 = pd.DataFrame(columns= ['article_link', 'headline', 'is_sarcastic'])\n",
        "FullData0['article_link'] = article_link\n",
        "FullData0['headline'] = headline\n",
        "FullData0['is_sarcastic'] = 0\n",
        "FullData0"
      ],
      "execution_count": null,
      "outputs": [
        {
          "output_type": "execute_result",
          "data": {
            "text/html": [
              "<div>\n",
              "<style scoped>\n",
              "    .dataframe tbody tr th:only-of-type {\n",
              "        vertical-align: middle;\n",
              "    }\n",
              "\n",
              "    .dataframe tbody tr th {\n",
              "        vertical-align: top;\n",
              "    }\n",
              "\n",
              "    .dataframe thead th {\n",
              "        text-align: right;\n",
              "    }\n",
              "</style>\n",
              "<table border=\"1\" class=\"dataframe\">\n",
              "  <thead>\n",
              "    <tr style=\"text-align: right;\">\n",
              "      <th></th>\n",
              "      <th>article_link</th>\n",
              "      <th>headline</th>\n",
              "      <th>is_sarcastic</th>\n",
              "    </tr>\n",
              "  </thead>\n",
              "  <tbody>\n",
              "    <tr>\n",
              "      <th>0</th>\n",
              "      <td>https://www.usatoday.com/story/sports/mlb/2018...</td>\n",
              "      <td>feeling concussion symptoms, mauer still not r...</td>\n",
              "      <td>0</td>\n",
              "    </tr>\n",
              "    <tr>\n",
              "      <th>1</th>\n",
              "      <td>https://www.usatoday.com/story/sports/ftw/2018...</td>\n",
              "      <td>ex-usmnt player blames foreign-born players</td>\n",
              "      <td>0</td>\n",
              "    </tr>\n",
              "    <tr>\n",
              "      <th>2</th>\n",
              "      <td>https://www.usatoday.com/videos/money/2018/05/...</td>\n",
              "      <td>a small business is booming with the sale of p...</td>\n",
              "      <td>0</td>\n",
              "    </tr>\n",
              "    <tr>\n",
              "      <th>3</th>\n",
              "      <td>https://www.usatoday.com/videos/sports/2018/05...</td>\n",
              "      <td>tiger-cats coach june jones: no scenario johnn...</td>\n",
              "      <td>0</td>\n",
              "    </tr>\n",
              "    <tr>\n",
              "      <th>4</th>\n",
              "      <td>https://www.usatoday.com/videos/news/nation/20...</td>\n",
              "      <td>police say youtube shooter scoped out campus p...</td>\n",
              "      <td>0</td>\n",
              "    </tr>\n",
              "    <tr>\n",
              "      <th>...</th>\n",
              "      <td>...</td>\n",
              "      <td>...</td>\n",
              "      <td>...</td>\n",
              "    </tr>\n",
              "    <tr>\n",
              "      <th>203873</th>\n",
              "      <td>https://www.usatoday.com/story/sports/tennis/2...</td>\n",
              "      <td>serena says dealing with media scrutiny made h...</td>\n",
              "      <td>0</td>\n",
              "    </tr>\n",
              "    <tr>\n",
              "      <th>203874</th>\n",
              "      <td>https://www.usatoday.com/story/sports/soccer/t...</td>\n",
              "      <td>copa america to be held in brazil after argent...</td>\n",
              "      <td>0</td>\n",
              "    </tr>\n",
              "    <tr>\n",
              "      <th>203875</th>\n",
              "      <td>https://www.usatoday.com/story/sports/nhl/2021...</td>\n",
              "      <td>ryan reaves suspended for scrum with ryan graves</td>\n",
              "      <td>0</td>\n",
              "    </tr>\n",
              "    <tr>\n",
              "      <th>203876</th>\n",
              "      <td>https://www.usatoday.com/story/sports/tennis/2...</td>\n",
              "      <td>tennis stars, others lend support to naomi osaka</td>\n",
              "      <td>0</td>\n",
              "    </tr>\n",
              "    <tr>\n",
              "      <th>203877</th>\n",
              "      <td>https://www.usatoday.com/story/sports/nhl/2021...</td>\n",
              "      <td>vegas' reaves suspended 2 games by nhl for hit...</td>\n",
              "      <td>0</td>\n",
              "    </tr>\n",
              "  </tbody>\n",
              "</table>\n",
              "<p>203878 rows × 3 columns</p>\n",
              "</div>"
            ],
            "text/plain": [
              "                                             article_link  ... is_sarcastic\n",
              "0       https://www.usatoday.com/story/sports/mlb/2018...  ...            0\n",
              "1       https://www.usatoday.com/story/sports/ftw/2018...  ...            0\n",
              "2       https://www.usatoday.com/videos/money/2018/05/...  ...            0\n",
              "3       https://www.usatoday.com/videos/sports/2018/05...  ...            0\n",
              "4       https://www.usatoday.com/videos/news/nation/20...  ...            0\n",
              "...                                                   ...  ...          ...\n",
              "203873  https://www.usatoday.com/story/sports/tennis/2...  ...            0\n",
              "203874  https://www.usatoday.com/story/sports/soccer/t...  ...            0\n",
              "203875  https://www.usatoday.com/story/sports/nhl/2021...  ...            0\n",
              "203876  https://www.usatoday.com/story/sports/tennis/2...  ...            0\n",
              "203877  https://www.usatoday.com/story/sports/nhl/2021...  ...            0\n",
              "\n",
              "[203878 rows x 3 columns]"
            ]
          },
          "metadata": {
            "tags": []
          },
          "execution_count": 11
        }
      ]
    },
    {
      "cell_type": "markdown",
      "metadata": {
        "id": "KCACyD6t0zaR"
      },
      "source": [
        "### d) Save to .CSV"
      ]
    },
    {
      "cell_type": "code",
      "metadata": {
        "colab": {
          "base_uri": "https://localhost:8080/"
        },
        "id": "e14KJX3i0zaS",
        "outputId": "dfdc2b7c-cc14-4687-aec8-6c51baf99a65"
      },
      "source": [
        "from google.colab import drive\n",
        "drive.mount('/content/drive')\n",
        "FullData0.to_csv(r'/content/drive/MyDrive/Colab Notebooks/DATA_ML/USAToday.csv', index = False, header=False)"
      ],
      "execution_count": null,
      "outputs": [
        {
          "output_type": "stream",
          "text": [
            "Mounted at /content/drive\n"
          ],
          "name": "stdout"
        }
      ]
    }
  ]
}