{
  "nbformat": 4,
  "nbformat_minor": 0,
  "metadata": {
    "colab": {
      "name": "CrawlData_Website",
      "provenance": [],
      "collapsed_sections": [
        "xJXDx5apkS4z",
        "Ui999VG_gRso",
        "8Z9pYq_3lYL8",
        "pBNJOlpQoMOs",
        "o4P4iN5kie7B",
        "D1jyM4IGBxyq",
        "3DDId618B6Sv",
        "jj9U4gCupfxD",
        "gi54frnO0eIj",
        "4tku8kXx0eJY",
        "-vHF77ys_UtS",
        "INF-iGcR0PUY",
        "CBhyUiwZ0zZy",
        "aTs02j2l0zaB",
        "Ry9W12F90zaI",
        "tIEjdcziUqye"
      ],
      "include_colab_link": true
    },
    "kernelspec": {
      "display_name": "Python 3",
      "name": "python3"
    },
    "language_info": {
      "name": "python"
    }
  },
  "cells": [
    {
      "cell_type": "markdown",
      "metadata": {
        "id": "view-in-github",
        "colab_type": "text"
      },
      "source": [
        "<a href=\"https://colab.research.google.com/github/nguyenvantai102/CS114.L21.KHCL/blob/main/Colab04/CrawlData_Website.ipynb\" target=\"_parent\"><img src=\"https://colab.research.google.com/assets/colab-badge.svg\" alt=\"Open In Colab\"/></a>"
      ]
    },
    {
      "cell_type": "code",
      "metadata": {
        "colab": {
          "base_uri": "https://localhost:8080/"
        },
        "id": "Ky3bmLUdWjPZ",
        "outputId": "82dba6de-3ae8-42df-bf3b-c297fec9aec1"
      },
      "source": [
        "from google.colab import drive\n",
        "drive.mount('/content/drive')"
      ],
      "execution_count": null,
      "outputs": [
        {
          "output_type": "stream",
          "text": [
            "Mounted at /content/drive\n"
          ],
          "name": "stdout"
        }
      ]
    },
    {
      "cell_type": "code",
      "metadata": {
        "id": "JR5q1FCFW2Ra"
      },
      "source": [
        "# Import thư viện\n",
        "import requests\n",
        "from bs4 import BeautifulSoup"
      ],
      "execution_count": null,
      "outputs": []
    },
    {
      "cell_type": "markdown",
      "metadata": {
        "id": "xJXDx5apkS4z"
      },
      "source": [
        "# A. Các trang web châm biếm:\n",
        "## 1. [The Onion](#scrollTo=6XE6DEPQaq5O)\n",
        "## 2. [The Betoota Advocate](#scrollTo=o4P4iN5kie7B)\n",
        "## 3. [World News Daily Report](#scrollTo=jj9U4gCupfxD)\n",
        "## 4. [NewsBiscuit](#scrollTo=CJ_CVvWj1sIR&line=4&uniqifier=1)\n"
      ]
    },
    {
      "cell_type": "markdown",
      "metadata": {
        "id": "6XE6DEPQaq5O"
      },
      "source": [
        "## 1. [The Onion](https://www.theonion.com/)\n",
        "* Ý tưởng:\n",
        "- Kiểm tra sitemap thì web này có, sitemap phát triển trên ý tưởng thời gian\n",
        "- Sử dụng sitemap https://www.theonion.com/sitemap/2019/january/8\n",
        "- Tìm từ tháng 1 tháng 6 năm 2018 ->2021"
      ]
    },
    {
      "cell_type": "markdown",
      "metadata": {
        "id": "Ui999VG_gRso"
      },
      "source": [
        "### a. Xây dựng link để request"
      ]
    },
    {
      "cell_type": "code",
      "metadata": {
        "id": "NHpHZeNDieUK"
      },
      "source": [
        "months_ = [\"january\",\"february\",\"march\",\"april\",\"may\",\"june\",\"july\",\"august\",\"september\",\"october\",\"november\",\"december\"]"
      ],
      "execution_count": null,
      "outputs": []
    },
    {
      "cell_type": "code",
      "metadata": {
        "colab": {
          "base_uri": "https://localhost:8080/"
        },
        "id": "0x0Kd8nnhsiS",
        "outputId": "bfd4378e-2b41-419f-a54e-280e4d3df4e4"
      },
      "source": [
        "FullLink = []\n",
        "for year in range(2018,2022):\n",
        "  months = months_\n",
        "  if year == 2018:\n",
        "    months = months_[5:-1]\n",
        "  if year == 2021:\n",
        "    months = months_[0:5]\n",
        "  for month in months:\n",
        "    for day in range(1,32):\n",
        "      link = \"https://www.theonion.com/sitemap/\" + str(year) +\"/\" + month + \"/\" +str(day)\n",
        "      FullLink.append(link)\n",
        "print(*FullLink[0:10],sep=\"\\n\")\n",
        "print(*FullLink[-10:-1],sep=\"\\n\")"
      ],
      "execution_count": null,
      "outputs": [
        {
          "output_type": "stream",
          "text": [
            "https://www.theonion.com/sitemap/2018/june/1\n",
            "https://www.theonion.com/sitemap/2018/june/2\n",
            "https://www.theonion.com/sitemap/2018/june/3\n",
            "https://www.theonion.com/sitemap/2018/june/4\n",
            "https://www.theonion.com/sitemap/2018/june/5\n",
            "https://www.theonion.com/sitemap/2018/june/6\n",
            "https://www.theonion.com/sitemap/2018/june/7\n",
            "https://www.theonion.com/sitemap/2018/june/8\n",
            "https://www.theonion.com/sitemap/2018/june/9\n",
            "https://www.theonion.com/sitemap/2018/june/10\n",
            "https://www.theonion.com/sitemap/2021/may/22\n",
            "https://www.theonion.com/sitemap/2021/may/23\n",
            "https://www.theonion.com/sitemap/2021/may/24\n",
            "https://www.theonion.com/sitemap/2021/may/25\n",
            "https://www.theonion.com/sitemap/2021/may/26\n",
            "https://www.theonion.com/sitemap/2021/may/27\n",
            "https://www.theonion.com/sitemap/2021/may/28\n",
            "https://www.theonion.com/sitemap/2021/may/29\n",
            "https://www.theonion.com/sitemap/2021/may/30\n"
          ],
          "name": "stdout"
        }
      ]
    },
    {
      "cell_type": "markdown",
      "metadata": {
        "id": "8Z9pYq_3lYL8"
      },
      "source": [
        "### b) Thử nghiệm 1 link"
      ]
    },
    {
      "cell_type": "code",
      "metadata": {
        "colab": {
          "base_uri": "https://localhost:8080/"
        },
        "id": "fEuIW9CClcqo",
        "outputId": "e7f265d1-c286-40aa-dca5-f9ea23151e9d"
      },
      "source": [
        "# Thử tìm thử trong một Category\n",
        "response = requests.get(\"https://www.theonion.com/sitemap/2021/may/26\")\n",
        "soup = BeautifulSoup(response.content, \"html.parser\")\n",
        "# Check và thấy rằng mỗi paper đều nằm trong một thẻ dev và có chung class:\"item-details\"\n",
        "papers = soup.findAll('h4', class_='sc-1w8kdgf-1 bwRmiu js_sitemap-article')\n",
        "for paper in papers:\n",
        "  print(paper)\n",
        "  # # Kiểm tra và thấy link của bài báo nằm ở trong thẻ a thuộc tính href\n",
        "  # link = paper.find('a').attrs[\"href\"]\n",
        "  # # Kiểm tra và thấy tiêu đề của bài báo nằm trong thẻ a thuộc tính title\n",
        "  # title = paper.find('a').attrs[\"title\"]\n",
        "  # # Loại bỏ link ko thuộc chủ đè\n",
        "  # time = paper.find('time').attrs[\"datetime\"]\n",
        "  # if curentcategory[40:] not in link:\n",
        "  #   break\n",
        "  # # Thử in ra màn hình\n",
        "  # print(time[:10])\n",
        "  # print(title + \",\"+link+\",1\")"
      ],
      "execution_count": null,
      "outputs": [
        {
          "output_type": "stream",
          "text": [
            "<h4 class=\"sc-1w8kdgf-1 bwRmiu js_sitemap-article\"><a href=\"https://www.theonion.com/5-things-to-know-about-belarus-leader-diverting-a-ryan-1846976357\">5 Things To Know About Belarus’ Leader Diverting A Ryanair Flight</a></h4>\n",
            "<h4 class=\"sc-1w8kdgf-1 bwRmiu js_sitemap-article\"><a href=\"https://www.theonion.com/ask-the-onion-how-to-go-zero-waste-1846964890\">Ask ‘The Onion’: How To Go Zero Waste</a></h4>\n",
            "<h4 class=\"sc-1w8kdgf-1 bwRmiu js_sitemap-article\"><a href=\"https://www.theonion.com/no-way-to-prevent-this-says-only-nation-where-this-r-1846975039\">‘No Way To Prevent This,’ Says Only Nation Where This Regularly Happens</a></h4>\n",
            "<h4 class=\"sc-1w8kdgf-1 bwRmiu js_sitemap-article\"><a href=\"https://www.theonion.com/biden-putin-to-hold-summit-in-geneva-1846974763\">Biden, Putin To Hold Summit In Geneva</a></h4>\n",
            "<h4 class=\"sc-1w8kdgf-1 bwRmiu js_sitemap-article\"><a href=\"https://www.theonion.com/therapy-myth-vs-fact-1846968446\">Therapy: Myth Vs. Fact</a></h4>\n",
            "<h4 class=\"sc-1w8kdgf-1 bwRmiu js_sitemap-article\"><a href=\"https://www.theonion.com/man-with-family-tattooed-across-chest-forbidden-to-co-1846965699\">Man With ‘Family’ Tattooed Across Chest Forbidden To Come Within 500 Feet Of His Wife</a></h4>\n",
            "<h4 class=\"sc-1w8kdgf-1 bwRmiu js_sitemap-article\"><a href=\"https://www.theonion.com/surgeon-totally-blanks-on-what-he-cut-open-patient-for-1846965502\">Surgeon Totally Blanks On What He Cut Open Patient For</a></h4>\n",
            "<h4 class=\"sc-1w8kdgf-1 bwRmiu js_sitemap-article\"><a href=\"https://www.theonion.com/unexpected-crunch-prompts-woman-to-take-roll-call-of-te-1846937222\">Unexpected Crunch Prompts Woman To Take Roll Call Of Teeth With Tip Of Tongue</a></h4>\n",
            "<h4 class=\"sc-1w8kdgf-1 bwRmiu js_sitemap-article\"><a href=\"https://www.theonion.com/critics-warn-15-wage-will-force-mcdonald-s-to-replace-1846967163\">Critics Warn $15 Wage Will Force McDonald’s To Replace Burger Patties With Robots</a></h4>\n"
          ],
          "name": "stdout"
        }
      ]
    },
    {
      "cell_type": "markdown",
      "metadata": {
        "id": "ZKIf3xeinWHR"
      },
      "source": [
        "* nhận xét: dữ liệu cần lấy nằm trong thẻ a, lấy thôi"
      ]
    },
    {
      "cell_type": "code",
      "metadata": {
        "colab": {
          "base_uri": "https://localhost:8080/"
        },
        "id": "HLDzyEkwlXk7",
        "outputId": "6cb1dc48-eb76-4c59-caac-06a6af4c3334"
      },
      "source": [
        "response = requests.get(\"https://www.theonion.com/sitemap/2021/may/26\")\n",
        "soup = BeautifulSoup(response.content, \"html.parser\")\n",
        "# Check và thấy rằng mỗi paper đều nằm trong một thẻ dev và có chung class:\"item-details\"\n",
        "papers = soup.findAll('h4', class_='sc-1w8kdgf-1 bwRmiu js_sitemap-article')\n",
        "for paper in papers:\n",
        "  link = paper.find('a').attrs[\"href\"]\n",
        "  title = paper.find('a').text.lower()\n",
        "  print(link,title,1 )"
      ],
      "execution_count": null,
      "outputs": [
        {
          "output_type": "stream",
          "text": [
            "https://www.theonion.com/5-things-to-know-about-belarus-leader-diverting-a-ryan-1846976357 5 things to know about belarus’ leader diverting a ryanair flight 1\n",
            "https://www.theonion.com/ask-the-onion-how-to-go-zero-waste-1846964890 ask ‘the onion’: how to go zero waste 1\n",
            "https://www.theonion.com/no-way-to-prevent-this-says-only-nation-where-this-r-1846975039 ‘no way to prevent this,’ says only nation where this regularly happens 1\n",
            "https://www.theonion.com/biden-putin-to-hold-summit-in-geneva-1846974763 biden, putin to hold summit in geneva 1\n",
            "https://www.theonion.com/therapy-myth-vs-fact-1846968446 therapy: myth vs. fact 1\n",
            "https://www.theonion.com/man-with-family-tattooed-across-chest-forbidden-to-co-1846965699 man with ‘family’ tattooed across chest forbidden to come within 500 feet of his wife 1\n",
            "https://www.theonion.com/surgeon-totally-blanks-on-what-he-cut-open-patient-for-1846965502 surgeon totally blanks on what he cut open patient for 1\n",
            "https://www.theonion.com/unexpected-crunch-prompts-woman-to-take-roll-call-of-te-1846937222 unexpected crunch prompts woman to take roll call of teeth with tip of tongue 1\n",
            "https://www.theonion.com/critics-warn-15-wage-will-force-mcdonald-s-to-replace-1846967163 critics warn $15 wage will force mcdonald’s to replace burger patties with robots 1\n"
          ],
          "name": "stdout"
        }
      ]
    },
    {
      "cell_type": "markdown",
      "metadata": {
        "id": "pBNJOlpQoMOs"
      },
      "source": [
        "### c) Tìm trên cả tập link"
      ]
    },
    {
      "cell_type": "code",
      "metadata": {
        "id": "_p1Wv4nsoY70"
      },
      "source": [
        "article_link = []\n",
        "headline = []\n",
        "for linkSiteMap in FullLink:\n",
        "  response = requests.get(linkSiteMap)\n",
        "  soup = BeautifulSoup(response.content, \"html.parser\")\n",
        "  # Check và thấy rằng mỗi paper đều nằm trong một thẻ dev và có chung class:\"item-details\"\n",
        "  papers = soup.findAll('h4', class_='sc-1w8kdgf-1 bwRmiu js_sitemap-article')\n",
        "  for paper in papers:\n",
        "    link = paper.find('a').attrs[\"href\"]\n",
        "    title = paper.find('a').text.lower()\n",
        "    article_link.append(link)\n",
        "    headline.append(title)"
      ],
      "execution_count": null,
      "outputs": []
    },
    {
      "cell_type": "code",
      "metadata": {
        "colab": {
          "base_uri": "https://localhost:8080/",
          "height": 417
        },
        "id": "ZORRWm2FqgCN",
        "outputId": "12f813e1-0742-4ecf-893b-e8d46731cc8e"
      },
      "source": [
        "import pandas as pd\n",
        "FullData1 = pd.DataFrame(columns= ['article_link', 'headline', 'is_sarcastic'])\n",
        "FullData1['article_link'] = article_link\n",
        "FullData1['headline'] = headline\n",
        "FullData1['is_sarcastic'] = 1\n",
        "FullData1"
      ],
      "execution_count": null,
      "outputs": [
        {
          "output_type": "execute_result",
          "data": {
            "text/html": [
              "<div>\n",
              "<style scoped>\n",
              "    .dataframe tbody tr th:only-of-type {\n",
              "        vertical-align: middle;\n",
              "    }\n",
              "\n",
              "    .dataframe tbody tr th {\n",
              "        vertical-align: top;\n",
              "    }\n",
              "\n",
              "    .dataframe thead th {\n",
              "        text-align: right;\n",
              "    }\n",
              "</style>\n",
              "<table border=\"1\" class=\"dataframe\">\n",
              "  <thead>\n",
              "    <tr style=\"text-align: right;\">\n",
              "      <th></th>\n",
              "      <th>article_link</th>\n",
              "      <th>headline</th>\n",
              "      <th>is_sarcastic</th>\n",
              "    </tr>\n",
              "  </thead>\n",
              "  <tbody>\n",
              "    <tr>\n",
              "      <th>0</th>\n",
              "      <td>https://www.theonion.com/dying-cat-mercifully-...</td>\n",
              "      <td>dying cat mercifully put down garbage disposal</td>\n",
              "      <td>1</td>\n",
              "    </tr>\n",
              "    <tr>\n",
              "      <th>1</th>\n",
              "      <td>https://www.theonion.com/washed-up-former-spel...</td>\n",
              "      <td>washed-up former spelling bee champion sitting...</td>\n",
              "      <td>1</td>\n",
              "    </tr>\n",
              "    <tr>\n",
              "      <th>2</th>\n",
              "      <td>https://www.theonion.com/trump-boys-construct-...</td>\n",
              "      <td>trump boys construct fake melania for lonely f...</td>\n",
              "      <td>1</td>\n",
              "    </tr>\n",
              "    <tr>\n",
              "      <th>3</th>\n",
              "      <td>https://www.theonion.com/25-000-neti-pots-reca...</td>\n",
              "      <td>25,000 neti pots recalled after defect causes ...</td>\n",
              "      <td>1</td>\n",
              "    </tr>\n",
              "    <tr>\n",
              "      <th>4</th>\n",
              "      <td>https://www.theonion.com/botanic-garden-forced...</td>\n",
              "      <td>botanic garden forced to euthanize rose bush t...</td>\n",
              "      <td>1</td>\n",
              "    </tr>\n",
              "    <tr>\n",
              "      <th>...</th>\n",
              "      <td>...</td>\n",
              "      <td>...</td>\n",
              "      <td>...</td>\n",
              "    </tr>\n",
              "    <tr>\n",
              "      <th>8534</th>\n",
              "      <td>https://www.theonion.com/nation-pauses-to-refl...</td>\n",
              "      <td>nation pauses to reflect on heroic sacrifices ...</td>\n",
              "      <td>1</td>\n",
              "    </tr>\n",
              "    <tr>\n",
              "      <th>8535</th>\n",
              "      <td>https://www.theonion.com/mario-golf-producer-d...</td>\n",
              "      <td>mario golf producer defends choice to use cgi ...</td>\n",
              "      <td>1</td>\n",
              "    </tr>\n",
              "    <tr>\n",
              "      <th>8536</th>\n",
              "      <td>https://www.theonion.com/use-this-checklist-to...</td>\n",
              "      <td>use this checklist to build the ultimate bug-o...</td>\n",
              "      <td>1</td>\n",
              "    </tr>\n",
              "    <tr>\n",
              "      <th>8537</th>\n",
              "      <td>https://www.theonion.com/bob-baffert-once-agai...</td>\n",
              "      <td>bob baffert once again denies doping allegatio...</td>\n",
              "      <td>1</td>\n",
              "    </tr>\n",
              "    <tr>\n",
              "      <th>8538</th>\n",
              "      <td>https://www.theonion.com/university-names-coll...</td>\n",
              "      <td>university names college of fine arts after ch...</td>\n",
              "      <td>1</td>\n",
              "    </tr>\n",
              "  </tbody>\n",
              "</table>\n",
              "<p>8539 rows × 3 columns</p>\n",
              "</div>"
            ],
            "text/plain": [
              "                                           article_link  ... is_sarcastic\n",
              "0     https://www.theonion.com/dying-cat-mercifully-...  ...            1\n",
              "1     https://www.theonion.com/washed-up-former-spel...  ...            1\n",
              "2     https://www.theonion.com/trump-boys-construct-...  ...            1\n",
              "3     https://www.theonion.com/25-000-neti-pots-reca...  ...            1\n",
              "4     https://www.theonion.com/botanic-garden-forced...  ...            1\n",
              "...                                                 ...  ...          ...\n",
              "8534  https://www.theonion.com/nation-pauses-to-refl...  ...            1\n",
              "8535  https://www.theonion.com/mario-golf-producer-d...  ...            1\n",
              "8536  https://www.theonion.com/use-this-checklist-to...  ...            1\n",
              "8537  https://www.theonion.com/bob-baffert-once-agai...  ...            1\n",
              "8538  https://www.theonion.com/university-names-coll...  ...            1\n",
              "\n",
              "[8539 rows x 3 columns]"
            ]
          },
          "metadata": {
            "tags": []
          },
          "execution_count": 10
        }
      ]
    },
    {
      "cell_type": "markdown",
      "metadata": {
        "id": "ZgeD8f5drnDW"
      },
      "source": [
        "### d) Save to .CSV"
      ]
    },
    {
      "cell_type": "code",
      "metadata": {
        "colab": {
          "base_uri": "https://localhost:8080/"
        },
        "id": "t1yIAqB8rnDY",
        "outputId": "85f13835-d5f4-4b84-9c44-28769ae4f89e"
      },
      "source": [
        "from google.colab import drive\n",
        "drive.mount('/content/drive')\n",
        "FullData0.to_csv(r'/content/drive/MyDrive/Colab Notebooks/DATA_ML/TheOnion.csv', index = False, header=False)"
      ],
      "execution_count": null,
      "outputs": [
        {
          "output_type": "stream",
          "text": [
            "Drive already mounted at /content/drive; to attempt to forcibly remount, call drive.mount(\"/content/drive\", force_remount=True).\n"
          ],
          "name": "stdout"
        }
      ]
    },
    {
      "cell_type": "markdown",
      "metadata": {
        "id": "o4P4iN5kie7B"
      },
      "source": [
        "## 2. [The Betoota Advocate](https://www.betootaadvocate.com/)\n",
        "** Ý tưởng:\n",
        "- Bước 1 lấy link của các thể loại [trên thanh menu] có trên web\n",
        "- bước 2 truy cập từng thu mục lấy các bài về\n",
        "\n",
        "** Bài viết tham khảo:\n",
        "[Cùng Python Crawl Dữ Liệu Để Tạo Bài Báo Nhanh](https://codelearn.io/sharing/python-crawl-du-lieu-tao-bai-bao-nhanh?fbclid=IwAR2Y1Dufc9GACkdnvZVZLX8V_qIsHZxFJOt-kAYlSHtx0Si6TpN6gsEzsJ8)\n"
      ]
    },
    {
      "cell_type": "markdown",
      "metadata": {
        "id": "D1jyM4IGBxyq"
      },
      "source": [
        "### Bước 1 lấy link của các thể loại [trên thanh menu] có trên web"
      ]
    },
    {
      "cell_type": "code",
      "metadata": {
        "colab": {
          "base_uri": "https://localhost:8080/"
        },
        "id": "yn-9iUkMlp-D",
        "outputId": "4637e0ed-27b4-4d40-b350-eacf42029c63"
      },
      "source": [
        "# Import thư viện\n",
        "import requests\n",
        "from bs4 import BeautifulSoup\n",
        "# Load request từ trang chủ tờ báo\n",
        "response = requests.get(\"https://www.betootaadvocate.com/\")\n",
        "# Lấy Source HTML vừa request\n",
        "soup = BeautifulSoup(response.content, \"html.parser\")\n",
        "# Check source HTML thì thấy những \"Thể loại\" nằm trong thẻ li, class = 'menu-item-object-category' ---> Lọc ngay chần chừ gì nữa\n",
        "category = soup.findAll('li', class_='menu-item-object-category')\n",
        "# Mà ta chỉ cần lấy link thôi! Link thì nằm trong thẻ a thuộc tính href ---> Lọc ra \n",
        "CategoryLinks = set(link.find('a').attrs[\"href\"] for link in category)\n",
        "# In thành quả\n",
        "print(*CategoryLinks, sep=\"\\n\")"
      ],
      "execution_count": null,
      "outputs": [
        {
          "output_type": "stream",
          "text": [
            "https://www.betootaadvocate.com/category/uncategorized/\n",
            "https://www.betootaadvocate.com/category/humans-of-betoota/\n",
            "https://www.betootaadvocate.com/category/world-news/\n",
            "https://www.betootaadvocate.com/category/breaking-news/\n",
            "https://www.betootaadvocate.com/category/entertainment/\n",
            "https://www.betootaadvocate.com/category/advocate-in-focus/\n",
            "https://www.betootaadvocate.com/category/sports/\n"
          ],
          "name": "stdout"
        }
      ]
    },
    {
      "cell_type": "markdown",
      "metadata": {
        "id": "dpvycMLFB2Wm"
      },
      "source": [
        "### Bước 2 truy cập từng thu mục lấy các bài về"
      ]
    },
    {
      "cell_type": "markdown",
      "metadata": {
        "id": "3DDId618B6Sv"
      },
      "source": [
        "#### a) Phân tích thử một mục"
      ]
    },
    {
      "cell_type": "code",
      "metadata": {
        "colab": {
          "base_uri": "https://localhost:8080/"
        },
        "id": "XhAOIYvSoNg4",
        "outputId": "d8fe8f8c-b4d0-4901-d1b4-3a6d5472ad07"
      },
      "source": [
        "# Thử tìm thử trong một Category\n",
        "curentcategory = 'https://www.betootaadvocate.com/category/breaking-news/'\n",
        "response = requests.get(\"https://www.betootaadvocate.com/category/breaking-news/page/16/\")\n",
        "soup = BeautifulSoup(response.content, \"html.parser\")\n",
        "# Check và thấy rằng mỗi paper đều nằm trong một thẻ dev và có chung class:\"item-details\"\n",
        "papers = soup.findAll('div', class_='item-details')\n",
        "\n",
        "for paper in papers:\n",
        "  # Kiểm tra và thấy link của bài báo nằm ở trong thẻ a thuộc tính href\n",
        "  link = paper.find('a').attrs[\"href\"]\n",
        "  # Kiểm tra và thấy tiêu đề của bài báo nằm trong thẻ a thuộc tính title\n",
        "  title = paper.find('a').attrs[\"title\"]\n",
        "  # Loại bỏ link ko thuộc chủ đè\n",
        "  time = paper.find('time').attrs[\"datetime\"]\n",
        "  if curentcategory[40:] not in link:\n",
        "    break\n",
        "  # Thử in ra màn hình\n",
        "  print(time[:10])\n",
        "  print(title + \",\"+link+\",1\")"
      ],
      "execution_count": null,
      "outputs": [
        {
          "output_type": "stream",
          "text": [
            "2020-12-17\n",
            "Sunkissed Drunk Has Low-Carb Third Snag After Bread Runs Out,https://www.betootaadvocate.com/breaking-news/sunkissed-drunk-has-low-carb-third-snag-after-bread-runs-out/,1\n",
            "2020-12-17\n",
            "La-De-Da Cousins Have Water Dispenser In Fridge,https://www.betootaadvocate.com/breaking-news/la-de-da-cousins-have-water-dispenser-in-fridge/,1\n",
            "2020-12-17\n",
            "Nan’s UNO Victory Foiled By Hypercompetitive Adult Grandson Calling Her Out For Not Saying UNO,https://www.betootaadvocate.com/breaking-news/nans-uno-victory-foiled-by-hypercompetitive-adult-grandson-calling-her-out-for-not-saying-uno/,1\n",
            "2020-12-17\n",
            "The Rest Of Australia Tells Sydney’s Northern Beaches To Keep That Fucking Bridge Up,https://www.betootaadvocate.com/breaking-news/australia-tells-sydneys-northern-beaches-to-keep-that-fucking-bridge-up/,1\n",
            "2020-12-15\n",
            "Aussie Film Industry Secures Major Coup With Next Jurassic Park To Be Filmed In Sky News Studio,https://www.betootaadvocate.com/breaking-news/aussie-film-industry-secures-major-coup-with-next-jurassic-park-to-be-filmed-in-sky-news-studio/,1\n",
            "2020-12-15\n",
            "Chinese Trade War Results In Critical Shortage Of Single-Use Power Tools,https://www.betootaadvocate.com/breaking-news/chinese-trade-war-results-in-critical-shortage-of-single-use-power-tools/,1\n",
            "2020-12-14\n",
            "Officeworks Really Doing Their Best To Spoil The Remaining School Holidays,https://www.betootaadvocate.com/breaking-news/officeworks-really-doing-their-best-to-spoil-the-remaining-school-holidays-2/,1\n",
            "2020-12-14\n",
            "“I Don’t Really Burn,” Says Local Moron About To Be Burnt,https://www.betootaadvocate.com/breaking-news/i-dont-really-burn-says-local-moron-about-to-be-burnt/,1\n",
            "2020-12-13\n",
            "Local Bushie Casually Flicks Away Huntsman Spider With His Bare Hand,https://www.betootaadvocate.com/breaking-news/local-bushie-flicks-away-huntsman-spider-with-his-bare-hand/,1\n",
            "2020-12-13\n",
            "Aboriginal Flags At Half Mast After American Country Music Singer Charley Pride Dies Aged 86,https://www.betootaadvocate.com/breaking-news/aboriginal-flags-at-half-mast-after-american-country-music-singer-charley-pride-dies-aged-86/,1\n"
          ],
          "name": "stdout"
        }
      ]
    },
    {
      "cell_type": "markdown",
      "metadata": {
        "id": "iE7WCUr9jR11"
      },
      "source": [
        "#### b) PHÂN TÍCH ĐÃ XONG, GỘP LẠI -> CRAWL CẢ TRANG NÀO"
      ]
    },
    {
      "cell_type": "code",
      "metadata": {
        "id": "x-Qni8XwjvKt"
      },
      "source": [
        "# Thuật toán check thời gian 3 năm trở lại\n",
        "# vì định dạng ngày tháng ở trên theo năm, tháng, ngày \n",
        "def checkTime(time):\n",
        "  now3year = \"2018-06-10\"\n",
        "  return time>=now3year"
      ],
      "execution_count": null,
      "outputs": []
    },
    {
      "cell_type": "code",
      "metadata": {
        "id": "rcNGTJjfjaWb"
      },
      "source": [
        "article_link = []\n",
        "headline = []\n",
        "for categorylink in CategoryLinks:\n",
        "  number = 0\n",
        "  count = 0\n",
        "  while True:\n",
        "    try:\n",
        "      number += 1\n",
        "      curentcategory = categorylink + \"page/\" + str(number) + \"/\";\n",
        "      # Thử tìm thử trong một Category\n",
        "      response = requests.get(curentcategory)\n",
        "      soup = BeautifulSoup(response.content, \"html.parser\")\n",
        "      # Check và thấy rằng mỗi paper đều nằm trong một thẻ dev và có chung class:\"item-details\"\n",
        "      papers = soup.findAll('div', class_='item-details')\n",
        "      # Dừng khi ko trang request ko có bài báo nào\n",
        "      if len(papers) == 0:\n",
        "        break\n",
        "      for paper in papers:\n",
        "        # Kiểm tra và thấy link của bài báo nằm ở trong thẻ a thuộc tính href\n",
        "        link = paper.find('a').attrs[\"href\"]\n",
        "        # Kiểm tra và thấy tiêu đề của bài báo nằm trong thẻ a thuộc tính title\n",
        "        title = paper.find('a').attrs[\"title\"].lower()\n",
        "        # Kiểm tra phải viết 3 năm trở lại đây không\n",
        "        time = paper.find('time').attrs[\"datetime\"]\n",
        "        if not checkTime(time):\n",
        "          break\n",
        "        # Loại bỏ link ko thuộc chủ đè\n",
        "        if (categorylink[40:] not in link) or (link in article_link):\n",
        "          break\n",
        "        # Thử in ra màn hình\n",
        "        article_link.append(link)\n",
        "        headline.append(title)\n",
        "    except:\n",
        "      break"
      ],
      "execution_count": null,
      "outputs": []
    },
    {
      "cell_type": "code",
      "metadata": {
        "id": "btakDM-egHYF"
      },
      "source": [
        "import pandas as pd\n",
        "FullData2 = pd.DataFrame(columns= ['article_link', 'headline', 'is_sarcastic'])\n",
        "FullData2['article_link'] = article_link\n",
        "FullData2['headline'] = headline\n",
        "FullData2['is_sarcastic'] = 1"
      ],
      "execution_count": null,
      "outputs": []
    },
    {
      "cell_type": "markdown",
      "metadata": {
        "id": "5sgxYBih1F19"
      },
      "source": [
        "#### c) Save to .CSV"
      ]
    },
    {
      "cell_type": "code",
      "metadata": {
        "colab": {
          "base_uri": "https://localhost:8080/"
        },
        "id": "ObFJBi_ySu96",
        "outputId": "69415f62-a0f7-4299-c442-82fd99813a89"
      },
      "source": [
        "from google.colab import drive\n",
        "drive.mount('/content/drive')\n",
        "FullData2.to_csv(r'/content/drive/MyDrive/Colab Notebooks/DATA_ML/thebetootaadvocate_com.csv', index = False, header=False)"
      ],
      "execution_count": null,
      "outputs": [
        {
          "output_type": "stream",
          "text": [
            "Drive already mounted at /content/drive; to attempt to forcibly remount, call drive.mount(\"/content/drive\", force_remount=True).\n"
          ],
          "name": "stdout"
        }
      ]
    },
    {
      "cell_type": "markdown",
      "metadata": {
        "id": "jj9U4gCupfxD"
      },
      "source": [
        "## 3. [World News Daily Report](https://worldnewsdailyreport.com/)\n",
        "Kế thừa ý tưởng từ Crawl web [The Betoota Advocate](https://www.betootaadvocate.com/)\n"
      ]
    },
    {
      "cell_type": "markdown",
      "metadata": {
        "id": "gi54frnO0eIj"
      },
      "source": [
        "### Bước 1 lấy link của các thể loại [trên thanh menu] có trên web"
      ]
    },
    {
      "cell_type": "code",
      "metadata": {
        "id": "4n_gBJk40eJS"
      },
      "source": [
        "# Import thư viện\n",
        "import requests\n",
        "from bs4 import BeautifulSoup\n",
        "# Load request từ trang chủ tờ báo\n",
        "response = requests.get(\"https://worldnewsdailyreport.com/\")\n",
        "# Lấy Source HTML vừa request\n",
        "soup = BeautifulSoup(response.content, \"html.parser\")\n",
        "# Check source HTML thì thấy những \"Thể loại\" nằm trong thẻ li, class = 'menu-item-object-category' ---> Lọc ngay chần chừ gì nữa\n",
        "category = soup.findAll('li', class_='menu-item-object-category')\n",
        "# Mà ta chỉ cần lấy link thôi! Link thì nằm trong thẻ a thuộc tính href ---> Lọc ra \n",
        "CategoryLinks = set(link.find('a').attrs[\"href\"] for link in category)\n",
        "# In thành quả\n",
        "print(*CategoryLinks, sep=\"\\n\")"
      ],
      "execution_count": null,
      "outputs": []
    },
    {
      "cell_type": "markdown",
      "metadata": {
        "id": "4tku8kXx0eJY"
      },
      "source": [
        "### Bước 2 truy cập từng thu mục lấy các bài về"
      ]
    },
    {
      "cell_type": "markdown",
      "metadata": {
        "id": "_PmGDFWi0eJZ"
      },
      "source": [
        "#### a) Phân tích thử một mục"
      ]
    },
    {
      "cell_type": "code",
      "metadata": {
        "colab": {
          "base_uri": "https://localhost:8080/"
        },
        "id": "eU01ZIs90eJb",
        "outputId": "105f15fc-31e1-44a5-edfb-6ac2e18f6989"
      },
      "source": [
        "# Thử tìm thử trong một Category\n",
        "response = requests.get(\"https://worldnewsdailyreport.com/category/people/page/2/\")\n",
        "soup = BeautifulSoup(response.content, \"html.parser\")\n",
        "# Check và thấy rằng mỗi paper đều nằm trong một thẻ dev và có chung class:\"item-details\"\n",
        "papers = soup.findAll('h3', class_='entry-title content-list-title')\n",
        "\n",
        "for paper in papers:\n",
        "  # Kiểm tra và thấy link của bài báo nằm ở trong thẻ a thuộc tính href\n",
        "  link = paper.find('a').attrs[\"href\"]\n",
        "  # Kiểm tra và thấy tiêu đề của bài báo nằm trong thẻ a thuộc tính title\n",
        "  title = paper.find('a').attrs[\"title\"]\n",
        "  # Thử in ra màn hình\n",
        "  print(title + \",\"+link+\",1\")"
      ],
      "execution_count": null,
      "outputs": [
        {
          "output_type": "stream",
          "text": [
            "San Francisco man requires 176 stitches to anus after boyfriend used jackhammer as sex toy,https://worldnewsdailyreport.com/san-francisco-man-requires-176-stitches-to-anus-after-boyfriend-used-jackhammer-as-sex-toy/,1\n",
            "Burglar sues homeowner after being raped by German shepherds while stuck in house’s pet door,https://worldnewsdailyreport.com/burglar-sues-homeowner-after-being-raped-by-german-shepherds-while-stuck-in-houses-pet-door/,1\n",
            "Man turns himself in to police for killing his inflatable sex doll girlfriend, claims mental illness,https://worldnewsdailyreport.com/man-turns-himself-in-to-police-for-killing-his-inflatable-sex-doll-girlfriend-claims-mental-illness/,1\n",
            "Utah woman arrested for secretly putting penis enlargement drugs in her husband’s food for years,https://worldnewsdailyreport.com/utah-woman-arrested-for-secretly-putting-penis-enlargement-drugs-in-her-husbands-food-for-years/,1\n",
            "California man sues his parents for $1,8M for dressing him up as a girl up to the age of 14,https://worldnewsdailyreport.com/california-man-sues-his-parents-for-18m-for-dressing-him-up-as-a-girl-up-to-the-age-of-14/,1\n",
            "Woman sues USPS for $1,1M in child support after having 6 children from 5 different mailmen,https://worldnewsdailyreport.com/woman-sues-usps-for-11m-in-child-support-after-having-6-children-from-5-different-mailmen/,1\n",
            "New Zealand farmer jailed after sexually transmitting coronavirus to flock of 400 sheep,https://worldnewsdailyreport.com/new-zealand-farmer-jailed-after-sexually-transmitting-coronavirus-to-flock-of-400-sheep/,1\n",
            "Utah family claims 15-year-old son turned gay after 5G cell phone tower was installed near home,https://worldnewsdailyreport.com/utah-family-claims-15-year-old-son-turned-gay-after-5g-cell-phone-tower-was-installed-near-home/,1\n",
            "Two gorillas at San Diego Zoo test positive for COVID-19 after being sexually assaulted by drunk woman,https://worldnewsdailyreport.com/two-gorillas-at-san-diego-zoo-safari-park-test-positive-for-covid-19-after-being-sexually-assaulted-by-drunk-woman/,1\n",
            "Man with sexual fetish about nasal swabs banned from COVID testing after 192 negative tests,https://worldnewsdailyreport.com/man-with-sexual-fetish-about-nasal-swabs-banned-from-covid-testing-after-192-negative-tests/,1\n"
          ],
          "name": "stdout"
        }
      ]
    },
    {
      "cell_type": "markdown",
      "metadata": {
        "id": "a9TUpgn80eJe"
      },
      "source": [
        "#### b) PHÂN TÍCH ĐÃ XONG, GỘP LẠI -> CRAWL CẢ TRANG NÀO"
      ]
    },
    {
      "cell_type": "markdown",
      "metadata": {
        "id": "8JizbPsiMWKk"
      },
      "source": [
        "##### Hàm check thời gian "
      ]
    },
    {
      "cell_type": "code",
      "metadata": {
        "id": "glzUPJ630eJf"
      },
      "source": [
        "# Thuật toán check thời gian 3 năm trở lại\n",
        "# Khác với bài trên, với trang web này thì không hiển thị ngày tháng bên ngoài bản tóm tắt tìm được\n",
        "# mà cũng không thể hiện trên màn hình khi truy cập nhưng lại nằm trong thẻ <meta property=\"article:published_time\" content=\"2015-09-10T20:31:15+00:00\" /> \n",
        "# b1: truy cập vào paper\n",
        "# b2: lấy time\n",
        "def checkTime(linkpaper):\n",
        "  now3year = \"2018-06-10\"\n",
        "  # truy cập paper\n",
        "  response = requests.get(linkpaper)\n",
        "  soup = BeautifulSoup(response.content, \"html.parser\")\n",
        "  # Lấy thẻ meta có chứa thời gian đăng bài\n",
        "  meta = soup.find('meta', attrs={'property': 'article:published_time'})\n",
        "  # lấy nội dung\n",
        "  time = meta.attrs[\"content\"]\n",
        "  # print(time[:10])\n",
        "  time = time[:10]\n",
        "  return time>=now3year"
      ],
      "execution_count": null,
      "outputs": []
    },
    {
      "cell_type": "markdown",
      "metadata": {
        "id": "e3Le0VXQMlLT"
      },
      "source": [
        "##### Run"
      ]
    },
    {
      "cell_type": "code",
      "metadata": {
        "id": "c_TP9IIs0eJg"
      },
      "source": [
        "article_link = []\n",
        "headline = []\n",
        "for categorylink in CategoryLinks:\n",
        "  number = 0\n",
        "  while True:\n",
        "    try:\n",
        "      number += 1\n",
        "      curentcategory = categorylink + \"page/\" + str(number) + \"/\";\n",
        "      # Thử tìm thử trong một Category\n",
        "      response = requests.get(curentcategory)\n",
        "      soup = BeautifulSoup(response.content, \"html.parser\")\n",
        "      # Check và thấy rằng mỗi paper đều nằm trong một thẻ dev và có chung class:\"item-details\"\n",
        "      papers = soup.findAll('h3', class_='entry-title content-list-title')\n",
        "      # Dừng khi ko trang request ko có bài báo nào\n",
        "      if len(papers) == 0:\n",
        "        break\n",
        "      for paper in papers:\n",
        "        # Kiểm tra và thấy link của bài báo nằm ở trong thẻ a thuộc tính href\n",
        "        link = paper.find('a').attrs[\"href\"]\n",
        "        # Kiểm tra và thấy tiêu đề của bài báo nằm trong thẻ a thuộc tính title\n",
        "        title = paper.find('a').attrs[\"title\"].lower()\n",
        "        # Kiểm tra phải viết 3 năm trở lại đây không\n",
        "        if not checkTime(link):\n",
        "          break\n",
        "        # Loại bỏ link ko thuộc chủ đè\n",
        "        if link in article_link:\n",
        "          break\n",
        "        # Thử in ra màn hình\n",
        "        article_link.append(link)\n",
        "        headline.append(title)\n",
        "    except:\n",
        "      break"
      ],
      "execution_count": null,
      "outputs": []
    },
    {
      "cell_type": "code",
      "metadata": {
        "id": "ddCo_HNH0eJj"
      },
      "source": [
        "import pandas as pd\n",
        "FullData3 = pd.DataFrame(columns= ['article_link', 'headline', 'is_sarcastic'])\n",
        "FullData3['article_link'] = article_link\n",
        "FullData3['headline'] = headline\n",
        "FullData3['is_sarcastic'] = 1\n",
        "FullData3"
      ],
      "execution_count": null,
      "outputs": []
    },
    {
      "cell_type": "markdown",
      "metadata": {
        "id": "rPL78kfln8Wi"
      },
      "source": [
        "### 3. CRAWL lại\n",
        "Phương pháp giống với web 4"
      ]
    },
    {
      "cell_type": "code",
      "metadata": {
        "id": "IWDMmIfMol-z"
      },
      "source": [
        "FullLink = []\n",
        "months = range(1,13)\n",
        "for year in range(2018,2022):\n",
        "  if year == 2018:\n",
        "    months = range(6,13)\n",
        "  if year == 2021:\n",
        "    months = range(1,6)\n",
        "  for month in months:\n",
        "    link = \"https://worldnewsdailyreport.com/\" + str(year) +\"/\" + str(month) + \"/\"\n",
        "    FullLink.append(link)\n",
        "print(*FullLink,sep=\"\\n\")"
      ],
      "execution_count": null,
      "outputs": []
    },
    {
      "cell_type": "code",
      "metadata": {
        "id": "yUQf6IfupayT"
      },
      "source": [
        "response = requests.get('https://worldnewsdailyreport.com/2019/page/1')\n",
        "soup = BeautifulSoup(response.content, \"html.parser\")\n",
        "\n",
        "# Check và thấy rằng mỗi paper đều nằm trong một thẻ dev và có chung class:\"item-details\"\n",
        "papers = soup.findAll('h3', class_='entry-title content-list-title')\n",
        "for paper in papers:\n",
        "  try:\n",
        "    # Kiểm tra và thấy link của bài báo nằm ở trong thẻ a thuộc tính href\n",
        "    link = paper.find('a').attrs[\"href\"]\n",
        "    # Kiểm tra và thấy tiêu đề của bài báo nằm trong thẻ a thuộc tính title\n",
        "    title = paper.find('a').attrs[\"title\"].lower()\n",
        "\n",
        "    print(link)\n",
        "    print(title)\n",
        "  except:\n",
        "    continue    "
      ],
      "execution_count": null,
      "outputs": []
    },
    {
      "cell_type": "code",
      "metadata": {
        "id": "IbrGBjRXp_pA"
      },
      "source": [
        "article_link = []\n",
        "headline = []\n",
        "for categorylink in FullLink:\n",
        "  number = 0\n",
        "  while True:\n",
        "    try:\n",
        "      number += 1\n",
        "      curentcategory = categorylink + \"page/\" + str(number) + \"/\";\n",
        "      # Thử tìm thử trong một Category\n",
        "      response = requests.get(curentcategory)\n",
        "      soup = BeautifulSoup(response.content, \"html.parser\")\n",
        "      # Check và thấy rằng mỗi paper đều nằm trong một thẻ dev và có chung class:\"item-details\"\n",
        "      papers = soup.findAll('h3', class_='entry-title content-list-title')\n",
        "      # Dừng khi ko trang request ko có bài báo nào\n",
        "      if len(papers) == 0:\n",
        "        break\n",
        "      for paper in papers:\n",
        "        # Kiểm tra và thấy link của bài báo nằm ở trong thẻ a thuộc tính href\n",
        "        link = paper.find('a').attrs[\"href\"]\n",
        "        # Kiểm tra và thấy tiêu đề của bài báo nằm trong thẻ a thuộc tính title\n",
        "        title = paper.find('a').attrs[\"title\"].lower()\n",
        "\n",
        "        article_link.append(link)\n",
        "        headline.append(title)\n",
        "    except:\n",
        "      break"
      ],
      "execution_count": null,
      "outputs": []
    },
    {
      "cell_type": "code",
      "metadata": {
        "id": "_0hrJCHwq4wq"
      },
      "source": [
        "import pandas as pd\n",
        "FullData3 = pd.DataFrame(columns= ['article_link', 'headline', 'is_sarcastic'])\n",
        "FullData3['article_link'] = article_link\n",
        "FullData3['headline'] = headline\n",
        "FullData3['is_sarcastic'] = 1\n",
        "FullData3"
      ],
      "execution_count": null,
      "outputs": []
    },
    {
      "cell_type": "markdown",
      "metadata": {
        "id": "N8dEaPm_oYZc"
      },
      "source": [
        "### 4. Save CSV"
      ]
    },
    {
      "cell_type": "code",
      "metadata": {
        "colab": {
          "base_uri": "https://localhost:8080/"
        },
        "id": "MLQDh8cK0eJn",
        "outputId": "b18cf73a-1b26-46cc-e4df-85514423d766"
      },
      "source": [
        "from google.colab import drive\n",
        "drive.mount('/content/drive')\n",
        "FullData3.to_csv(r'/content/drive/MyDrive/Colab Notebooks/DATA_ML/WorldNewsDailyReport.csv', index = False, header=False)"
      ],
      "execution_count": null,
      "outputs": [
        {
          "output_type": "stream",
          "text": [
            "Drive already mounted at /content/drive; to attempt to forcibly remount, call drive.mount(\"/content/drive\", force_remount=True).\n"
          ],
          "name": "stdout"
        }
      ]
    },
    {
      "cell_type": "markdown",
      "metadata": {
        "id": "CJ_CVvWj1sIR"
      },
      "source": [
        "## 4. [NewsBiscuit](http://www.newsbiscuit.com/)\n",
        "** Ý tưởng: Thử truy cập thử vào web thấy các địa chỉ web có ngày tháng, tiến hành kiểm tra thì khá ổn http://www.newsbiscuit.com/2021/06/05/\n",
        "- Tạo link để request\n",
        "- resquest và lấy bài\n"
      ]
    },
    {
      "cell_type": "markdown",
      "metadata": {
        "id": "-vHF77ys_UtS"
      },
      "source": [
        "### Bước 1 Tạo danh sách link request"
      ]
    },
    {
      "cell_type": "code",
      "metadata": {
        "id": "ZsySIhNs_UtS"
      },
      "source": [
        "FullLink = []\n",
        "months = range(1,13)\n",
        "for year in range(2018,2022):\n",
        "  if year == 2018:\n",
        "    months = range(6,13)\n",
        "  if year == 2021:\n",
        "    months = range(1,6)\n",
        "  for month in months:\n",
        "    link = \"http://www.newsbiscuit.com/\" + str(year) +\"/\" + str(month) + \"/\"\n",
        "    FullLink.append(link)\n",
        "print(*FullLink,sep=\"\\n\")"
      ],
      "execution_count": null,
      "outputs": []
    },
    {
      "cell_type": "markdown",
      "metadata": {
        "id": "LpYQo9T8_UtT"
      },
      "source": [
        "### Bước 2 truy cập từng thu mục lấy các bài về"
      ]
    },
    {
      "cell_type": "markdown",
      "metadata": {
        "id": "-1EzrRXb_UtT"
      },
      "source": [
        "#### a) Phân tích thử một mục"
      ]
    },
    {
      "cell_type": "code",
      "metadata": {
        "id": "4nKFC72Z_UtT"
      },
      "source": [
        "\n",
        "# Thử tìm thử trong một Category\n",
        "response = requests.get(\"http://www.newsbiscuit.com/2021/2/page/3/\")\n",
        "soup = BeautifulSoup(response.content, \"html.parser\")\n",
        "# Check và thấy rằng mỗi paper đều nằm trong một thẻ dev và có chung class:\"item-details\"\n",
        "papers = soup.findAll('div', class_='col-sm-8 text-center')\n",
        "for paper in papers:\n",
        "  # Kiểm tra và thấy link của bài báo nằm ở trong thẻ a thuộc tính href\n",
        "  link = paper.find('a').attrs[\"href\"]\n",
        "  # Kiểm tra và thấy tiêu đề của bài báo nằm trong thẻ a thuộc tính title\n",
        "  title = paper.find('a').text\n",
        "  print(title + \",\"+link)"
      ],
      "execution_count": null,
      "outputs": []
    },
    {
      "cell_type": "markdown",
      "metadata": {
        "id": "NQSXjNyS_UtU"
      },
      "source": [
        "#### b) CRAWL CẢ TRANG"
      ]
    },
    {
      "cell_type": "code",
      "metadata": {
        "id": "oHC4zHevsGm4"
      },
      "source": [
        "article_link = []\n",
        "headline = []\n",
        "for categorylink in FullLink:\n",
        "  number = 0\n",
        "  while True:\n",
        "    try:\n",
        "      number += 1\n",
        "      linkSiteMap = categorylink + \"page/\" + str(number) + \"/\";\n",
        "      # Thử tìm thử trong một Category\n",
        "      response = requests.get(linkSiteMap)\n",
        "      soup = BeautifulSoup(response.content, \"html.parser\")\n",
        "      # Check và thấy rằng mỗi paper đều nằm trong một thẻ dev và có chung class:\"item-details\"\n",
        "      papers = soup.findAll('div', class_='col-sm-8 text-center')\n",
        "      # Dừng khi ko trang request ko có bài báo nào\n",
        "      if len(papers) == 0:\n",
        "        break\n",
        "      for paper in papers:\n",
        "        # Kiểm tra và thấy link của bài báo nằm ở trong thẻ a thuộc tính href\n",
        "        link = paper.find('a').attrs[\"href\"]\n",
        "        # Kiểm tra và thấy tiêu đề của bài báo nằm trong thẻ a thuộc tính title\n",
        "        title = paper.find('a').text.lower()\n",
        "        article_link.append(link)\n",
        "        headline.append(title)\n",
        "      print(linkSiteMap)\n",
        "    except:\n",
        "      break"
      ],
      "execution_count": null,
      "outputs": []
    },
    {
      "cell_type": "code",
      "metadata": {
        "id": "ub7k1AXq_UtV"
      },
      "source": [
        "import pandas as pd\n",
        "FullData4 = pd.DataFrame(columns= ['article_link', 'headline', 'is_sarcastic'])\n",
        "FullData4['article_link'] = article_link\n",
        "FullData4['headline'] = headline\n",
        "FullData4['is_sarcastic'] = 1\n",
        "FullData4"
      ],
      "execution_count": null,
      "outputs": []
    },
    {
      "cell_type": "markdown",
      "metadata": {
        "id": "b85b064u_UtV"
      },
      "source": [
        "#### c) Save to .CSV"
      ]
    },
    {
      "cell_type": "code",
      "metadata": {
        "colab": {
          "base_uri": "https://localhost:8080/"
        },
        "id": "qyi2xuE9_UtV",
        "outputId": "7ca94f93-5022-45cc-f3de-38e3fc2ac4e8"
      },
      "source": [
        "from google.colab import drive\n",
        "drive.mount('/content/drive')\n",
        "FullData4.to_csv(r'/content/drive/MyDrive/Colab Notebooks/DATA_ML/NewsBiscuit.csv', index = False, header=False)"
      ],
      "execution_count": null,
      "outputs": [
        {
          "output_type": "stream",
          "text": [
            "Drive already mounted at /content/drive; to attempt to forcibly remount, call drive.mount(\"/content/drive\", force_remount=True).\n"
          ],
          "name": "stdout"
        }
      ]
    },
    {
      "cell_type": "markdown",
      "metadata": {
        "id": "INF-iGcR0PUY"
      },
      "source": [
        "# B. Các trang web chính thống:\n",
        "## 1. USA Today\n",
        "## 2. NBC News\n",
        "## 3. New York Post"
      ]
    },
    {
      "cell_type": "markdown",
      "metadata": {
        "id": "CBhyUiwZ0zZy"
      },
      "source": [
        "## 1. [USA Today](https://www.usatoday.com/)\n",
        " *Ý tưởng:\n",
        "- Giống như đã là với TheOnion\n",
        "- Kiểm tra sitemap thì web này có, sitemap phát triển trên ý tưởng thời gian\n",
        "- Sử dụng sitemap https://www.usatoday.com/sitemap/2021/february/10/\n",
        "- Tìm từ tháng 1 tháng 6 năm 2018 ->2021"
      ]
    },
    {
      "cell_type": "markdown",
      "metadata": {
        "id": "aTs02j2l0zaB"
      },
      "source": [
        "### a) Xây dựng link để request"
      ]
    },
    {
      "cell_type": "code",
      "metadata": {
        "id": "zrpj9CyJ0zaC"
      },
      "source": [
        "months_ = [\"january\",\"february\",\"march\",\"april\",\"may\",\"june\",\"july\",\"august\",\"september\",\"october\",\"november\",\"december\"]"
      ],
      "execution_count": null,
      "outputs": []
    },
    {
      "cell_type": "code",
      "metadata": {
        "id": "MqDi2FFf0zaE"
      },
      "source": [
        "FullLink = []\n",
        "for year in range(2018,2022):\n",
        "  months = months_\n",
        "  if year == 2018:\n",
        "    months = months_[5:-1]\n",
        "  if year == 2021:\n",
        "    months = months_[0:5]\n",
        "  for month in months:\n",
        "    for day in range(1,32):\n",
        "      link = \"https://www.usatoday.com/sitemap/\" + str(year) +\"/\" + month + \"/\" +str(day)\n",
        "      FullLink.append(link)\n",
        "print(*FullLink[0:10],sep=\"\\n\")\n",
        "print(*FullLink[-10:-1],sep=\"\\n\")"
      ],
      "execution_count": null,
      "outputs": []
    },
    {
      "cell_type": "markdown",
      "metadata": {
        "id": "Ry9W12F90zaI"
      },
      "source": [
        "### b) Thử nghiệm 1 link"
      ]
    },
    {
      "cell_type": "code",
      "metadata": {
        "id": "qNbzQ4vb0zaJ"
      },
      "source": [
        "# Thử tìm thử trong một Category\n",
        "# Import thư viện\n",
        "import requests\n",
        "from bs4 import BeautifulSoup\n",
        "response = requests.get(\"https://www.usatoday.com/sitemap/2021/may/22\")\n",
        "soup = BeautifulSoup(response.content, \"html.parser\")\n",
        "# Check và thấy rằng mỗi paper đều nằm trong một thẻ dev và có chung class:\"item-details\"\n",
        "papers = soup.findAll('li', class_='sitemap-list-item')\n",
        "for paper in papers[0:10]:\n",
        "  print(paper)"
      ],
      "execution_count": null,
      "outputs": []
    },
    {
      "cell_type": "markdown",
      "metadata": {
        "id": "ut9Hgl6S0zaK"
      },
      "source": [
        "* nhận xét: dữ liệu cần lấy nằm trong thẻ a, lấy thôi"
      ]
    },
    {
      "cell_type": "code",
      "metadata": {
        "id": "rUDWzoJk0zaL"
      },
      "source": [
        "response = requests.get(\"https://www.usatoday.com/sitemap/2021/may/22/\")\n",
        "soup = BeautifulSoup(response.content, \"html.parser\")\n",
        "# Check và thấy rằng mỗi paper đều nằm trong một thẻ dev và có chung class:\"item-details\"\n",
        "papers = soup.findAll('li', class_='sitemap-list-item')\n",
        "for paper in papers:\n",
        "  try:\n",
        "    link = paper.find('a').attrs[\"href\"]\n",
        "    title = paper.find('a').text.lower()\n",
        "    if \"/sitemap/\" in link:\n",
        "      continue\n",
        "    print(link,title,1 )\n",
        "  except:\n",
        "    continue"
      ],
      "execution_count": null,
      "outputs": []
    },
    {
      "cell_type": "markdown",
      "metadata": {
        "id": "G9jn6ioy0zaN"
      },
      "source": [
        "### c) Tìm trên cả tập link"
      ]
    },
    {
      "cell_type": "code",
      "metadata": {
        "id": "OyhM5hQ-0zaO"
      },
      "source": [
        "article_link = []\n",
        "headline = []\n",
        "for linkSiteMap in FullLink:\n",
        "  response = requests.get(linkSiteMap)\n",
        "  soup = BeautifulSoup(response.content, \"html.parser\")\n",
        "  # Check và thấy rằng mỗi paper đều nằm trong một thẻ dev và có chung class:\"item-details\"\n",
        "  papers = soup.findAll('li', class_='sitemap-list-item')\n",
        "  for paper in papers:\n",
        "    try:\n",
        "      link = paper.find('a').attrs[\"href\"]\n",
        "      title = paper.find('a').text.lower()\n",
        "      # Lọc lại thông tin thu được\n",
        "      if (\"/sitemap/\" in link) or (\"https://www.usatoday.com\" not in link):\n",
        "        continue\n",
        "      article_link.append(link)\n",
        "      headline.append(title)\n",
        "    except:\n",
        "      continue    "
      ],
      "execution_count": null,
      "outputs": []
    },
    {
      "cell_type": "code",
      "metadata": {
        "id": "Cuw4KLDE0zaP"
      },
      "source": [
        "import pandas as pd\n",
        "FullData0 = pd.DataFrame(columns= ['article_link', 'headline', 'is_sarcastic'])\n",
        "FullData0['article_link'] = article_link\n",
        "FullData0['headline'] = headline\n",
        "FullData0['is_sarcastic'] = 0\n",
        "FullData0"
      ],
      "execution_count": null,
      "outputs": []
    },
    {
      "cell_type": "markdown",
      "metadata": {
        "id": "KCACyD6t0zaR"
      },
      "source": [
        "### d) Save to .CSV"
      ]
    },
    {
      "cell_type": "code",
      "metadata": {
        "colab": {
          "base_uri": "https://localhost:8080/"
        },
        "id": "e14KJX3i0zaS",
        "outputId": "dfdc2b7c-cc14-4687-aec8-6c51baf99a65"
      },
      "source": [
        "from google.colab import drive\n",
        "drive.mount('/content/drive')\n",
        "FullData0.to_csv(r'/content/drive/MyDrive/Colab Notebooks/DATA_ML/USAToday.csv', index = False, header=False)"
      ],
      "execution_count": null,
      "outputs": [
        {
          "output_type": "stream",
          "text": [
            "Mounted at /content/drive\n"
          ],
          "name": "stdout"
        }
      ]
    },
    {
      "cell_type": "markdown",
      "metadata": {
        "id": "tIEjdcziUqye"
      },
      "source": [
        "## 2. NBC News"
      ]
    },
    {
      "cell_type": "code",
      "metadata": {
        "id": "BLaMzbwkUxpX"
      },
      "source": [
        "months_ = [\"january\",\"february\",\"march\",\"april\",\"may\",\"june\",\"july\",\"august\",\"september\",\"october\",\"november\",\"december\"]"
      ],
      "execution_count": null,
      "outputs": []
    },
    {
      "cell_type": "code",
      "metadata": {
        "id": "N7arVzWBU07_"
      },
      "source": [
        "FullLink = []\n",
        "for year in range(2018,2022):\n",
        "  months = months_\n",
        "  if year == 2018:\n",
        "    months = months_[5:-1]\n",
        "  if year == 2021:\n",
        "    months = months_[0:5]\n",
        "  for month in months:\n",
        "    for day in range(1,32):\n",
        "      link = \"https://www.nbcnews.com/archive/articles/\" + str(year) +\"/\" + month\n",
        "      FullLink.append(link)\n",
        "print(*FullLink[0:10],sep=\"\\n\")\n",
        "print(*FullLink[-10:-1],sep=\"\\n\")"
      ],
      "execution_count": null,
      "outputs": []
    },
    {
      "cell_type": "code",
      "metadata": {
        "id": "gntKVsh4U2Nt"
      },
      "source": [
        "# Import thư viện\n",
        "import requests\n",
        "from bs4 import BeautifulSoup\n",
        "# Thử tìm thử trong một Category\n",
        "response = requests.get(\"https://www.nbcnews.com/archive/articles/2018/april\")\n",
        "soup = BeautifulSoup(response.content, \"html.parser\")\n",
        "# Check và thấy rằng mỗi paper đều nằm trong một thẻ dev và có chung class:\"item-details\"\n",
        "papers = soup.findAll('main', class_='MonthPage')\n",
        "main = papers[-1].findAll('a')\n",
        "for paper in main:\n",
        "  # Kiểm tra và thấy link của bài báo nằm ở trong thẻ a thuộc tính href\n",
        "  link = paper.attrs[\"href\"]\n",
        "  # Kiểm tra và thấy tiêu đề của bài báo nằm trong thẻ a thuộc tính title\n",
        "  title = paper.text\n",
        "  print(title + \",\"+link)"
      ],
      "execution_count": null,
      "outputs": []
    },
    {
      "cell_type": "code",
      "metadata": {
        "id": "JTtXnpt3U50k"
      },
      "source": [
        "# Create lists to store the scraped data\n",
        "headline = []\n",
        "article_link = []\n",
        "is_sarcastic = []\n",
        "\n",
        "for linkSiteMap in FullLink:\n",
        "  response = requests.get(linkSiteMap)\n",
        "  soup = BeautifulSoup(response.content, \"html.parser\")\n",
        "\n",
        "  papers = soup.findAll('main', class_='MonthPage')\n",
        "  main = papers[-1].findAll('a')\n",
        "  for paper in main:\n",
        "    # Kiểm tra và thấy link của bài báo nằm ở trong thẻ a thuộc tính href\n",
        "    link = paper.attrs[\"href\"]\n",
        "    article_link.append(link)\n",
        "    # Kiểm tra và thấy tiêu đề của bài báo nằm trong thẻ a thuộc tính title\n",
        "    title = paper.text\n",
        "    headline.append(title)\n",
        "\n",
        "    "
      ],
      "execution_count": null,
      "outputs": []
    },
    {
      "cell_type": "code",
      "metadata": {
        "id": "kfbgk3DoVCB0"
      },
      "source": [
        "import pandas as pd\n",
        "data = pd.DataFrame(columns= ['article_link', 'headline', 'is_sarcastic'])\n",
        "data['article_link'] = article_link\n",
        "data['headline'] = headline\n",
        "data['is_sarcastic'] = 0\n",
        "\n",
        "data"
      ],
      "execution_count": null,
      "outputs": []
    },
    {
      "cell_type": "code",
      "metadata": {
        "id": "g9o27wlsVFj8"
      },
      "source": [
        "from google.colab import drive\n",
        "drive.mount('/content/drive')\n",
        "data.to_csv(r'/content/drive/MyDrive/Colab Notebooks/NBC_News.csv', index = False, header=False)"
      ],
      "execution_count": null,
      "outputs": []
    },
    {
      "cell_type": "markdown",
      "metadata": {
        "id": "MPGOnEJPVJJ8"
      },
      "source": [
        "## 3. New York Post"
      ]
    },
    {
      "cell_type": "code",
      "metadata": {
        "id": "YbozF34YVMJG"
      },
      "source": [
        "months_ = [\"01\",\"02\",\"03\",\"04\",\"05\",\"06\",\"07\",\"08\",\"09\",\"10\",\"11\",\"12\"]"
      ],
      "execution_count": null,
      "outputs": []
    },
    {
      "cell_type": "code",
      "metadata": {
        "id": "dkKkPf6EVN38"
      },
      "source": [
        "FullLink = []\n",
        "for year in range(2018,2022):\n",
        "  months = months_\n",
        "  if year == 2018:\n",
        "    months = months_[5:-1]\n",
        "  if year == 2021:\n",
        "    months = months_[0:5]\n",
        "  for month in months:\n",
        "    for day in range(1,32):\n",
        "      link = \"https://nypost.com/\" + str(year) +\"/\" + month + \"/\" +str(day) + \"/\"\n",
        "      FullLink.append(link)\n",
        "print(*FullLink[0:10],sep=\"\\n\")\n",
        "print(*FullLink[-10:-1],sep=\"\\n\")"
      ],
      "execution_count": null,
      "outputs": []
    },
    {
      "cell_type": "code",
      "metadata": {
        "id": "mkuz3mB6VPLy"
      },
      "source": [
        "len(FullLink)"
      ],
      "execution_count": null,
      "outputs": []
    },
    {
      "cell_type": "markdown",
      "metadata": {
        "id": "uugz943dVdLw"
      },
      "source": [
        "- Lựa chọn lại đường link"
      ]
    },
    {
      "cell_type": "code",
      "metadata": {
        "id": "7IZdu_bJVXlO"
      },
      "source": [
        "FullLink = FullLink[800:]"
      ],
      "execution_count": null,
      "outputs": []
    },
    {
      "cell_type": "code",
      "metadata": {
        "colab": {
          "background_save": true
        },
        "id": "nrWlvW_RVhDs"
      },
      "source": [
        "import requests\n",
        "from bs4 import BeautifulSoup\n",
        "article_link = []\n",
        "headline = []\n",
        "is_sarcastic = []\n",
        "for linkSiteMap in FullLink:\n",
        "  response = requests.get(linkSiteMap)\n",
        "  soup = BeautifulSoup(response.content, \"html.parser\")\n",
        "  papers = soup.findAll('h3', class_='entry-heading')\n",
        "  for paper in papers:\n",
        "    try:\n",
        "      link = paper.find('a').attrs[\"href\"]\n",
        "      title = paper.find('a').text.lower()\n",
        "      # Lọc lại thông tin thu được\n",
        "      if (\"/sitemap/\" in link):\n",
        "        continue\n",
        "      article_link.append(link)\n",
        "      headline.append(title)\n",
        "    except:\n",
        "      continue    \n"
      ],
      "execution_count": null,
      "outputs": []
    },
    {
      "cell_type": "code",
      "metadata": {
        "colab": {
          "background_save": true
        },
        "id": "fwpSrbvSVqJt"
      },
      "source": [
        "# lỗi định dạng title\n",
        "for i in range(len(headline)):\n",
        " headline[i] = headline[i].replace('\\n\\t\\t\\t\\t\\t\\t\\t\\t', ' ')"
      ],
      "execution_count": null,
      "outputs": []
    },
    {
      "cell_type": "code",
      "metadata": {
        "colab": {
          "background_save": true
        },
        "id": "IHb6vl6uVuue",
        "outputId": "95cb2083-e144-477f-f1c2-8539eaaabe63"
      },
      "source": [
        "import pandas as pd\n",
        "data = pd.DataFrame(columns= ['article_link', 'headline', 'is_sarcastic'])\n",
        "data['article_link'] = article_link\n",
        "data['headline'] = headline\n",
        "data['is_sarcastic'] = 0\n",
        "\n",
        "data\n"
      ],
      "execution_count": null,
      "outputs": [
        {
          "output_type": "execute_result",
          "data": {
            "text/html": [
              "<div>\n",
              "<style scoped>\n",
              "    .dataframe tbody tr th:only-of-type {\n",
              "        vertical-align: middle;\n",
              "    }\n",
              "\n",
              "    .dataframe tbody tr th {\n",
              "        vertical-align: top;\n",
              "    }\n",
              "\n",
              "    .dataframe thead th {\n",
              "        text-align: right;\n",
              "    }\n",
              "</style>\n",
              "<table border=\"1\" class=\"dataframe\">\n",
              "  <thead>\n",
              "    <tr style=\"text-align: right;\">\n",
              "      <th></th>\n",
              "      <th>article_link</th>\n",
              "      <th>headline</th>\n",
              "      <th>is_sarcastic</th>\n",
              "    </tr>\n",
              "  </thead>\n",
              "  <tbody>\n",
              "    <tr>\n",
              "      <th>0</th>\n",
              "      <td>https://nypost.com/2020/08/26/rnc-night-three-...</td>\n",
              "      <td>rnc night three celebrated heroes — and trump...</td>\n",
              "      <td>0</td>\n",
              "    </tr>\n",
              "    <tr>\n",
              "      <th>1</th>\n",
              "      <td>https://nypost.com/2020/08/26/rnc-2020-widower...</td>\n",
              "      <td>widower sam vigil endorses trump, lauds ‘oper...</td>\n",
              "      <td>0</td>\n",
              "    </tr>\n",
              "    <tr>\n",
              "      <th>2</th>\n",
              "      <td>https://nypost.com/2020/08/26/rnc-2020-desegre...</td>\n",
              "      <td>desegregation activist says trump represents ...</td>\n",
              "      <td>0</td>\n",
              "    </tr>\n",
              "    <tr>\n",
              "      <th>3</th>\n",
              "      <td>https://nypost.com/2020/08/26/lebron-james-lak...</td>\n",
              "      <td>lakers, clippers push to boycott rest of nba ...</td>\n",
              "      <td>0</td>\n",
              "    </tr>\n",
              "    <tr>\n",
              "      <th>4</th>\n",
              "      <td>https://nypost.com/2020/08/26/new-zealand-mosq...</td>\n",
              "      <td>new zealand mosque shooter gets sentenced to ...</td>\n",
              "      <td>0</td>\n",
              "    </tr>\n",
              "    <tr>\n",
              "      <th>...</th>\n",
              "      <td>...</td>\n",
              "      <td>...</td>\n",
              "      <td>...</td>\n",
              "    </tr>\n",
              "    <tr>\n",
              "      <th>52516</th>\n",
              "      <td>https://nypost.com/2021/05/31/four-more-oath-k...</td>\n",
              "      <td>four more oath keepers charged in jan. 6 insu...</td>\n",
              "      <td>0</td>\n",
              "    </tr>\n",
              "    <tr>\n",
              "      <th>52517</th>\n",
              "      <td>https://nypost.com/2021/05/31/nic-claxtons-blo...</td>\n",
              "      <td>nets big man's block party was huge spark</td>\n",
              "      <td>0</td>\n",
              "    </tr>\n",
              "    <tr>\n",
              "      <th>52518</th>\n",
              "      <td>https://nypost.com/2021/05/31/guarding-trae-yo...</td>\n",
              "      <td>guarding trae young may be taking toll on kni...</td>\n",
              "      <td>0</td>\n",
              "    </tr>\n",
              "    <tr>\n",
              "      <th>52519</th>\n",
              "      <td>https://nypost.com/2021/05/31/moronic-celtics-...</td>\n",
              "      <td>moronic celtics fan can't steal kyrie irving’...</td>\n",
              "      <td>0</td>\n",
              "    </tr>\n",
              "    <tr>\n",
              "      <th>52520</th>\n",
              "      <td>https://nypost.com/2021/05/31/mia-khalifa-pose...</td>\n",
              "      <td>mia khalifa poses with nazi-era champagne, ba...</td>\n",
              "      <td>0</td>\n",
              "    </tr>\n",
              "  </tbody>\n",
              "</table>\n",
              "<p>52521 rows × 3 columns</p>\n",
              "</div>"
            ],
            "text/plain": [
              "                                            article_link  ... is_sarcastic\n",
              "0      https://nypost.com/2020/08/26/rnc-night-three-...  ...            0\n",
              "1      https://nypost.com/2020/08/26/rnc-2020-widower...  ...            0\n",
              "2      https://nypost.com/2020/08/26/rnc-2020-desegre...  ...            0\n",
              "3      https://nypost.com/2020/08/26/lebron-james-lak...  ...            0\n",
              "4      https://nypost.com/2020/08/26/new-zealand-mosq...  ...            0\n",
              "...                                                  ...  ...          ...\n",
              "52516  https://nypost.com/2021/05/31/four-more-oath-k...  ...            0\n",
              "52517  https://nypost.com/2021/05/31/nic-claxtons-blo...  ...            0\n",
              "52518  https://nypost.com/2021/05/31/guarding-trae-yo...  ...            0\n",
              "52519  https://nypost.com/2021/05/31/moronic-celtics-...  ...            0\n",
              "52520  https://nypost.com/2021/05/31/mia-khalifa-pose...  ...            0\n",
              "\n",
              "[52521 rows x 3 columns]"
            ]
          },
          "metadata": {
            "tags": []
          },
          "execution_count": 0
        }
      ]
    },
    {
      "cell_type": "code",
      "metadata": {
        "id": "MVRiJVYDVxn9"
      },
      "source": [
        "data.to_csv(r'/content/drive/MyDrive/Colab Notebooks/Data/nypost.csv', index = False, header=False)"
      ],
      "execution_count": null,
      "outputs": []
    },
    {
      "cell_type": "markdown",
      "metadata": {
        "id": "tMP3-OyVV592"
      },
      "source": [
        "# C. Convert file CSV - JSON"
      ]
    },
    {
      "cell_type": "markdown",
      "metadata": {
        "id": "GiUKAXkXV_Ot"
      },
      "source": [
        "## To CSV"
      ]
    },
    {
      "cell_type": "code",
      "metadata": {
        "id": "kfERVsR1V-28"
      },
      "source": [
        "columns = ['article_link', 'headline', 'is_sarcastic']"
      ],
      "execution_count": null,
      "outputs": []
    },
    {
      "cell_type": "code",
      "metadata": {
        "id": "eTvEylH2WE9u"
      },
      "source": [
        "import pandas as pd\n",
        "newsBiscuit = pd.read_csv('/content/drive/MyDrive/Colab Notebooks/Data/NewsBiscuit.csv', names=columns)\n",
        "TheBetoo = pd.read_csv('/content/drive/MyDrive/Colab Notebooks/Data/TheBetootaAdvocate.csv', names=columns)\n",
        "TheOnion = pd.read_csv('/content/drive/MyDrive/Colab Notebooks/Data/TheOnion.csv', names=columns)\n",
        "USAToday = pd.read_csv('/content/drive/MyDrive/Colab Notebooks/Data/USAToday.csv', names=columns)\n",
        "WorldNew = pd.read_csv('/content/drive/MyDrive/Colab Notebooks/Data/WorldNewsDailyReport.csv', names=columns)\n",
        "NBC_new = pd.read_csv('/content/drive/MyDrive/Colab Notebooks/NBC_News.csv', names=columns)\n",
        "NyPost = pd.read_csv('/content/drive/MyDrive/Colab Notebooks/Data/nypost.csv', names=columns)"
      ],
      "execution_count": null,
      "outputs": []
    },
    {
      "cell_type": "markdown",
      "metadata": {
        "id": "qI2F2HfcbDVV"
      },
      "source": [
        "Check số lượng data thu thập được"
      ]
    },
    {
      "cell_type": "code",
      "metadata": {
        "colab": {
          "base_uri": "https://localhost:8080/"
        },
        "id": "Ermqmh9-WGko",
        "outputId": "62f7ae65-038f-4781-e21e-77b101c7708f"
      },
      "source": [
        "Bis_len = len(newsBiscuit)\n",
        "Betoo_len = len(TheBetoo)\n",
        "Onion_len = len(TheOnion)\n",
        "World_len = len(WorldNew)\n",
        "USA_len = len(USAToday)\n",
        "NBC_len = len(NBC_new)\n",
        "post_len = len(NyPost)\n",
        "print('newsBiscuit: {} - TheBetoo: {} - TheOnion: {} - WorldNew: {} - USAToday: {} - NBC_new: {} - NyPost: {}'.format(Bis_len, Betoo_len, Onion_len, World_len, USA_len, NBC_len, post_len))"
      ],
      "execution_count": null,
      "outputs": [
        {
          "output_type": "stream",
          "text": [
            "newsBiscuit: 2728 - TheBetoo: 5887 - TheOnion: 8539 - WorldNew: 161 - USAToday: 203878 - NBC_new: 1355506 - NyPost: 52521\n"
          ],
          "name": "stdout"
        }
      ]
    },
    {
      "cell_type": "markdown",
      "metadata": {
        "id": "QS9TJgMSbMMO"
      },
      "source": [
        "* Ghép data để đạt được gần cân bằng 0.47 : 0.53"
      ]
    },
    {
      "cell_type": "code",
      "metadata": {
        "id": "_4rmB4rPWJVR"
      },
      "source": [
        "Sarcasm_Real_news = pd.concat([newsBiscuit, TheBetoo, TheOnion, WorldNew, USAToday[:6278], NBC_new[:7055], NyPost[:6444]], ignore_index=True)\n",
        "# Xáo trộn dữ liệu\n",
        "Sarcasm_Real_news = Sarcasm_Real_news.sample(frac=1).reset_index(drop=True)"
      ],
      "execution_count": null,
      "outputs": []
    },
    {
      "cell_type": "code",
      "metadata": {
        "id": "eQdELd4qWOqQ"
      },
      "source": [
        "# thêm vào một cột id để xây dựng file json\n",
        "# Sarcasm_Real_news['id'] =[i for i in range(0, len(Sarcasm_Real_news))]"
      ],
      "execution_count": null,
      "outputs": []
    },
    {
      "cell_type": "markdown",
      "metadata": {
        "id": "ShZE7xR4fNEq"
      },
      "source": [
        "* Định dạnh lại một số thứ"
      ]
    },
    {
      "cell_type": "code",
      "metadata": {
        "id": "fT_wDorffjfc"
      },
      "source": [
        "# Tiêu đề phải là chữ thường giống format data mẫu\n",
        "Sarcasm_Real_news['headline'] = Sarcasm_Real_news['headline'].apply(lambda x: str(x).lower())\n",
        "# Tiêu đề chỉ chứa dấu ' không chứa dấu \" giống format data mẫu\n",
        "Sarcasm_Real_news['headline'] = Sarcasm_Real_news['headline'].apply(lambda x: str(x).replace('\"',\"'\"))"
      ],
      "execution_count": null,
      "outputs": []
    },
    {
      "cell_type": "code",
      "metadata": {
        "colab": {
          "base_uri": "https://localhost:8080/",
          "height": 419
        },
        "id": "alZD-RF6fyR-",
        "outputId": "3baa1e1a-db19-4d12-86a3-59ce9795c088"
      },
      "source": [
        "Sarcasm_Real_news"
      ],
      "execution_count": null,
      "outputs": [
        {
          "output_type": "execute_result",
          "data": {
            "text/html": [
              "<div>\n",
              "<style scoped>\n",
              "    .dataframe tbody tr th:only-of-type {\n",
              "        vertical-align: middle;\n",
              "    }\n",
              "\n",
              "    .dataframe tbody tr th {\n",
              "        vertical-align: top;\n",
              "    }\n",
              "\n",
              "    .dataframe thead th {\n",
              "        text-align: right;\n",
              "    }\n",
              "</style>\n",
              "<table border=\"1\" class=\"dataframe\">\n",
              "  <thead>\n",
              "    <tr style=\"text-align: right;\">\n",
              "      <th></th>\n",
              "      <th>article_link</th>\n",
              "      <th>headline</th>\n",
              "      <th>is_sarcastic</th>\n",
              "    </tr>\n",
              "  </thead>\n",
              "  <tbody>\n",
              "    <tr>\n",
              "      <th>0</th>\n",
              "      <td>https://www.theonion.com/picture-of-rash-uploa...</td>\n",
              "      <td>picture of rash uploaded to different subreddi...</td>\n",
              "      <td>1</td>\n",
              "    </tr>\n",
              "    <tr>\n",
              "      <th>1</th>\n",
              "      <td>https://www.usatoday.com/story/news/world/2018...</td>\n",
              "      <td>hurricane bud, a category 3 storm, threatens m...</td>\n",
              "      <td>0</td>\n",
              "    </tr>\n",
              "    <tr>\n",
              "      <th>2</th>\n",
              "      <td>https://nypost.com/2020/09/13/biden-cant-answe...</td>\n",
              "      <td>if biden can't answer questions without a scr...</td>\n",
              "      <td>0</td>\n",
              "    </tr>\n",
              "    <tr>\n",
              "      <th>3</th>\n",
              "      <td>https://www.betootaadvocate.com/uncategorized/...</td>\n",
              "      <td>young monarchist from batlow with an empty lan...</td>\n",
              "      <td>1</td>\n",
              "    </tr>\n",
              "    <tr>\n",
              "      <th>4</th>\n",
              "      <td>https://www.usatoday.com/videos/news/nation/20...</td>\n",
              "      <td>today in history for june 12th</td>\n",
              "      <td>0</td>\n",
              "    </tr>\n",
              "    <tr>\n",
              "      <th>...</th>\n",
              "      <td>...</td>\n",
              "      <td>...</td>\n",
              "      <td>...</td>\n",
              "    </tr>\n",
              "    <tr>\n",
              "      <th>37087</th>\n",
              "      <td>https://www.betootaadvocate.com/uncategorized/...</td>\n",
              "      <td>australia threatens to stop selling china the ...</td>\n",
              "      <td>1</td>\n",
              "    </tr>\n",
              "    <tr>\n",
              "      <th>37088</th>\n",
              "      <td>https://nypost.com/2020/09/15/missing-alabama-...</td>\n",
              "      <td>missing alabama state university student foun...</td>\n",
              "      <td>0</td>\n",
              "    </tr>\n",
              "    <tr>\n",
              "      <th>37089</th>\n",
              "      <td>https://www.betootaadvocate.com/entertainment/...</td>\n",
              "      <td>scotty from marketing says non-existent $2b bu...</td>\n",
              "      <td>1</td>\n",
              "    </tr>\n",
              "    <tr>\n",
              "      <th>37090</th>\n",
              "      <td>https://www.usatoday.com/story/sports/soccer/2...</td>\n",
              "      <td>the latest: fifa weighs discipline over balkan...</td>\n",
              "      <td>0</td>\n",
              "    </tr>\n",
              "    <tr>\n",
              "      <th>37091</th>\n",
              "      <td>https://www.usatoday.com/story/sports/mlb/yank...</td>\n",
              "      <td>new york yankees' jonathan loaisiga stellar in...</td>\n",
              "      <td>0</td>\n",
              "    </tr>\n",
              "  </tbody>\n",
              "</table>\n",
              "<p>37092 rows × 3 columns</p>\n",
              "</div>"
            ],
            "text/plain": [
              "                                            article_link  ... is_sarcastic\n",
              "0      https://www.theonion.com/picture-of-rash-uploa...  ...            1\n",
              "1      https://www.usatoday.com/story/news/world/2018...  ...            0\n",
              "2      https://nypost.com/2020/09/13/biden-cant-answe...  ...            0\n",
              "3      https://www.betootaadvocate.com/uncategorized/...  ...            1\n",
              "4      https://www.usatoday.com/videos/news/nation/20...  ...            0\n",
              "...                                                  ...  ...          ...\n",
              "37087  https://www.betootaadvocate.com/uncategorized/...  ...            1\n",
              "37088  https://nypost.com/2020/09/15/missing-alabama-...  ...            0\n",
              "37089  https://www.betootaadvocate.com/entertainment/...  ...            1\n",
              "37090  https://www.usatoday.com/story/sports/soccer/2...  ...            0\n",
              "37091  https://www.usatoday.com/story/sports/mlb/yank...  ...            0\n",
              "\n",
              "[37092 rows x 3 columns]"
            ]
          },
          "metadata": {
            "tags": []
          },
          "execution_count": 41
        }
      ]
    },
    {
      "cell_type": "code",
      "metadata": {
        "id": "oHj2krRHWTEZ"
      },
      "source": [
        "Sarcasm_Real_news.to_csv(r'/content/drive/MyDrive/Colab Notebooks/Data/Sarcasm_Real_news.csv', index = False, header=True)"
      ],
      "execution_count": null,
      "outputs": []
    },
    {
      "cell_type": "markdown",
      "metadata": {
        "id": "mmHMmRNuPByj"
      },
      "source": [
        "## To JSON"
      ]
    },
    {
      "cell_type": "code",
      "metadata": {
        "id": "lrU1R1uTJ8_S"
      },
      "source": [
        "# Nguồn https://stackoverflow.com/questions/39257147/convert-pandas-dataframe-to-json-format\n",
        "list_dict = []\n",
        "for index, row in list(Sarcasm_Real_news.iterrows()):\n",
        "    list_dict.append(dict(row))\n",
        "with open(r'/content/drive/MyDrive/Colab Notebooks/Data/Sarcasm_Real_news.json', 'w', encoding='utf-8') as f:\n",
        "    f.write(\"\\n\".join(str(item) for item in list_dict))"
      ],
      "execution_count": null,
      "outputs": []
    },
    {
      "cell_type": "markdown",
      "metadata": {
        "id": "7vPuGxZUWUjS"
      },
      "source": [
        "## To JSON (Tham khảo)"
      ]
    },
    {
      "cell_type": "code",
      "metadata": {
        "id": "idz-DmGaWVwc"
      },
      "source": [
        "import csv\n",
        "import json\n",
        "\n",
        "csvFilePath = r'/content/drive/MyDrive/Colab Notebooks/Data/Sarcasm_Real_news.csv'\n",
        "jsonFilePath = r'/content/drive/MyDrive/Colab Notebooks/Data/Sarcasm_Real_news0.json'\n",
        "\n",
        "# read csv file and add to data\n",
        "data = {}\n",
        "with open(csvFilePath, encoding='utf-8') as csvFile:\n",
        "  csvReader = csv.DictReader(csvFile)\n",
        "  for rows in csvReader:\n",
        "    rows_not_id = rows\n",
        "    id = rows['id']\n",
        "    rows_not_id.pop('id')\n",
        "    data[id] = rows_not_id\n",
        "\n",
        "\n",
        "# create new json file and write data on it\n",
        "with open(jsonFilePath, 'w', encoding='utf-8') as jsonFile:\n",
        "  # make it more readable and pretty\n",
        "  jsonFile.write(json.dumps(data, indent=4))\n",
        "\n"
      ],
      "execution_count": null,
      "outputs": []
    },
    {
      "cell_type": "code",
      "metadata": {
        "id": "rC8wkoN_uHU7"
      },
      "source": [
        "result = Sarcasm_Real_news.to_json(orient='records')\n",
        "parsed = json.loads(result)\n",
        "with open(r'/content/drive/MyDrive/Colab Notebooks/Data/Sarcasm_Real_news1.json', 'w', encoding='utf-8') as jsonFile:\n",
        "  # make it more readable and pretty\n",
        "  jsonFile.write(json.dumps(parsed, indent=4))"
      ],
      "execution_count": null,
      "outputs": []
    },
    {
      "cell_type": "code",
      "metadata": {
        "id": "_AbDXOAmopik"
      },
      "source": [
        "Sarcasm_Real_news.to_json(r'/content/drive/MyDrive/Colab Notebooks/Data/Sarcasm_Real_news2.json', orient='records',lines=True)"
      ],
      "execution_count": null,
      "outputs": []
    }
  ]
}