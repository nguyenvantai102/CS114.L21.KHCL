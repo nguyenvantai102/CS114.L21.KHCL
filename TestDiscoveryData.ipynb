{
  "nbformat": 4,
  "nbformat_minor": 0,
  "metadata": {
    "colab": {
      "name": "xulydulieu",
      "provenance": [],
      "collapsed_sections": [
        "gjli7iVQskA1",
        "2pew6njEsyEM",
        "R8W29vaMtBvU",
        "HbG6pcPiCjJT",
        "6KZHwDBTMazj",
        "KvPV-3qRtgSr",
        "9xZb41VZtcDP",
        "pkUW0VWSgTym",
        "ZN1a2duDg-W2",
        "wDyZBzIsiL3V",
        "sWlFY_P678Fx",
        "2zHXndva6sbQ",
        "fp3VVmAo-ark"
      ],
      "authorship_tag": "ABX9TyOE/I69D8LOm4d2G3hOpPNe",
      "include_colab_link": true
    },
    "kernelspec": {
      "name": "python3",
      "display_name": "Python 3"
    },
    "language_info": {
      "name": "python"
    }
  },
  "cells": [
    {
      "cell_type": "markdown",
      "metadata": {
        "id": "view-in-github",
        "colab_type": "text"
      },
      "source": [
        "<a href=\"https://colab.research.google.com/github/nguyenvantai102/CS114.L21.KHCL/blob/main/TestDiscoveryData.ipynb\" target=\"_parent\"><img src=\"https://colab.research.google.com/assets/colab-badge.svg\" alt=\"Open In Colab\"/></a>"
      ]
    },
    {
      "cell_type": "markdown",
      "metadata": {
        "id": "gjli7iVQskA1"
      },
      "source": [
        "## 1. READ DATA"
      ]
    },
    {
      "cell_type": "code",
      "metadata": {
        "id": "uTg_zlNym7dv"
      },
      "source": [
        "import numpy as np"
      ],
      "execution_count": null,
      "outputs": []
    },
    {
      "cell_type": "code",
      "metadata": {
        "colab": {
          "base_uri": "https://localhost:8080/"
        },
        "id": "ErjwnC5Z0qb5",
        "outputId": "4482fed9-ee3e-4411-d5d0-6560611af3cd"
      },
      "source": [
        "import pandas as pd\n",
        "from google.colab import drive\n",
        "drive.mount('/content/drive')\n",
        "score_training = pd.read_csv('/content/drive/MyDrive/Colab Notebooks/DATA_ML/score_training.csv')\n",
        "wecode = pd.read_csv('/content/drive/MyDrive/Colab Notebooks/DATA_ML/wecode.csv')"
      ],
      "execution_count": null,
      "outputs": [
        {
          "output_type": "stream",
          "text": [
            "Mounted at /content/drive\n"
          ],
          "name": "stdout"
        }
      ]
    },
    {
      "cell_type": "code",
      "metadata": {
        "colab": {
          "base_uri": "https://localhost:8080/",
          "height": 407
        },
        "id": "b6EbvgdQn7g9",
        "outputId": "968851f3-3a87-46f4-d4df-271f0dae3293"
      },
      "source": [
        "wecode"
      ],
      "execution_count": null,
      "outputs": [
        {
          "output_type": "execute_result",
          "data": {
            "text/html": [
              "<div>\n",
              "<style scoped>\n",
              "    .dataframe tbody tr th:only-of-type {\n",
              "        vertical-align: middle;\n",
              "    }\n",
              "\n",
              "    .dataframe tbody tr th {\n",
              "        vertical-align: top;\n",
              "    }\n",
              "\n",
              "    .dataframe thead th {\n",
              "        text-align: right;\n",
              "    }\n",
              "</style>\n",
              "<table border=\"1\" class=\"dataframe\">\n",
              "  <thead>\n",
              "    <tr style=\"text-align: right;\">\n",
              "      <th></th>\n",
              "      <th>id</th>\n",
              "      <th>assignment_id</th>\n",
              "      <th>problem_id</th>\n",
              "      <th>user_id</th>\n",
              "      <th>is_final</th>\n",
              "      <th>status</th>\n",
              "      <th>pre_score</th>\n",
              "      <th>coefficient</th>\n",
              "      <th>file_name</th>\n",
              "      <th>language_id</th>\n",
              "      <th>created_at</th>\n",
              "      <th>updated_at</th>\n",
              "    </tr>\n",
              "  </thead>\n",
              "  <tbody>\n",
              "    <tr>\n",
              "      <th>0</th>\n",
              "      <td>4</td>\n",
              "      <td>0</td>\n",
              "      <td>3</td>\n",
              "      <td>4</td>\n",
              "      <td>1</td>\n",
              "      <td>SCORE</td>\n",
              "      <td>10000</td>\n",
              "      <td>100</td>\n",
              "      <td>solution-0</td>\n",
              "      <td>2</td>\n",
              "      <td>2020-10-30 10:58:11</td>\n",
              "      <td>2020-10-30 10:58:19</td>\n",
              "    </tr>\n",
              "    <tr>\n",
              "      <th>1</th>\n",
              "      <td>5</td>\n",
              "      <td>0</td>\n",
              "      <td>4</td>\n",
              "      <td>4</td>\n",
              "      <td>1</td>\n",
              "      <td>SCORE</td>\n",
              "      <td>10000</td>\n",
              "      <td>100</td>\n",
              "      <td>solution-1</td>\n",
              "      <td>2</td>\n",
              "      <td>2020-10-30 11:07:09</td>\n",
              "      <td>2020-10-30 11:07:17</td>\n",
              "    </tr>\n",
              "    <tr>\n",
              "      <th>2</th>\n",
              "      <td>6</td>\n",
              "      <td>0</td>\n",
              "      <td>5</td>\n",
              "      <td>4</td>\n",
              "      <td>0</td>\n",
              "      <td>Compilation Error</td>\n",
              "      <td>0</td>\n",
              "      <td>100</td>\n",
              "      <td>solution-2</td>\n",
              "      <td>2</td>\n",
              "      <td>2020-10-30 11:08:01</td>\n",
              "      <td>2020-10-30 11:23:36</td>\n",
              "    </tr>\n",
              "    <tr>\n",
              "      <th>3</th>\n",
              "      <td>7</td>\n",
              "      <td>0</td>\n",
              "      <td>5</td>\n",
              "      <td>4</td>\n",
              "      <td>0</td>\n",
              "      <td>Compilation Error</td>\n",
              "      <td>0</td>\n",
              "      <td>100</td>\n",
              "      <td>solution-3</td>\n",
              "      <td>2</td>\n",
              "      <td>2020-10-30 11:11:41</td>\n",
              "      <td>2020-10-30 11:11:42</td>\n",
              "    </tr>\n",
              "    <tr>\n",
              "      <th>4</th>\n",
              "      <td>8</td>\n",
              "      <td>0</td>\n",
              "      <td>5</td>\n",
              "      <td>4</td>\n",
              "      <td>0</td>\n",
              "      <td>Compilation Error</td>\n",
              "      <td>0</td>\n",
              "      <td>100</td>\n",
              "      <td>solution-4</td>\n",
              "      <td>2</td>\n",
              "      <td>2020-10-30 11:15:06</td>\n",
              "      <td>2020-10-30 11:15:07</td>\n",
              "    </tr>\n",
              "    <tr>\n",
              "      <th>...</th>\n",
              "      <td>...</td>\n",
              "      <td>...</td>\n",
              "      <td>...</td>\n",
              "      <td>...</td>\n",
              "      <td>...</td>\n",
              "      <td>...</td>\n",
              "      <td>...</td>\n",
              "      <td>...</td>\n",
              "      <td>...</td>\n",
              "      <td>...</td>\n",
              "      <td>...</td>\n",
              "      <td>...</td>\n",
              "    </tr>\n",
              "    <tr>\n",
              "      <th>264601</th>\n",
              "      <td>266667</td>\n",
              "      <td>0</td>\n",
              "      <td>25</td>\n",
              "      <td>1796</td>\n",
              "      <td>0</td>\n",
              "      <td>SCORE</td>\n",
              "      <td>0</td>\n",
              "      <td>100</td>\n",
              "      <td>solution-3977</td>\n",
              "      <td>4</td>\n",
              "      <td>2021-04-28 09:34:20</td>\n",
              "      <td>2021-04-28 09:34:27</td>\n",
              "    </tr>\n",
              "    <tr>\n",
              "      <th>264602</th>\n",
              "      <td>266668</td>\n",
              "      <td>0</td>\n",
              "      <td>25</td>\n",
              "      <td>1796</td>\n",
              "      <td>0</td>\n",
              "      <td>Compilation Error</td>\n",
              "      <td>0</td>\n",
              "      <td>100</td>\n",
              "      <td>solution-3978</td>\n",
              "      <td>2</td>\n",
              "      <td>2021-04-28 09:35:07</td>\n",
              "      <td>2021-04-28 09:35:08</td>\n",
              "    </tr>\n",
              "    <tr>\n",
              "      <th>264603</th>\n",
              "      <td>266669</td>\n",
              "      <td>0</td>\n",
              "      <td>25</td>\n",
              "      <td>1796</td>\n",
              "      <td>1</td>\n",
              "      <td>SCORE</td>\n",
              "      <td>10000</td>\n",
              "      <td>100</td>\n",
              "      <td>solution-3979</td>\n",
              "      <td>4</td>\n",
              "      <td>2021-04-28 09:35:15</td>\n",
              "      <td>2021-04-28 09:35:21</td>\n",
              "    </tr>\n",
              "    <tr>\n",
              "      <th>264604</th>\n",
              "      <td>266670</td>\n",
              "      <td>0</td>\n",
              "      <td>150</td>\n",
              "      <td>255</td>\n",
              "      <td>1</td>\n",
              "      <td>SCORE</td>\n",
              "      <td>6250</td>\n",
              "      <td>100</td>\n",
              "      <td>solution-3980</td>\n",
              "      <td>2</td>\n",
              "      <td>2021-05-11 01:34:57</td>\n",
              "      <td>2021-05-11 01:35:28</td>\n",
              "    </tr>\n",
              "    <tr>\n",
              "      <th>264605</th>\n",
              "      <td>266671</td>\n",
              "      <td>21</td>\n",
              "      <td>24</td>\n",
              "      <td>1568</td>\n",
              "      <td>0</td>\n",
              "      <td>SCORE</td>\n",
              "      <td>10000</td>\n",
              "      <td>100</td>\n",
              "      <td>solution-609</td>\n",
              "      <td>4</td>\n",
              "      <td>2021-05-13 17:17:17</td>\n",
              "      <td>2021-05-13 17:17:40</td>\n",
              "    </tr>\n",
              "  </tbody>\n",
              "</table>\n",
              "<p>264606 rows × 12 columns</p>\n",
              "</div>"
            ],
            "text/plain": [
              "            id  assignment_id  ...           created_at           updated_at\n",
              "0            4              0  ...  2020-10-30 10:58:11  2020-10-30 10:58:19\n",
              "1            5              0  ...  2020-10-30 11:07:09  2020-10-30 11:07:17\n",
              "2            6              0  ...  2020-10-30 11:08:01  2020-10-30 11:23:36\n",
              "3            7              0  ...  2020-10-30 11:11:41  2020-10-30 11:11:42\n",
              "4            8              0  ...  2020-10-30 11:15:06  2020-10-30 11:15:07\n",
              "...        ...            ...  ...                  ...                  ...\n",
              "264601  266667              0  ...  2021-04-28 09:34:20  2021-04-28 09:34:27\n",
              "264602  266668              0  ...  2021-04-28 09:35:07  2021-04-28 09:35:08\n",
              "264603  266669              0  ...  2021-04-28 09:35:15  2021-04-28 09:35:21\n",
              "264604  266670              0  ...  2021-05-11 01:34:57  2021-05-11 01:35:28\n",
              "264605  266671             21  ...  2021-05-13 17:17:17  2021-05-13 17:17:40\n",
              "\n",
              "[264606 rows x 12 columns]"
            ]
          },
          "metadata": {
            "tags": []
          },
          "execution_count": 4
        }
      ]
    },
    {
      "cell_type": "code",
      "metadata": {
        "colab": {
          "base_uri": "https://localhost:8080/",
          "height": 407
        },
        "id": "v9mb2qXo1jTI",
        "outputId": "eae9ea09-f9c3-4586-e54d-196f967b6269"
      },
      "source": [
        "score_training"
      ],
      "execution_count": null,
      "outputs": [
        {
          "output_type": "execute_result",
          "data": {
            "text/html": [
              "<div>\n",
              "<style scoped>\n",
              "    .dataframe tbody tr th:only-of-type {\n",
              "        vertical-align: middle;\n",
              "    }\n",
              "\n",
              "    .dataframe tbody tr th {\n",
              "        vertical-align: top;\n",
              "    }\n",
              "\n",
              "    .dataframe thead th {\n",
              "        text-align: right;\n",
              "    }\n",
              "</style>\n",
              "<table border=\"1\" class=\"dataframe\">\n",
              "  <thead>\n",
              "    <tr style=\"text-align: right;\">\n",
              "      <th></th>\n",
              "      <th>id</th>\n",
              "      <th>QT</th>\n",
              "      <th>GK</th>\n",
              "      <th>TH</th>\n",
              "      <th>CK</th>\n",
              "      <th>TBM</th>\n",
              "      <th>TBTL</th>\n",
              "    </tr>\n",
              "  </thead>\n",
              "  <tbody>\n",
              "    <tr>\n",
              "      <th>0</th>\n",
              "      <td>22</td>\n",
              "      <td>10</td>\n",
              "      <td>9</td>\n",
              "      <td>8.5</td>\n",
              "      <td>8.5</td>\n",
              "      <td>8.8</td>\n",
              "      <td>8.52</td>\n",
              "    </tr>\n",
              "    <tr>\n",
              "      <th>1</th>\n",
              "      <td>24</td>\n",
              "      <td>10</td>\n",
              "      <td>8</td>\n",
              "      <td>10</td>\n",
              "      <td>9.5</td>\n",
              "      <td>9.4</td>\n",
              "      <td>8.41</td>\n",
              "    </tr>\n",
              "    <tr>\n",
              "      <th>2</th>\n",
              "      <td>27</td>\n",
              "      <td>10</td>\n",
              "      <td>10</td>\n",
              "      <td>10</td>\n",
              "      <td>10</td>\n",
              "      <td>10</td>\n",
              "      <td>8.67</td>\n",
              "    </tr>\n",
              "    <tr>\n",
              "      <th>3</th>\n",
              "      <td>28</td>\n",
              "      <td>10</td>\n",
              "      <td>9.5</td>\n",
              "      <td>7.5</td>\n",
              "      <td>9.5</td>\n",
              "      <td>9.2</td>\n",
              "      <td>7.39</td>\n",
              "    </tr>\n",
              "    <tr>\n",
              "      <th>4</th>\n",
              "      <td>29</td>\n",
              "      <td>10</td>\n",
              "      <td>9.5</td>\n",
              "      <td>5</td>\n",
              "      <td>8.5</td>\n",
              "      <td>8.2</td>\n",
              "      <td>8.05</td>\n",
              "    </tr>\n",
              "    <tr>\n",
              "      <th>...</th>\n",
              "      <td>...</td>\n",
              "      <td>...</td>\n",
              "      <td>...</td>\n",
              "      <td>...</td>\n",
              "      <td>...</td>\n",
              "      <td>...</td>\n",
              "      <td>...</td>\n",
              "    </tr>\n",
              "    <tr>\n",
              "      <th>970</th>\n",
              "      <td>1857</td>\n",
              "      <td>5</td>\n",
              "      <td>4.5</td>\n",
              "      <td>10</td>\n",
              "      <td>4</td>\n",
              "      <td>6</td>\n",
              "      <td>6.03</td>\n",
              "    </tr>\n",
              "    <tr>\n",
              "      <th>971</th>\n",
              "      <td>1859</td>\n",
              "      <td>8</td>\n",
              "      <td>5</td>\n",
              "      <td>10</td>\n",
              "      <td>1.5</td>\n",
              "      <td>5.4</td>\n",
              "      <td>5.06</td>\n",
              "    </tr>\n",
              "    <tr>\n",
              "      <th>972</th>\n",
              "      <td>1862</td>\n",
              "      <td>5</td>\n",
              "      <td>6.5</td>\n",
              "      <td>1</td>\n",
              "      <td>7.5</td>\n",
              "      <td>5.1</td>\n",
              "      <td>4.71</td>\n",
              "    </tr>\n",
              "    <tr>\n",
              "      <th>973</th>\n",
              "      <td>1865</td>\n",
              "      <td>6.5</td>\n",
              "      <td></td>\n",
              "      <td>3</td>\n",
              "      <td>7.5</td>\n",
              "      <td></td>\n",
              "      <td>6.89</td>\n",
              "    </tr>\n",
              "    <tr>\n",
              "      <th>974</th>\n",
              "      <td>1866</td>\n",
              "      <td>9</td>\n",
              "      <td>7.5</td>\n",
              "      <td>2</td>\n",
              "      <td>5</td>\n",
              "      <td>5</td>\n",
              "      <td>7.05</td>\n",
              "    </tr>\n",
              "  </tbody>\n",
              "</table>\n",
              "<p>975 rows × 7 columns</p>\n",
              "</div>"
            ],
            "text/plain": [
              "       id   QT   GK   TH   CK  TBM  TBTL\n",
              "0      22   10    9  8.5  8.5  8.8  8.52\n",
              "1      24   10    8   10  9.5  9.4  8.41\n",
              "2      27   10   10   10   10   10  8.67\n",
              "3      28   10  9.5  7.5  9.5  9.2  7.39\n",
              "4      29   10  9.5    5  8.5  8.2  8.05\n",
              "..    ...  ...  ...  ...  ...  ...   ...\n",
              "970  1857    5  4.5   10    4    6  6.03\n",
              "971  1859    8    5   10  1.5  5.4  5.06\n",
              "972  1862    5  6.5    1  7.5  5.1  4.71\n",
              "973  1865  6.5         3  7.5       6.89\n",
              "974  1866    9  7.5    2    5    5  7.05\n",
              "\n",
              "[975 rows x 7 columns]"
            ]
          },
          "metadata": {
            "tags": []
          },
          "execution_count": 5
        }
      ]
    },
    {
      "cell_type": "markdown",
      "metadata": {
        "id": "2pew6njEsyEM"
      },
      "source": [
        "## 2. LẤY NHỮNG CỘT CẦN THIẾT"
      ]
    },
    {
      "cell_type": "markdown",
      "metadata": {
        "id": "R8W29vaMtBvU"
      },
      "source": [
        "### 2.1 Những cột cần thiết trong file score_training"
      ]
    },
    {
      "cell_type": "code",
      "metadata": {
        "colab": {
          "base_uri": "https://localhost:8080/"
        },
        "id": "tRqPgcZ1r-aH",
        "outputId": "65c5d082-81ee-4d60-fd0a-e4de61aff290"
      },
      "source": [
        "score = score_training.sort_values(\"CK\").reset_index()[['id','CK']]\n",
        "score"
      ],
      "execution_count": null,
      "outputs": [
        {
          "output_type": "execute_result",
          "data": {
            "text/html": [
              "<div>\n",
              "<style scoped>\n",
              "    .dataframe tbody tr th:only-of-type {\n",
              "        vertical-align: middle;\n",
              "    }\n",
              "\n",
              "    .dataframe tbody tr th {\n",
              "        vertical-align: top;\n",
              "    }\n",
              "\n",
              "    .dataframe thead th {\n",
              "        text-align: right;\n",
              "    }\n",
              "</style>\n",
              "<table border=\"1\" class=\"dataframe\">\n",
              "  <thead>\n",
              "    <tr style=\"text-align: right;\">\n",
              "      <th></th>\n",
              "      <th>id</th>\n",
              "      <th>CK</th>\n",
              "    </tr>\n",
              "  </thead>\n",
              "  <tbody>\n",
              "    <tr>\n",
              "      <th>0</th>\n",
              "      <td>960</td>\n",
              "      <td>0</td>\n",
              "    </tr>\n",
              "    <tr>\n",
              "      <th>1</th>\n",
              "      <td>562</td>\n",
              "      <td>0</td>\n",
              "    </tr>\n",
              "    <tr>\n",
              "      <th>2</th>\n",
              "      <td>1529</td>\n",
              "      <td>0</td>\n",
              "    </tr>\n",
              "    <tr>\n",
              "      <th>3</th>\n",
              "      <td>1193</td>\n",
              "      <td>0</td>\n",
              "    </tr>\n",
              "    <tr>\n",
              "      <th>4</th>\n",
              "      <td>1471</td>\n",
              "      <td>0</td>\n",
              "    </tr>\n",
              "    <tr>\n",
              "      <th>...</th>\n",
              "      <td>...</td>\n",
              "      <td>...</td>\n",
              "    </tr>\n",
              "    <tr>\n",
              "      <th>970</th>\n",
              "      <td>1319</td>\n",
              "      <td></td>\n",
              "    </tr>\n",
              "    <tr>\n",
              "      <th>971</th>\n",
              "      <td>876</td>\n",
              "      <td></td>\n",
              "    </tr>\n",
              "    <tr>\n",
              "      <th>972</th>\n",
              "      <td>1217</td>\n",
              "      <td></td>\n",
              "    </tr>\n",
              "    <tr>\n",
              "      <th>973</th>\n",
              "      <td>989</td>\n",
              "      <td></td>\n",
              "    </tr>\n",
              "    <tr>\n",
              "      <th>974</th>\n",
              "      <td>51</td>\n",
              "      <td>NaN</td>\n",
              "    </tr>\n",
              "  </tbody>\n",
              "</table>\n",
              "<p>975 rows × 2 columns</p>\n",
              "</div>"
            ],
            "text/plain": [
              "       id   CK\n",
              "0     960    0\n",
              "1     562    0\n",
              "2    1529    0\n",
              "3    1193    0\n",
              "4    1471    0\n",
              "..    ...  ...\n",
              "970  1319     \n",
              "971   876     \n",
              "972  1217     \n",
              "973   989     \n",
              "974    51  NaN\n",
              "\n",
              "[975 rows x 2 columns]"
            ]
          },
          "metadata": {
            "tags": []
          },
          "execution_count": 69
        }
      ]
    },
    {
      "cell_type": "code",
      "metadata": {
        "colab": {
          "base_uri": "https://localhost:8080/"
        },
        "id": "vvvtRgBLAg1y",
        "outputId": "f56b66cf-0493-45ed-a11c-8f91d78218c1"
      },
      "source": [
        "score.dtypes"
      ],
      "execution_count": null,
      "outputs": [
        {
          "output_type": "execute_result",
          "data": {
            "text/plain": [
              "id     int64\n",
              "CK    object\n",
              "dtype: object"
            ]
          },
          "metadata": {
            "tags": []
          },
          "execution_count": 70
        }
      ]
    },
    {
      "cell_type": "code",
      "metadata": {
        "colab": {
          "base_uri": "https://localhost:8080/"
        },
        "id": "uYJrshm8Aj-0",
        "outputId": "dc11d56c-cab6-4712-b3e2-18aaa0f6b3e9"
      },
      "source": [
        "score.CK.value_counts()"
      ],
      "execution_count": null,
      "outputs": [
        {
          "output_type": "execute_result",
          "data": {
            "text/plain": [
              "8      104\n",
              "7.5     94\n",
              "7       78\n",
              "8.5     73\n",
              "6.5     67\n",
              "6       63\n",
              "5.5     61\n",
              "9       61\n",
              "5       60\n",
              "        54\n",
              "4       48\n",
              "4.5     48\n",
              "9.5     30\n",
              "3.5     29\n",
              "2.5     28\n",
              "3       25\n",
              "0       24\n",
              "2       10\n",
              "1.5      6\n",
              "1        6\n",
              "0.5      3\n",
              "10       2\n",
              "Name: CK, dtype: int64"
            ]
          },
          "metadata": {
            "tags": []
          },
          "execution_count": 71
        }
      ]
    },
    {
      "cell_type": "markdown",
      "metadata": {
        "id": "HbG6pcPiCjJT"
      },
      "source": [
        "##### ? Cần biết giá trị của kí tự trắng kia là gì"
      ]
    },
    {
      "cell_type": "code",
      "metadata": {
        "id": "ZiY2psqkKmEP",
        "colab": {
          "base_uri": "https://localhost:8080/"
        },
        "outputId": "cf41d04f-8909-4dc1-d798-260fa4923999"
      },
      "source": [
        "value = {}\n",
        "for i in range(len(score)):\n",
        "   if score.iloc[i,1] not in value:\n",
        "     value.update({score.iloc[i,1]:len(value)})\n",
        "value"
      ],
      "execution_count": null,
      "outputs": [
        {
          "output_type": "execute_result",
          "data": {
            "text/plain": [
              "{'0': 0,\n",
              " '0.5': 1,\n",
              " '1': 2,\n",
              " '1.5': 3,\n",
              " '10': 4,\n",
              " '2': 5,\n",
              " '2.5': 6,\n",
              " '3': 7,\n",
              " '3.5': 8,\n",
              " '4': 9,\n",
              " '4.5': 10,\n",
              " '5': 11,\n",
              " '5.5': 12,\n",
              " '6': 13,\n",
              " '6.5': 14,\n",
              " '7': 15,\n",
              " '7.5': 16,\n",
              " '8': 17,\n",
              " '8.5': 18,\n",
              " '9': 19,\n",
              " '9.5': 20,\n",
              " nan: 22,\n",
              " '\\xa0': 21}"
            ]
          },
          "metadata": {
            "tags": []
          },
          "execution_count": 72
        }
      ]
    },
    {
      "cell_type": "code",
      "metadata": {
        "colab": {
          "base_uri": "https://localhost:8080/"
        },
        "id": "X5O1yuNELern",
        "outputId": "01f23312-1960-48e9-b68d-4d61d65d1c6f"
      },
      "source": [
        "value"
      ],
      "execution_count": null,
      "outputs": [
        {
          "output_type": "execute_result",
          "data": {
            "text/plain": [
              "{'0': 0,\n",
              " '0.5': 1,\n",
              " '1': 2,\n",
              " '1.5': 3,\n",
              " '10': 4,\n",
              " '2': 5,\n",
              " '2.5': 6,\n",
              " '3': 7,\n",
              " '3.5': 8,\n",
              " '4': 9,\n",
              " '4.5': 10,\n",
              " '5': 11,\n",
              " '5.5': 12,\n",
              " '6': 13,\n",
              " '6.5': 14,\n",
              " '7': 15,\n",
              " '7.5': 16,\n",
              " '8': 17,\n",
              " '8.5': 18,\n",
              " '9': 19,\n",
              " '9.5': 20,\n",
              " nan: 22,\n",
              " '\\xa0': 21}"
            ]
          },
          "metadata": {
            "tags": []
          },
          "execution_count": 73
        }
      ]
    },
    {
      "cell_type": "code",
      "metadata": {
        "id": "mUaajjy-BixJ"
      },
      "source": [
        "score_null = score.loc[score.CK == \"\\xa0\"]"
      ],
      "execution_count": null,
      "outputs": []
    },
    {
      "cell_type": "markdown",
      "metadata": {
        "id": "6KZHwDBTMazj"
      },
      "source": [
        "##### Thành quả - kiểm tra lại"
      ]
    },
    {
      "cell_type": "code",
      "metadata": {
        "id": "q2ZDYaMWMFIP"
      },
      "source": [
        "score = score.loc[score.CK != \"\\xa0\"]"
      ],
      "execution_count": null,
      "outputs": []
    },
    {
      "cell_type": "code",
      "metadata": {
        "colab": {
          "base_uri": "https://localhost:8080/"
        },
        "id": "UglWUBhvJv4i",
        "outputId": "25ed6c5d-6486-4bea-c750-20028d1ff5ca"
      },
      "source": [
        "score.CK.value_counts()"
      ],
      "execution_count": null,
      "outputs": [
        {
          "output_type": "execute_result",
          "data": {
            "text/plain": [
              "8      104\n",
              "7.5     94\n",
              "7       78\n",
              "8.5     73\n",
              "6.5     67\n",
              "6       63\n",
              "5.5     61\n",
              "9       61\n",
              "5       60\n",
              "4.5     48\n",
              "4       48\n",
              "9.5     30\n",
              "3.5     29\n",
              "2.5     28\n",
              "3       25\n",
              "0       24\n",
              "2       10\n",
              "1.5      6\n",
              "1        6\n",
              "0.5      3\n",
              "10       2\n",
              "Name: CK, dtype: int64"
            ]
          },
          "metadata": {
            "tags": []
          },
          "execution_count": 76
        }
      ]
    },
    {
      "cell_type": "code",
      "metadata": {
        "colab": {
          "base_uri": "https://localhost:8080/"
        },
        "id": "2Pl1XE8HMnbh",
        "outputId": "140a7389-6682-4467-8c85-0c19dc7b9c37"
      },
      "source": [
        "score.CK = score.CK.apply(float)"
      ],
      "execution_count": null,
      "outputs": [
        {
          "output_type": "stream",
          "text": [
            "/usr/local/lib/python3.7/dist-packages/pandas/core/generic.py:5170: SettingWithCopyWarning: \n",
            "A value is trying to be set on a copy of a slice from a DataFrame.\n",
            "Try using .loc[row_indexer,col_indexer] = value instead\n",
            "\n",
            "See the caveats in the documentation: https://pandas.pydata.org/pandas-docs/stable/user_guide/indexing.html#returning-a-view-versus-a-copy\n",
            "  self[name] = value\n"
          ],
          "name": "stderr"
        }
      ]
    },
    {
      "cell_type": "code",
      "metadata": {
        "colab": {
          "base_uri": "https://localhost:8080/"
        },
        "id": "i0UnVGf1Misw",
        "outputId": "819ed257-56b4-4ab0-cd72-3b2be17ce018"
      },
      "source": [
        "score.dtypes"
      ],
      "execution_count": null,
      "outputs": [
        {
          "output_type": "execute_result",
          "data": {
            "text/plain": [
              "id      int64\n",
              "CK    float64\n",
              "dtype: object"
            ]
          },
          "metadata": {
            "tags": []
          },
          "execution_count": 78
        }
      ]
    },
    {
      "cell_type": "markdown",
      "metadata": {
        "id": "KvPV-3qRtgSr"
      },
      "source": [
        "### 2.2 Lấy những cột cần thiết trong file wecode"
      ]
    },
    {
      "cell_type": "code",
      "metadata": {
        "colab": {
          "base_uri": "https://localhost:8080/"
        },
        "id": "rZwC5GPCtwxn",
        "outputId": "d6948685-9903-45ec-b1c0-62afd1542e42"
      },
      "source": [
        "wecode"
      ],
      "execution_count": null,
      "outputs": [
        {
          "output_type": "execute_result",
          "data": {
            "text/html": [
              "<div>\n",
              "<style scoped>\n",
              "    .dataframe tbody tr th:only-of-type {\n",
              "        vertical-align: middle;\n",
              "    }\n",
              "\n",
              "    .dataframe tbody tr th {\n",
              "        vertical-align: top;\n",
              "    }\n",
              "\n",
              "    .dataframe thead th {\n",
              "        text-align: right;\n",
              "    }\n",
              "</style>\n",
              "<table border=\"1\" class=\"dataframe\">\n",
              "  <thead>\n",
              "    <tr style=\"text-align: right;\">\n",
              "      <th></th>\n",
              "      <th>id</th>\n",
              "      <th>assignment_id</th>\n",
              "      <th>problem_id</th>\n",
              "      <th>user_id</th>\n",
              "      <th>is_final</th>\n",
              "      <th>status</th>\n",
              "      <th>pre_score</th>\n",
              "      <th>coefficient</th>\n",
              "      <th>file_name</th>\n",
              "      <th>language_id</th>\n",
              "      <th>created_at</th>\n",
              "      <th>updated_at</th>\n",
              "    </tr>\n",
              "  </thead>\n",
              "  <tbody>\n",
              "    <tr>\n",
              "      <th>0</th>\n",
              "      <td>4</td>\n",
              "      <td>0</td>\n",
              "      <td>3</td>\n",
              "      <td>4</td>\n",
              "      <td>1</td>\n",
              "      <td>SCORE</td>\n",
              "      <td>10000</td>\n",
              "      <td>100</td>\n",
              "      <td>solution-0</td>\n",
              "      <td>2</td>\n",
              "      <td>2020-10-30 10:58:11</td>\n",
              "      <td>2020-10-30 10:58:19</td>\n",
              "    </tr>\n",
              "    <tr>\n",
              "      <th>1</th>\n",
              "      <td>5</td>\n",
              "      <td>0</td>\n",
              "      <td>4</td>\n",
              "      <td>4</td>\n",
              "      <td>1</td>\n",
              "      <td>SCORE</td>\n",
              "      <td>10000</td>\n",
              "      <td>100</td>\n",
              "      <td>solution-1</td>\n",
              "      <td>2</td>\n",
              "      <td>2020-10-30 11:07:09</td>\n",
              "      <td>2020-10-30 11:07:17</td>\n",
              "    </tr>\n",
              "    <tr>\n",
              "      <th>2</th>\n",
              "      <td>6</td>\n",
              "      <td>0</td>\n",
              "      <td>5</td>\n",
              "      <td>4</td>\n",
              "      <td>0</td>\n",
              "      <td>Compilation Error</td>\n",
              "      <td>0</td>\n",
              "      <td>100</td>\n",
              "      <td>solution-2</td>\n",
              "      <td>2</td>\n",
              "      <td>2020-10-30 11:08:01</td>\n",
              "      <td>2020-10-30 11:23:36</td>\n",
              "    </tr>\n",
              "    <tr>\n",
              "      <th>3</th>\n",
              "      <td>7</td>\n",
              "      <td>0</td>\n",
              "      <td>5</td>\n",
              "      <td>4</td>\n",
              "      <td>0</td>\n",
              "      <td>Compilation Error</td>\n",
              "      <td>0</td>\n",
              "      <td>100</td>\n",
              "      <td>solution-3</td>\n",
              "      <td>2</td>\n",
              "      <td>2020-10-30 11:11:41</td>\n",
              "      <td>2020-10-30 11:11:42</td>\n",
              "    </tr>\n",
              "    <tr>\n",
              "      <th>4</th>\n",
              "      <td>8</td>\n",
              "      <td>0</td>\n",
              "      <td>5</td>\n",
              "      <td>4</td>\n",
              "      <td>0</td>\n",
              "      <td>Compilation Error</td>\n",
              "      <td>0</td>\n",
              "      <td>100</td>\n",
              "      <td>solution-4</td>\n",
              "      <td>2</td>\n",
              "      <td>2020-10-30 11:15:06</td>\n",
              "      <td>2020-10-30 11:15:07</td>\n",
              "    </tr>\n",
              "    <tr>\n",
              "      <th>...</th>\n",
              "      <td>...</td>\n",
              "      <td>...</td>\n",
              "      <td>...</td>\n",
              "      <td>...</td>\n",
              "      <td>...</td>\n",
              "      <td>...</td>\n",
              "      <td>...</td>\n",
              "      <td>...</td>\n",
              "      <td>...</td>\n",
              "      <td>...</td>\n",
              "      <td>...</td>\n",
              "      <td>...</td>\n",
              "    </tr>\n",
              "    <tr>\n",
              "      <th>264601</th>\n",
              "      <td>266667</td>\n",
              "      <td>0</td>\n",
              "      <td>25</td>\n",
              "      <td>1796</td>\n",
              "      <td>0</td>\n",
              "      <td>SCORE</td>\n",
              "      <td>0</td>\n",
              "      <td>100</td>\n",
              "      <td>solution-3977</td>\n",
              "      <td>4</td>\n",
              "      <td>2021-04-28 09:34:20</td>\n",
              "      <td>2021-04-28 09:34:27</td>\n",
              "    </tr>\n",
              "    <tr>\n",
              "      <th>264602</th>\n",
              "      <td>266668</td>\n",
              "      <td>0</td>\n",
              "      <td>25</td>\n",
              "      <td>1796</td>\n",
              "      <td>0</td>\n",
              "      <td>Compilation Error</td>\n",
              "      <td>0</td>\n",
              "      <td>100</td>\n",
              "      <td>solution-3978</td>\n",
              "      <td>2</td>\n",
              "      <td>2021-04-28 09:35:07</td>\n",
              "      <td>2021-04-28 09:35:08</td>\n",
              "    </tr>\n",
              "    <tr>\n",
              "      <th>264603</th>\n",
              "      <td>266669</td>\n",
              "      <td>0</td>\n",
              "      <td>25</td>\n",
              "      <td>1796</td>\n",
              "      <td>1</td>\n",
              "      <td>SCORE</td>\n",
              "      <td>10000</td>\n",
              "      <td>100</td>\n",
              "      <td>solution-3979</td>\n",
              "      <td>4</td>\n",
              "      <td>2021-04-28 09:35:15</td>\n",
              "      <td>2021-04-28 09:35:21</td>\n",
              "    </tr>\n",
              "    <tr>\n",
              "      <th>264604</th>\n",
              "      <td>266670</td>\n",
              "      <td>0</td>\n",
              "      <td>150</td>\n",
              "      <td>255</td>\n",
              "      <td>1</td>\n",
              "      <td>SCORE</td>\n",
              "      <td>6250</td>\n",
              "      <td>100</td>\n",
              "      <td>solution-3980</td>\n",
              "      <td>2</td>\n",
              "      <td>2021-05-11 01:34:57</td>\n",
              "      <td>2021-05-11 01:35:28</td>\n",
              "    </tr>\n",
              "    <tr>\n",
              "      <th>264605</th>\n",
              "      <td>266671</td>\n",
              "      <td>21</td>\n",
              "      <td>24</td>\n",
              "      <td>1568</td>\n",
              "      <td>0</td>\n",
              "      <td>SCORE</td>\n",
              "      <td>10000</td>\n",
              "      <td>100</td>\n",
              "      <td>solution-609</td>\n",
              "      <td>4</td>\n",
              "      <td>2021-05-13 17:17:17</td>\n",
              "      <td>2021-05-13 17:17:40</td>\n",
              "    </tr>\n",
              "  </tbody>\n",
              "</table>\n",
              "<p>264606 rows × 12 columns</p>\n",
              "</div>"
            ],
            "text/plain": [
              "            id  assignment_id  ...           created_at           updated_at\n",
              "0            4              0  ...  2020-10-30 10:58:11  2020-10-30 10:58:19\n",
              "1            5              0  ...  2020-10-30 11:07:09  2020-10-30 11:07:17\n",
              "2            6              0  ...  2020-10-30 11:08:01  2020-10-30 11:23:36\n",
              "3            7              0  ...  2020-10-30 11:11:41  2020-10-30 11:11:42\n",
              "4            8              0  ...  2020-10-30 11:15:06  2020-10-30 11:15:07\n",
              "...        ...            ...  ...                  ...                  ...\n",
              "264601  266667              0  ...  2021-04-28 09:34:20  2021-04-28 09:34:27\n",
              "264602  266668              0  ...  2021-04-28 09:35:07  2021-04-28 09:35:08\n",
              "264603  266669              0  ...  2021-04-28 09:35:15  2021-04-28 09:35:21\n",
              "264604  266670              0  ...  2021-05-11 01:34:57  2021-05-11 01:35:28\n",
              "264605  266671             21  ...  2021-05-13 17:17:17  2021-05-13 17:17:40\n",
              "\n",
              "[264606 rows x 12 columns]"
            ]
          },
          "metadata": {
            "tags": []
          },
          "execution_count": 16
        }
      ]
    },
    {
      "cell_type": "markdown",
      "metadata": {
        "id": "okZ8vnTYt2FG"
      },
      "source": [
        "Bỏ đi một số cột nghĩ là không quan trọng và không có ảnh hưởng gì đến điểm số: file_name, language_id, created_at, updated_at, status"
      ]
    },
    {
      "cell_type": "code",
      "metadata": {
        "colab": {
          "base_uri": "https://localhost:8080/"
        },
        "id": "GMGLgoh8o6UA",
        "outputId": "cd5bb3e0-4858-4845-f772-8ccdd52626a7"
      },
      "source": [
        "wecode1 = wecode.iloc[:,0:8].drop(\"status\", axis=1)\n",
        "wecode1"
      ],
      "execution_count": null,
      "outputs": [
        {
          "output_type": "execute_result",
          "data": {
            "text/html": [
              "<div>\n",
              "<style scoped>\n",
              "    .dataframe tbody tr th:only-of-type {\n",
              "        vertical-align: middle;\n",
              "    }\n",
              "\n",
              "    .dataframe tbody tr th {\n",
              "        vertical-align: top;\n",
              "    }\n",
              "\n",
              "    .dataframe thead th {\n",
              "        text-align: right;\n",
              "    }\n",
              "</style>\n",
              "<table border=\"1\" class=\"dataframe\">\n",
              "  <thead>\n",
              "    <tr style=\"text-align: right;\">\n",
              "      <th></th>\n",
              "      <th>id</th>\n",
              "      <th>assignment_id</th>\n",
              "      <th>problem_id</th>\n",
              "      <th>user_id</th>\n",
              "      <th>is_final</th>\n",
              "      <th>pre_score</th>\n",
              "      <th>coefficient</th>\n",
              "    </tr>\n",
              "  </thead>\n",
              "  <tbody>\n",
              "    <tr>\n",
              "      <th>0</th>\n",
              "      <td>4</td>\n",
              "      <td>0</td>\n",
              "      <td>3</td>\n",
              "      <td>4</td>\n",
              "      <td>1</td>\n",
              "      <td>10000</td>\n",
              "      <td>100</td>\n",
              "    </tr>\n",
              "    <tr>\n",
              "      <th>1</th>\n",
              "      <td>5</td>\n",
              "      <td>0</td>\n",
              "      <td>4</td>\n",
              "      <td>4</td>\n",
              "      <td>1</td>\n",
              "      <td>10000</td>\n",
              "      <td>100</td>\n",
              "    </tr>\n",
              "    <tr>\n",
              "      <th>2</th>\n",
              "      <td>6</td>\n",
              "      <td>0</td>\n",
              "      <td>5</td>\n",
              "      <td>4</td>\n",
              "      <td>0</td>\n",
              "      <td>0</td>\n",
              "      <td>100</td>\n",
              "    </tr>\n",
              "    <tr>\n",
              "      <th>3</th>\n",
              "      <td>7</td>\n",
              "      <td>0</td>\n",
              "      <td>5</td>\n",
              "      <td>4</td>\n",
              "      <td>0</td>\n",
              "      <td>0</td>\n",
              "      <td>100</td>\n",
              "    </tr>\n",
              "    <tr>\n",
              "      <th>4</th>\n",
              "      <td>8</td>\n",
              "      <td>0</td>\n",
              "      <td>5</td>\n",
              "      <td>4</td>\n",
              "      <td>0</td>\n",
              "      <td>0</td>\n",
              "      <td>100</td>\n",
              "    </tr>\n",
              "    <tr>\n",
              "      <th>...</th>\n",
              "      <td>...</td>\n",
              "      <td>...</td>\n",
              "      <td>...</td>\n",
              "      <td>...</td>\n",
              "      <td>...</td>\n",
              "      <td>...</td>\n",
              "      <td>...</td>\n",
              "    </tr>\n",
              "    <tr>\n",
              "      <th>264601</th>\n",
              "      <td>266667</td>\n",
              "      <td>0</td>\n",
              "      <td>25</td>\n",
              "      <td>1796</td>\n",
              "      <td>0</td>\n",
              "      <td>0</td>\n",
              "      <td>100</td>\n",
              "    </tr>\n",
              "    <tr>\n",
              "      <th>264602</th>\n",
              "      <td>266668</td>\n",
              "      <td>0</td>\n",
              "      <td>25</td>\n",
              "      <td>1796</td>\n",
              "      <td>0</td>\n",
              "      <td>0</td>\n",
              "      <td>100</td>\n",
              "    </tr>\n",
              "    <tr>\n",
              "      <th>264603</th>\n",
              "      <td>266669</td>\n",
              "      <td>0</td>\n",
              "      <td>25</td>\n",
              "      <td>1796</td>\n",
              "      <td>1</td>\n",
              "      <td>10000</td>\n",
              "      <td>100</td>\n",
              "    </tr>\n",
              "    <tr>\n",
              "      <th>264604</th>\n",
              "      <td>266670</td>\n",
              "      <td>0</td>\n",
              "      <td>150</td>\n",
              "      <td>255</td>\n",
              "      <td>1</td>\n",
              "      <td>6250</td>\n",
              "      <td>100</td>\n",
              "    </tr>\n",
              "    <tr>\n",
              "      <th>264605</th>\n",
              "      <td>266671</td>\n",
              "      <td>21</td>\n",
              "      <td>24</td>\n",
              "      <td>1568</td>\n",
              "      <td>0</td>\n",
              "      <td>10000</td>\n",
              "      <td>100</td>\n",
              "    </tr>\n",
              "  </tbody>\n",
              "</table>\n",
              "<p>264606 rows × 7 columns</p>\n",
              "</div>"
            ],
            "text/plain": [
              "            id  assignment_id  problem_id  ...  is_final  pre_score  coefficient\n",
              "0            4              0           3  ...         1      10000          100\n",
              "1            5              0           4  ...         1      10000          100\n",
              "2            6              0           5  ...         0          0          100\n",
              "3            7              0           5  ...         0          0          100\n",
              "4            8              0           5  ...         0          0          100\n",
              "...        ...            ...         ...  ...       ...        ...          ...\n",
              "264601  266667              0          25  ...         0          0          100\n",
              "264602  266668              0          25  ...         0          0          100\n",
              "264603  266669              0          25  ...         1      10000          100\n",
              "264604  266670              0         150  ...         1       6250          100\n",
              "264605  266671             21          24  ...         0      10000          100\n",
              "\n",
              "[264606 rows x 7 columns]"
            ]
          },
          "metadata": {
            "tags": []
          },
          "execution_count": 17
        }
      ]
    },
    {
      "cell_type": "code",
      "metadata": {
        "colab": {
          "base_uri": "https://localhost:8080/"
        },
        "id": "z7Vmy8soqlSp",
        "outputId": "18b9d3a5-ceee-407a-ff13-df52303d0b53"
      },
      "source": [
        "wecode1.assignment_id.nunique()"
      ],
      "execution_count": null,
      "outputs": [
        {
          "output_type": "execute_result",
          "data": {
            "text/plain": [
              "290"
            ]
          },
          "metadata": {
            "tags": []
          },
          "execution_count": 18
        }
      ]
    },
    {
      "cell_type": "markdown",
      "metadata": {
        "id": "44ZzqGhJuUew"
      },
      "source": [
        "Khi cắt bớt các cột thì thấy vẫn còn dư thừa cột id, asignment_id"
      ]
    },
    {
      "cell_type": "code",
      "metadata": {
        "colab": {
          "base_uri": "https://localhost:8080/"
        },
        "id": "8krNrWnQrG4e",
        "outputId": "2f935774-d992-4807-e86c-b81b10d0b4ce"
      },
      "source": [
        "wecode2 = wecode1.iloc[:,2:]\n",
        "wecode2"
      ],
      "execution_count": null,
      "outputs": [
        {
          "output_type": "execute_result",
          "data": {
            "text/html": [
              "<div>\n",
              "<style scoped>\n",
              "    .dataframe tbody tr th:only-of-type {\n",
              "        vertical-align: middle;\n",
              "    }\n",
              "\n",
              "    .dataframe tbody tr th {\n",
              "        vertical-align: top;\n",
              "    }\n",
              "\n",
              "    .dataframe thead th {\n",
              "        text-align: right;\n",
              "    }\n",
              "</style>\n",
              "<table border=\"1\" class=\"dataframe\">\n",
              "  <thead>\n",
              "    <tr style=\"text-align: right;\">\n",
              "      <th></th>\n",
              "      <th>problem_id</th>\n",
              "      <th>user_id</th>\n",
              "      <th>is_final</th>\n",
              "      <th>pre_score</th>\n",
              "      <th>coefficient</th>\n",
              "    </tr>\n",
              "  </thead>\n",
              "  <tbody>\n",
              "    <tr>\n",
              "      <th>0</th>\n",
              "      <td>3</td>\n",
              "      <td>4</td>\n",
              "      <td>1</td>\n",
              "      <td>10000</td>\n",
              "      <td>100</td>\n",
              "    </tr>\n",
              "    <tr>\n",
              "      <th>1</th>\n",
              "      <td>4</td>\n",
              "      <td>4</td>\n",
              "      <td>1</td>\n",
              "      <td>10000</td>\n",
              "      <td>100</td>\n",
              "    </tr>\n",
              "    <tr>\n",
              "      <th>2</th>\n",
              "      <td>5</td>\n",
              "      <td>4</td>\n",
              "      <td>0</td>\n",
              "      <td>0</td>\n",
              "      <td>100</td>\n",
              "    </tr>\n",
              "    <tr>\n",
              "      <th>3</th>\n",
              "      <td>5</td>\n",
              "      <td>4</td>\n",
              "      <td>0</td>\n",
              "      <td>0</td>\n",
              "      <td>100</td>\n",
              "    </tr>\n",
              "    <tr>\n",
              "      <th>4</th>\n",
              "      <td>5</td>\n",
              "      <td>4</td>\n",
              "      <td>0</td>\n",
              "      <td>0</td>\n",
              "      <td>100</td>\n",
              "    </tr>\n",
              "    <tr>\n",
              "      <th>...</th>\n",
              "      <td>...</td>\n",
              "      <td>...</td>\n",
              "      <td>...</td>\n",
              "      <td>...</td>\n",
              "      <td>...</td>\n",
              "    </tr>\n",
              "    <tr>\n",
              "      <th>264601</th>\n",
              "      <td>25</td>\n",
              "      <td>1796</td>\n",
              "      <td>0</td>\n",
              "      <td>0</td>\n",
              "      <td>100</td>\n",
              "    </tr>\n",
              "    <tr>\n",
              "      <th>264602</th>\n",
              "      <td>25</td>\n",
              "      <td>1796</td>\n",
              "      <td>0</td>\n",
              "      <td>0</td>\n",
              "      <td>100</td>\n",
              "    </tr>\n",
              "    <tr>\n",
              "      <th>264603</th>\n",
              "      <td>25</td>\n",
              "      <td>1796</td>\n",
              "      <td>1</td>\n",
              "      <td>10000</td>\n",
              "      <td>100</td>\n",
              "    </tr>\n",
              "    <tr>\n",
              "      <th>264604</th>\n",
              "      <td>150</td>\n",
              "      <td>255</td>\n",
              "      <td>1</td>\n",
              "      <td>6250</td>\n",
              "      <td>100</td>\n",
              "    </tr>\n",
              "    <tr>\n",
              "      <th>264605</th>\n",
              "      <td>24</td>\n",
              "      <td>1568</td>\n",
              "      <td>0</td>\n",
              "      <td>10000</td>\n",
              "      <td>100</td>\n",
              "    </tr>\n",
              "  </tbody>\n",
              "</table>\n",
              "<p>264606 rows × 5 columns</p>\n",
              "</div>"
            ],
            "text/plain": [
              "        problem_id  user_id  is_final  pre_score coefficient\n",
              "0                3        4         1      10000         100\n",
              "1                4        4         1      10000         100\n",
              "2                5        4         0          0         100\n",
              "3                5        4         0          0         100\n",
              "4                5        4         0          0         100\n",
              "...            ...      ...       ...        ...         ...\n",
              "264601          25     1796         0          0         100\n",
              "264602          25     1796         0          0         100\n",
              "264603          25     1796         1      10000         100\n",
              "264604         150      255         1       6250         100\n",
              "264605          24     1568         0      10000         100\n",
              "\n",
              "[264606 rows x 5 columns]"
            ]
          },
          "metadata": {
            "tags": []
          },
          "execution_count": 19
        }
      ]
    },
    {
      "cell_type": "code",
      "metadata": {
        "colab": {
          "base_uri": "https://localhost:8080/"
        },
        "id": "-wq02Vm1qlHO",
        "outputId": "8d3c9ba2-74f8-4fb4-d2af-b899ed0b22ca"
      },
      "source": [
        "wecode2.coefficient.nunique()"
      ],
      "execution_count": null,
      "outputs": [
        {
          "output_type": "execute_result",
          "data": {
            "text/plain": [
              "129"
            ]
          },
          "metadata": {
            "tags": []
          },
          "execution_count": 20
        }
      ]
    },
    {
      "cell_type": "markdown",
      "metadata": {
        "id": "9xZb41VZtcDP"
      },
      "source": [
        "### 2.3 Phân tích, phán đoán những giá trị có thể ảnh hưởng đến điểm thi cuối kì\n",
        "- số bài nộp cuối cùng/ tổng số bài nộp\n",
        "- số lần nộp lại\n",
        "- tổng số phần trăm test đúng\n",
        "- điểm: tổng (phần trăm test đúng *coeficient)"
      ]
    },
    {
      "cell_type": "markdown",
      "metadata": {
        "id": "pkUW0VWSgTym"
      },
      "source": [
        "#### *Số bài nộp cuối cùng"
      ]
    },
    {
      "cell_type": "code",
      "metadata": {
        "colab": {
          "base_uri": "https://localhost:8080/"
        },
        "id": "7M5xBT3LZGjr",
        "outputId": "a4ba4ed6-39b2-437d-f198-ffd498f85444"
      },
      "source": [
        "count_is_final = wecode2.groupby(\"user_id\")[[\"is_final\"]].sum().reset_index().rename(columns={'user_id':'id','is_final' : 'count_is_final'})\n",
        "count_is_final"
      ],
      "execution_count": null,
      "outputs": [
        {
          "output_type": "execute_result",
          "data": {
            "text/html": [
              "<div>\n",
              "<style scoped>\n",
              "    .dataframe tbody tr th:only-of-type {\n",
              "        vertical-align: middle;\n",
              "    }\n",
              "\n",
              "    .dataframe tbody tr th {\n",
              "        vertical-align: top;\n",
              "    }\n",
              "\n",
              "    .dataframe thead th {\n",
              "        text-align: right;\n",
              "    }\n",
              "</style>\n",
              "<table border=\"1\" class=\"dataframe\">\n",
              "  <thead>\n",
              "    <tr style=\"text-align: right;\">\n",
              "      <th></th>\n",
              "      <th>id</th>\n",
              "      <th>count_is_final</th>\n",
              "    </tr>\n",
              "  </thead>\n",
              "  <tbody>\n",
              "    <tr>\n",
              "      <th>0</th>\n",
              "      <td>1</td>\n",
              "      <td>2</td>\n",
              "    </tr>\n",
              "    <tr>\n",
              "      <th>1</th>\n",
              "      <td>4</td>\n",
              "      <td>38</td>\n",
              "    </tr>\n",
              "    <tr>\n",
              "      <th>2</th>\n",
              "      <td>5</td>\n",
              "      <td>5</td>\n",
              "    </tr>\n",
              "    <tr>\n",
              "      <th>3</th>\n",
              "      <td>6</td>\n",
              "      <td>88</td>\n",
              "    </tr>\n",
              "    <tr>\n",
              "      <th>4</th>\n",
              "      <td>7</td>\n",
              "      <td>2</td>\n",
              "    </tr>\n",
              "    <tr>\n",
              "      <th>...</th>\n",
              "      <td>...</td>\n",
              "      <td>...</td>\n",
              "    </tr>\n",
              "    <tr>\n",
              "      <th>1154</th>\n",
              "      <td>1860</td>\n",
              "      <td>48</td>\n",
              "    </tr>\n",
              "    <tr>\n",
              "      <th>1155</th>\n",
              "      <td>1862</td>\n",
              "      <td>6</td>\n",
              "    </tr>\n",
              "    <tr>\n",
              "      <th>1156</th>\n",
              "      <td>1864</td>\n",
              "      <td>63</td>\n",
              "    </tr>\n",
              "    <tr>\n",
              "      <th>1157</th>\n",
              "      <td>1865</td>\n",
              "      <td>17</td>\n",
              "    </tr>\n",
              "    <tr>\n",
              "      <th>1158</th>\n",
              "      <td>1868</td>\n",
              "      <td>27</td>\n",
              "    </tr>\n",
              "  </tbody>\n",
              "</table>\n",
              "<p>1159 rows × 2 columns</p>\n",
              "</div>"
            ],
            "text/plain": [
              "        id  count_is_final\n",
              "0        1               2\n",
              "1        4              38\n",
              "2        5               5\n",
              "3        6              88\n",
              "4        7               2\n",
              "...    ...             ...\n",
              "1154  1860              48\n",
              "1155  1862               6\n",
              "1156  1864              63\n",
              "1157  1865              17\n",
              "1158  1868              27\n",
              "\n",
              "[1159 rows x 2 columns]"
            ]
          },
          "metadata": {
            "tags": []
          },
          "execution_count": 21
        }
      ]
    },
    {
      "cell_type": "markdown",
      "metadata": {
        "id": "U0IGmnPI-2ns"
      },
      "source": [
        "@ Join "
      ]
    },
    {
      "cell_type": "code",
      "metadata": {
        "colab": {
          "base_uri": "https://localhost:8080/"
        },
        "id": "Dg4Mp7QR-7Iv",
        "outputId": "b4c010d2-3ca6-4076-d257-861d3e7521dd"
      },
      "source": [
        "df = count_is_final.merge(score, on='id', how=\"inner\")\n",
        "df"
      ],
      "execution_count": null,
      "outputs": [
        {
          "output_type": "execute_result",
          "data": {
            "text/html": [
              "<div>\n",
              "<style scoped>\n",
              "    .dataframe tbody tr th:only-of-type {\n",
              "        vertical-align: middle;\n",
              "    }\n",
              "\n",
              "    .dataframe tbody tr th {\n",
              "        vertical-align: top;\n",
              "    }\n",
              "\n",
              "    .dataframe thead th {\n",
              "        text-align: right;\n",
              "    }\n",
              "</style>\n",
              "<table border=\"1\" class=\"dataframe\">\n",
              "  <thead>\n",
              "    <tr style=\"text-align: right;\">\n",
              "      <th></th>\n",
              "      <th>id</th>\n",
              "      <th>count_is_final</th>\n",
              "      <th>CK</th>\n",
              "    </tr>\n",
              "  </thead>\n",
              "  <tbody>\n",
              "    <tr>\n",
              "      <th>0</th>\n",
              "      <td>24</td>\n",
              "      <td>77</td>\n",
              "      <td>9.5</td>\n",
              "    </tr>\n",
              "    <tr>\n",
              "      <th>1</th>\n",
              "      <td>27</td>\n",
              "      <td>5</td>\n",
              "      <td>10.0</td>\n",
              "    </tr>\n",
              "    <tr>\n",
              "      <th>2</th>\n",
              "      <td>29</td>\n",
              "      <td>80</td>\n",
              "      <td>8.5</td>\n",
              "    </tr>\n",
              "    <tr>\n",
              "      <th>3</th>\n",
              "      <td>34</td>\n",
              "      <td>84</td>\n",
              "      <td>6.5</td>\n",
              "    </tr>\n",
              "    <tr>\n",
              "      <th>4</th>\n",
              "      <td>35</td>\n",
              "      <td>151</td>\n",
              "      <td>4.5</td>\n",
              "    </tr>\n",
              "    <tr>\n",
              "      <th>...</th>\n",
              "      <td>...</td>\n",
              "      <td>...</td>\n",
              "      <td>...</td>\n",
              "    </tr>\n",
              "    <tr>\n",
              "      <th>802</th>\n",
              "      <td>1856</td>\n",
              "      <td>31</td>\n",
              "      <td>7.5</td>\n",
              "    </tr>\n",
              "    <tr>\n",
              "      <th>803</th>\n",
              "      <td>1857</td>\n",
              "      <td>40</td>\n",
              "      <td>4.0</td>\n",
              "    </tr>\n",
              "    <tr>\n",
              "      <th>804</th>\n",
              "      <td>1859</td>\n",
              "      <td>30</td>\n",
              "      <td>1.5</td>\n",
              "    </tr>\n",
              "    <tr>\n",
              "      <th>805</th>\n",
              "      <td>1862</td>\n",
              "      <td>6</td>\n",
              "      <td>7.5</td>\n",
              "    </tr>\n",
              "    <tr>\n",
              "      <th>806</th>\n",
              "      <td>1865</td>\n",
              "      <td>17</td>\n",
              "      <td>7.5</td>\n",
              "    </tr>\n",
              "  </tbody>\n",
              "</table>\n",
              "<p>807 rows × 3 columns</p>\n",
              "</div>"
            ],
            "text/plain": [
              "       id  count_is_final    CK\n",
              "0      24              77   9.5\n",
              "1      27               5  10.0\n",
              "2      29              80   8.5\n",
              "3      34              84   6.5\n",
              "4      35             151   4.5\n",
              "..    ...             ...   ...\n",
              "802  1856              31   7.5\n",
              "803  1857              40   4.0\n",
              "804  1859              30   1.5\n",
              "805  1862               6   7.5\n",
              "806  1865              17   7.5\n",
              "\n",
              "[807 rows x 3 columns]"
            ]
          },
          "metadata": {
            "tags": []
          },
          "execution_count": 22
        }
      ]
    },
    {
      "cell_type": "code",
      "metadata": {
        "colab": {
          "base_uri": "https://localhost:8080/"
        },
        "id": "eFKjoQ4IAVgv",
        "outputId": "c5c4247b-91bb-446e-8ade-d254fd7767a7"
      },
      "source": [
        "df.dtypes"
      ],
      "execution_count": null,
      "outputs": [
        {
          "output_type": "execute_result",
          "data": {
            "text/plain": [
              "id                  int64\n",
              "count_is_final      int64\n",
              "CK                float64\n",
              "dtype: object"
            ]
          },
          "metadata": {
            "tags": []
          },
          "execution_count": 23
        }
      ]
    },
    {
      "cell_type": "markdown",
      "metadata": {
        "id": "825z_b5m-ZGZ"
      },
      "source": [
        "@ Vẽ đồ thị biểu diễn"
      ]
    },
    {
      "cell_type": "code",
      "metadata": {
        "colab": {
          "base_uri": "https://localhost:8080/"
        },
        "id": "rC6yM3xB-cV4",
        "outputId": "2b0261cc-f91d-42b2-9de5-b89c28c0352a"
      },
      "source": [
        "import matplotlib.pyplot as plt\n",
        "fig, (axs) = plt.subplots(1,1, figsize = (15,10))\n",
        "axs.scatter(x = df['count_is_final'], y = df['CK'])\n",
        "axs.set_title(\"count_is_final\")\n",
        "axs.set(xlabel='Số bài nộp cuối cùng', ylabel='Điểm thi cuối kì')\n",
        "plt.show()"
      ],
      "execution_count": null,
      "outputs": [
        {
          "output_type": "display_data",
          "data": {
            "image/png": "[encoded data removed]",
            "text/plain": [
              "<Figure size 1080x720 with 1 Axes>"
            ]
          },
          "metadata": {
            "tags": [],
            "needs_background": "light"
          }
        }
      ]
    },
    {
      "cell_type": "markdown",
      "metadata": {
        "id": "ZN1a2duDg-W2"
      },
      "source": [
        "#### *Tổng số bài nộp"
      ]
    },
    {
      "cell_type": "code",
      "metadata": {
        "colab": {
          "base_uri": "https://localhost:8080/"
        },
        "id": "P8TYw7n0gSLc",
        "outputId": "57d8e480-04ac-437e-d4cb-28f002d96a6e"
      },
      "source": [
        "count_submit = wecode2.groupby(\"user_id\")[[\"is_final\"]].count().reset_index().rename(columns={'user_id':'id','is_final' : 'count_submit'})           \n",
        "count_submit"
      ],
      "execution_count": null,
      "outputs": [
        {
          "output_type": "execute_result",
          "data": {
            "text/html": [
              "<div>\n",
              "<style scoped>\n",
              "    .dataframe tbody tr th:only-of-type {\n",
              "        vertical-align: middle;\n",
              "    }\n",
              "\n",
              "    .dataframe tbody tr th {\n",
              "        vertical-align: top;\n",
              "    }\n",
              "\n",
              "    .dataframe thead th {\n",
              "        text-align: right;\n",
              "    }\n",
              "</style>\n",
              "<table border=\"1\" class=\"dataframe\">\n",
              "  <thead>\n",
              "    <tr style=\"text-align: right;\">\n",
              "      <th></th>\n",
              "      <th>id</th>\n",
              "      <th>count_submit</th>\n",
              "    </tr>\n",
              "  </thead>\n",
              "  <tbody>\n",
              "    <tr>\n",
              "      <th>0</th>\n",
              "      <td>1</td>\n",
              "      <td>2</td>\n",
              "    </tr>\n",
              "    <tr>\n",
              "      <th>1</th>\n",
              "      <td>4</td>\n",
              "      <td>54</td>\n",
              "    </tr>\n",
              "    <tr>\n",
              "      <th>2</th>\n",
              "      <td>5</td>\n",
              "      <td>6</td>\n",
              "    </tr>\n",
              "    <tr>\n",
              "      <th>3</th>\n",
              "      <td>6</td>\n",
              "      <td>130</td>\n",
              "    </tr>\n",
              "    <tr>\n",
              "      <th>4</th>\n",
              "      <td>7</td>\n",
              "      <td>5</td>\n",
              "    </tr>\n",
              "    <tr>\n",
              "      <th>...</th>\n",
              "      <td>...</td>\n",
              "      <td>...</td>\n",
              "    </tr>\n",
              "    <tr>\n",
              "      <th>1154</th>\n",
              "      <td>1860</td>\n",
              "      <td>76</td>\n",
              "    </tr>\n",
              "    <tr>\n",
              "      <th>1155</th>\n",
              "      <td>1862</td>\n",
              "      <td>12</td>\n",
              "    </tr>\n",
              "    <tr>\n",
              "      <th>1156</th>\n",
              "      <td>1864</td>\n",
              "      <td>187</td>\n",
              "    </tr>\n",
              "    <tr>\n",
              "      <th>1157</th>\n",
              "      <td>1865</td>\n",
              "      <td>99</td>\n",
              "    </tr>\n",
              "    <tr>\n",
              "      <th>1158</th>\n",
              "      <td>1868</td>\n",
              "      <td>47</td>\n",
              "    </tr>\n",
              "  </tbody>\n",
              "</table>\n",
              "<p>1159 rows × 2 columns</p>\n",
              "</div>"
            ],
            "text/plain": [
              "        id  count_submit\n",
              "0        1             2\n",
              "1        4            54\n",
              "2        5             6\n",
              "3        6           130\n",
              "4        7             5\n",
              "...    ...           ...\n",
              "1154  1860            76\n",
              "1155  1862            12\n",
              "1156  1864           187\n",
              "1157  1865            99\n",
              "1158  1868            47\n",
              "\n",
              "[1159 rows x 2 columns]"
            ]
          },
          "metadata": {
            "tags": []
          },
          "execution_count": 25
        }
      ]
    },
    {
      "cell_type": "code",
      "metadata": {
        "colab": {
          "base_uri": "https://localhost:8080/"
        },
        "id": "52qzRkw_P6v5",
        "outputId": "553ab904-b2e9-4c06-9b9c-aeaffebcd497"
      },
      "source": [
        "df = count_submit.merge(score, on='id', how=\"inner\")\n",
        "fig, (axs) = plt.subplots(1,1, figsize = (15,10))\n",
        "axs.scatter(x = df['count_submit'], y = df['CK'])\n",
        "axs.set_title(\"count_submit\")\n",
        "axs.set(xlabel='Tổng số bài nộp', ylabel='Điểm thi cuối kì')\n",
        "plt.show()"
      ],
      "execution_count": null,
      "outputs": [
        {
          "output_type": "display_data",
          "data": {
            "image/png": "[encoded data removed]",
            "text/plain": [
              "<Figure size 1080x720 with 1 Axes>"
            ]
          },
          "metadata": {
            "tags": [],
            "needs_background": "light"
          }
        }
      ]
    },
    {
      "cell_type": "markdown",
      "metadata": {
        "id": "wDyZBzIsiL3V"
      },
      "source": [
        "#### *Tổng phần trăm test đúng\n",
        "Bài nộp phải là cuối cùng, giá trị có thể ảnh hưởng vì nhiều thành phần sinh viên thường trễ deadline ko phải vì học kém"
      ]
    },
    {
      "cell_type": "code",
      "metadata": {
        "colab": {
          "base_uri": "https://localhost:8080/"
        },
        "id": "5SzKcJjLg9PU",
        "outputId": "24b367e5-efba-4694-c556-8720758877d8"
      },
      "source": [
        "sum_test_true = (wecode2.loc[wecode2.is_final == 1]).groupby(\"user_id\")[[\"pre_score\"]].sum().reset_index().rename(columns={'user_id':'id','pre_score' : 'sum_test_true'})\n",
        "sum_test_true"
      ],
      "execution_count": null,
      "outputs": [
        {
          "output_type": "execute_result",
          "data": {
            "text/html": [
              "<div>\n",
              "<style scoped>\n",
              "    .dataframe tbody tr th:only-of-type {\n",
              "        vertical-align: middle;\n",
              "    }\n",
              "\n",
              "    .dataframe tbody tr th {\n",
              "        vertical-align: top;\n",
              "    }\n",
              "\n",
              "    .dataframe thead th {\n",
              "        text-align: right;\n",
              "    }\n",
              "</style>\n",
              "<table border=\"1\" class=\"dataframe\">\n",
              "  <thead>\n",
              "    <tr style=\"text-align: right;\">\n",
              "      <th></th>\n",
              "      <th>id</th>\n",
              "      <th>sum_test_true</th>\n",
              "    </tr>\n",
              "  </thead>\n",
              "  <tbody>\n",
              "    <tr>\n",
              "      <th>0</th>\n",
              "      <td>1</td>\n",
              "      <td>10000</td>\n",
              "    </tr>\n",
              "    <tr>\n",
              "      <th>1</th>\n",
              "      <td>4</td>\n",
              "      <td>370000</td>\n",
              "    </tr>\n",
              "    <tr>\n",
              "      <th>2</th>\n",
              "      <td>5</td>\n",
              "      <td>30000</td>\n",
              "    </tr>\n",
              "    <tr>\n",
              "      <th>3</th>\n",
              "      <td>6</td>\n",
              "      <td>850000</td>\n",
              "    </tr>\n",
              "    <tr>\n",
              "      <th>4</th>\n",
              "      <td>7</td>\n",
              "      <td>9209</td>\n",
              "    </tr>\n",
              "    <tr>\n",
              "      <th>...</th>\n",
              "      <td>...</td>\n",
              "      <td>...</td>\n",
              "    </tr>\n",
              "    <tr>\n",
              "      <th>1152</th>\n",
              "      <td>1860</td>\n",
              "      <td>329665</td>\n",
              "    </tr>\n",
              "    <tr>\n",
              "      <th>1153</th>\n",
              "      <td>1862</td>\n",
              "      <td>40000</td>\n",
              "    </tr>\n",
              "    <tr>\n",
              "      <th>1154</th>\n",
              "      <td>1864</td>\n",
              "      <td>439741</td>\n",
              "    </tr>\n",
              "    <tr>\n",
              "      <th>1155</th>\n",
              "      <td>1865</td>\n",
              "      <td>116428</td>\n",
              "    </tr>\n",
              "    <tr>\n",
              "      <th>1156</th>\n",
              "      <td>1868</td>\n",
              "      <td>270000</td>\n",
              "    </tr>\n",
              "  </tbody>\n",
              "</table>\n",
              "<p>1157 rows × 2 columns</p>\n",
              "</div>"
            ],
            "text/plain": [
              "        id  sum_test_true\n",
              "0        1          10000\n",
              "1        4         370000\n",
              "2        5          30000\n",
              "3        6         850000\n",
              "4        7           9209\n",
              "...    ...            ...\n",
              "1152  1860         329665\n",
              "1153  1862          40000\n",
              "1154  1864         439741\n",
              "1155  1865         116428\n",
              "1156  1868         270000\n",
              "\n",
              "[1157 rows x 2 columns]"
            ]
          },
          "metadata": {
            "tags": []
          },
          "execution_count": 27
        }
      ]
    },
    {
      "cell_type": "code",
      "metadata": {
        "colab": {
          "base_uri": "https://localhost:8080/"
        },
        "id": "Tyts6x-22tvA",
        "outputId": "21447f30-a034-4037-af91-089d40c0249d"
      },
      "source": [
        "df = sum_test_true.merge(score, on='id', how=\"inner\")\n",
        "fig, (axs) = plt.subplots(1,1, figsize = (15,10))\n",
        "axs.scatter(x = df['sum_test_true'], y = df['CK'])\n",
        "axs.set_title(\"sum_test_true\")\n",
        "axs.set(xlabel='sum_test_true', ylabel='Điểm thi cuối kì')\n",
        "plt.show()"
      ],
      "execution_count": null,
      "outputs": [
        {
          "output_type": "display_data",
          "data": {
            "image/png": "[encoded data removed]",
            "text/plain": [
              "<Figure size 1080x720 with 1 Axes>"
            ]
          },
          "metadata": {
            "tags": [],
            "needs_background": "light"
          }
        }
      ]
    },
    {
      "cell_type": "markdown",
      "metadata": {
        "id": "sWlFY_P678Fx"
      },
      "source": [
        "#### *Điểm: Sum(phần trăm test đúng *coeficient)"
      ]
    },
    {
      "cell_type": "code",
      "metadata": {
        "colab": {
          "base_uri": "https://localhost:8080/"
        },
        "id": "DgCTFObykRZK",
        "outputId": "5d3bb798-c29f-4c3c-b3bd-23a4828f8d03"
      },
      "source": [
        "wecode2.dtypes"
      ],
      "execution_count": null,
      "outputs": [
        {
          "output_type": "execute_result",
          "data": {
            "text/plain": [
              "problem_id      int64\n",
              "user_id         int64\n",
              "is_final        int64\n",
              "pre_score       int64\n",
              "coefficient    object\n",
              "dtype: object"
            ]
          },
          "metadata": {
            "tags": []
          },
          "execution_count": 29
        }
      ]
    },
    {
      "cell_type": "markdown",
      "metadata": {
        "id": "NcsfbN-x8Fxp"
      },
      "source": [
        "COEFICIENT có giá trị không phải là số, nên cần phải kiểm tra lại và gán lại giá trị"
      ]
    },
    {
      "cell_type": "code",
      "metadata": {
        "colab": {
          "base_uri": "https://localhost:8080/"
        },
        "id": "j3GQONcGqd7N",
        "outputId": "9cb95076-2f3b-480a-bb23-a47c59de847c"
      },
      "source": [
        "wecode2.coefficient.value_counts()"
      ],
      "execution_count": null,
      "outputs": [
        {
          "output_type": "execute_result",
          "data": {
            "text/plain": [
              "100      257952\n",
              "0          2805\n",
              "120         634\n",
              "70          610\n",
              "error       252\n",
              "          ...  \n",
              "73            2\n",
              "109           1\n",
              "40            1\n",
              "66            1\n",
              "22            1\n",
              "Name: coefficient, Length: 129, dtype: int64"
            ]
          },
          "metadata": {
            "tags": []
          },
          "execution_count": 30
        }
      ]
    },
    {
      "cell_type": "code",
      "metadata": {
        "id": "SaXwDzMqn-G0"
      },
      "source": [
        "wecode2.loc[wecode2.coefficient == \"error\"] = 0"
      ],
      "execution_count": null,
      "outputs": []
    },
    {
      "cell_type": "code",
      "metadata": {
        "id": "srxCW8V7ktmH"
      },
      "source": [
        "wecode2.coefficient = wecode2.coefficient.apply(int)"
      ],
      "execution_count": null,
      "outputs": []
    },
    {
      "cell_type": "code",
      "metadata": {
        "colab": {
          "base_uri": "https://localhost:8080/"
        },
        "id": "g7E5ebSEp8QE",
        "outputId": "28a0ada9-bc65-4328-ca6c-889d8b0f5687"
      },
      "source": [
        "wecode2.dtypes"
      ],
      "execution_count": null,
      "outputs": [
        {
          "output_type": "execute_result",
          "data": {
            "text/plain": [
              "problem_id     int64\n",
              "user_id        int64\n",
              "is_final       int64\n",
              "pre_score      int64\n",
              "coefficient    int64\n",
              "dtype: object"
            ]
          },
          "metadata": {
            "tags": []
          },
          "execution_count": 33
        }
      ]
    },
    {
      "cell_type": "markdown",
      "metadata": {
        "id": "mi6CcSL0882e"
      },
      "source": [
        "Tính [pre_score]*[coefficient]"
      ]
    },
    {
      "cell_type": "code",
      "metadata": {
        "colab": {
          "base_uri": "https://localhost:8080/"
        },
        "id": "lX1uJxDNiXAV",
        "outputId": "fe5a51a9-7123-4f12-83fe-48a3f047255e"
      },
      "source": [
        "wecode2[\"sum_score\"] = wecode2[\"pre_score\"] * wecode2[\"coefficient\"]\n",
        "wecode2"
      ],
      "execution_count": null,
      "outputs": [
        {
          "output_type": "execute_result",
          "data": {
            "text/html": [
              "<div>\n",
              "<style scoped>\n",
              "    .dataframe tbody tr th:only-of-type {\n",
              "        vertical-align: middle;\n",
              "    }\n",
              "\n",
              "    .dataframe tbody tr th {\n",
              "        vertical-align: top;\n",
              "    }\n",
              "\n",
              "    .dataframe thead th {\n",
              "        text-align: right;\n",
              "    }\n",
              "</style>\n",
              "<table border=\"1\" class=\"dataframe\">\n",
              "  <thead>\n",
              "    <tr style=\"text-align: right;\">\n",
              "      <th></th>\n",
              "      <th>problem_id</th>\n",
              "      <th>user_id</th>\n",
              "      <th>is_final</th>\n",
              "      <th>pre_score</th>\n",
              "      <th>coefficient</th>\n",
              "      <th>sum_score</th>\n",
              "    </tr>\n",
              "  </thead>\n",
              "  <tbody>\n",
              "    <tr>\n",
              "      <th>0</th>\n",
              "      <td>3</td>\n",
              "      <td>4</td>\n",
              "      <td>1</td>\n",
              "      <td>10000</td>\n",
              "      <td>100</td>\n",
              "      <td>1000000</td>\n",
              "    </tr>\n",
              "    <tr>\n",
              "      <th>1</th>\n",
              "      <td>4</td>\n",
              "      <td>4</td>\n",
              "      <td>1</td>\n",
              "      <td>10000</td>\n",
              "      <td>100</td>\n",
              "      <td>1000000</td>\n",
              "    </tr>\n",
              "    <tr>\n",
              "      <th>2</th>\n",
              "      <td>5</td>\n",
              "      <td>4</td>\n",
              "      <td>0</td>\n",
              "      <td>0</td>\n",
              "      <td>100</td>\n",
              "      <td>0</td>\n",
              "    </tr>\n",
              "    <tr>\n",
              "      <th>3</th>\n",
              "      <td>5</td>\n",
              "      <td>4</td>\n",
              "      <td>0</td>\n",
              "      <td>0</td>\n",
              "      <td>100</td>\n",
              "      <td>0</td>\n",
              "    </tr>\n",
              "    <tr>\n",
              "      <th>4</th>\n",
              "      <td>5</td>\n",
              "      <td>4</td>\n",
              "      <td>0</td>\n",
              "      <td>0</td>\n",
              "      <td>100</td>\n",
              "      <td>0</td>\n",
              "    </tr>\n",
              "    <tr>\n",
              "      <th>...</th>\n",
              "      <td>...</td>\n",
              "      <td>...</td>\n",
              "      <td>...</td>\n",
              "      <td>...</td>\n",
              "      <td>...</td>\n",
              "      <td>...</td>\n",
              "    </tr>\n",
              "    <tr>\n",
              "      <th>264601</th>\n",
              "      <td>25</td>\n",
              "      <td>1796</td>\n",
              "      <td>0</td>\n",
              "      <td>0</td>\n",
              "      <td>100</td>\n",
              "      <td>0</td>\n",
              "    </tr>\n",
              "    <tr>\n",
              "      <th>264602</th>\n",
              "      <td>25</td>\n",
              "      <td>1796</td>\n",
              "      <td>0</td>\n",
              "      <td>0</td>\n",
              "      <td>100</td>\n",
              "      <td>0</td>\n",
              "    </tr>\n",
              "    <tr>\n",
              "      <th>264603</th>\n",
              "      <td>25</td>\n",
              "      <td>1796</td>\n",
              "      <td>1</td>\n",
              "      <td>10000</td>\n",
              "      <td>100</td>\n",
              "      <td>1000000</td>\n",
              "    </tr>\n",
              "    <tr>\n",
              "      <th>264604</th>\n",
              "      <td>150</td>\n",
              "      <td>255</td>\n",
              "      <td>1</td>\n",
              "      <td>6250</td>\n",
              "      <td>100</td>\n",
              "      <td>625000</td>\n",
              "    </tr>\n",
              "    <tr>\n",
              "      <th>264605</th>\n",
              "      <td>24</td>\n",
              "      <td>1568</td>\n",
              "      <td>0</td>\n",
              "      <td>10000</td>\n",
              "      <td>100</td>\n",
              "      <td>1000000</td>\n",
              "    </tr>\n",
              "  </tbody>\n",
              "</table>\n",
              "<p>264606 rows × 6 columns</p>\n",
              "</div>"
            ],
            "text/plain": [
              "        problem_id  user_id  is_final  pre_score  coefficient  sum_score\n",
              "0                3        4         1      10000          100    1000000\n",
              "1                4        4         1      10000          100    1000000\n",
              "2                5        4         0          0          100          0\n",
              "3                5        4         0          0          100          0\n",
              "4                5        4         0          0          100          0\n",
              "...            ...      ...       ...        ...          ...        ...\n",
              "264601          25     1796         0          0          100          0\n",
              "264602          25     1796         0          0          100          0\n",
              "264603          25     1796         1      10000          100    1000000\n",
              "264604         150      255         1       6250          100     625000\n",
              "264605          24     1568         0      10000          100    1000000\n",
              "\n",
              "[264606 rows x 6 columns]"
            ]
          },
          "metadata": {
            "tags": []
          },
          "execution_count": 34
        }
      ]
    },
    {
      "cell_type": "code",
      "metadata": {
        "colab": {
          "base_uri": "https://localhost:8080/"
        },
        "id": "bwPI9uwSq3aL",
        "outputId": "e37e7b34-a7e6-407a-eebe-7b562a040c75"
      },
      "source": [
        "sum_score = (wecode2.loc[wecode2.is_final == 1]).groupby(\"user_id\")[\"sum_score\"].sum().reset_index().rename(columns={'user_id':'id'})\n",
        "sum_score"
      ],
      "execution_count": null,
      "outputs": [
        {
          "output_type": "execute_result",
          "data": {
            "text/html": [
              "<div>\n",
              "<style scoped>\n",
              "    .dataframe tbody tr th:only-of-type {\n",
              "        vertical-align: middle;\n",
              "    }\n",
              "\n",
              "    .dataframe tbody tr th {\n",
              "        vertical-align: top;\n",
              "    }\n",
              "\n",
              "    .dataframe thead th {\n",
              "        text-align: right;\n",
              "    }\n",
              "</style>\n",
              "<table border=\"1\" class=\"dataframe\">\n",
              "  <thead>\n",
              "    <tr style=\"text-align: right;\">\n",
              "      <th></th>\n",
              "      <th>id</th>\n",
              "      <th>sum_score</th>\n",
              "    </tr>\n",
              "  </thead>\n",
              "  <tbody>\n",
              "    <tr>\n",
              "      <th>0</th>\n",
              "      <td>1</td>\n",
              "      <td>1000000</td>\n",
              "    </tr>\n",
              "    <tr>\n",
              "      <th>1</th>\n",
              "      <td>4</td>\n",
              "      <td>37000000</td>\n",
              "    </tr>\n",
              "    <tr>\n",
              "      <th>2</th>\n",
              "      <td>5</td>\n",
              "      <td>3000000</td>\n",
              "    </tr>\n",
              "    <tr>\n",
              "      <th>3</th>\n",
              "      <td>6</td>\n",
              "      <td>85000000</td>\n",
              "    </tr>\n",
              "    <tr>\n",
              "      <th>4</th>\n",
              "      <td>7</td>\n",
              "      <td>920900</td>\n",
              "    </tr>\n",
              "    <tr>\n",
              "      <th>...</th>\n",
              "      <td>...</td>\n",
              "      <td>...</td>\n",
              "    </tr>\n",
              "    <tr>\n",
              "      <th>1152</th>\n",
              "      <td>1860</td>\n",
              "      <td>32966500</td>\n",
              "    </tr>\n",
              "    <tr>\n",
              "      <th>1153</th>\n",
              "      <td>1862</td>\n",
              "      <td>4000000</td>\n",
              "    </tr>\n",
              "    <tr>\n",
              "      <th>1154</th>\n",
              "      <td>1864</td>\n",
              "      <td>43974100</td>\n",
              "    </tr>\n",
              "    <tr>\n",
              "      <th>1155</th>\n",
              "      <td>1865</td>\n",
              "      <td>11642800</td>\n",
              "    </tr>\n",
              "    <tr>\n",
              "      <th>1156</th>\n",
              "      <td>1868</td>\n",
              "      <td>27000000</td>\n",
              "    </tr>\n",
              "  </tbody>\n",
              "</table>\n",
              "<p>1157 rows × 2 columns</p>\n",
              "</div>"
            ],
            "text/plain": [
              "        id  sum_score\n",
              "0        1    1000000\n",
              "1        4   37000000\n",
              "2        5    3000000\n",
              "3        6   85000000\n",
              "4        7     920900\n",
              "...    ...        ...\n",
              "1152  1860   32966500\n",
              "1153  1862    4000000\n",
              "1154  1864   43974100\n",
              "1155  1865   11642800\n",
              "1156  1868   27000000\n",
              "\n",
              "[1157 rows x 2 columns]"
            ]
          },
          "metadata": {
            "tags": []
          },
          "execution_count": 35
        }
      ]
    },
    {
      "cell_type": "code",
      "metadata": {
        "colab": {
          "base_uri": "https://localhost:8080/"
        },
        "id": "p9QaaAv13LpY",
        "outputId": "f1fdaadb-d63f-4f58-c101-73114cc2cf51"
      },
      "source": [
        "df = sum_score.merge(score, on='id', how=\"inner\")\n",
        "fig, (axs) = plt.subplots(1,1, figsize = (15,10))\n",
        "axs.scatter(x = df['sum_score'], y = df['CK'])\n",
        "axs.set_title(\"sum_score\")\n",
        "axs.set(xlabel='sum_score', ylabel='Điểm thi cuối kì')\n",
        "plt.show()"
      ],
      "execution_count": null,
      "outputs": [
        {
          "output_type": "display_data",
          "data": {
            "image/png": "[encoded data removed]",
            "text/plain": [
              "<Figure size 1080x720 with 1 Axes>"
            ]
          },
          "metadata": {
            "tags": [],
            "needs_background": "light"
          }
        }
      ]
    },
    {
      "cell_type": "markdown",
      "metadata": {
        "id": "2zHXndva6sbQ"
      },
      "source": [
        "#### Số lần nộp lại =  tổng số bài nộp-số bài nộp cuối cùng"
      ]
    },
    {
      "cell_type": "code",
      "metadata": {
        "colab": {
          "base_uri": "https://localhost:8080/"
        },
        "id": "8cg5C-aD6ri9",
        "outputId": "b7003355-b758-4a85-a705-2bcb4c2f9e5e"
      },
      "source": [
        "count_resumit = count_submit.merge(count_is_final, on='id', how=\"inner\")\n",
        "count_resumit[\"count_resumit\"]= count_resumit[\"count_submit\"] - count_resumit[\"count_is_final\"]\n",
        "count_resumit"
      ],
      "execution_count": null,
      "outputs": [
        {
          "output_type": "execute_result",
          "data": {
            "text/html": [
              "<div>\n",
              "<style scoped>\n",
              "    .dataframe tbody tr th:only-of-type {\n",
              "        vertical-align: middle;\n",
              "    }\n",
              "\n",
              "    .dataframe tbody tr th {\n",
              "        vertical-align: top;\n",
              "    }\n",
              "\n",
              "    .dataframe thead th {\n",
              "        text-align: right;\n",
              "    }\n",
              "</style>\n",
              "<table border=\"1\" class=\"dataframe\">\n",
              "  <thead>\n",
              "    <tr style=\"text-align: right;\">\n",
              "      <th></th>\n",
              "      <th>id</th>\n",
              "      <th>count_submit</th>\n",
              "      <th>count_is_final</th>\n",
              "      <th>count_resumit</th>\n",
              "    </tr>\n",
              "  </thead>\n",
              "  <tbody>\n",
              "    <tr>\n",
              "      <th>0</th>\n",
              "      <td>1</td>\n",
              "      <td>2</td>\n",
              "      <td>2</td>\n",
              "      <td>0</td>\n",
              "    </tr>\n",
              "    <tr>\n",
              "      <th>1</th>\n",
              "      <td>4</td>\n",
              "      <td>54</td>\n",
              "      <td>38</td>\n",
              "      <td>16</td>\n",
              "    </tr>\n",
              "    <tr>\n",
              "      <th>2</th>\n",
              "      <td>5</td>\n",
              "      <td>6</td>\n",
              "      <td>5</td>\n",
              "      <td>1</td>\n",
              "    </tr>\n",
              "    <tr>\n",
              "      <th>3</th>\n",
              "      <td>6</td>\n",
              "      <td>130</td>\n",
              "      <td>88</td>\n",
              "      <td>42</td>\n",
              "    </tr>\n",
              "    <tr>\n",
              "      <th>4</th>\n",
              "      <td>7</td>\n",
              "      <td>5</td>\n",
              "      <td>2</td>\n",
              "      <td>3</td>\n",
              "    </tr>\n",
              "    <tr>\n",
              "      <th>...</th>\n",
              "      <td>...</td>\n",
              "      <td>...</td>\n",
              "      <td>...</td>\n",
              "      <td>...</td>\n",
              "    </tr>\n",
              "    <tr>\n",
              "      <th>1154</th>\n",
              "      <td>1860</td>\n",
              "      <td>76</td>\n",
              "      <td>48</td>\n",
              "      <td>28</td>\n",
              "    </tr>\n",
              "    <tr>\n",
              "      <th>1155</th>\n",
              "      <td>1862</td>\n",
              "      <td>12</td>\n",
              "      <td>6</td>\n",
              "      <td>6</td>\n",
              "    </tr>\n",
              "    <tr>\n",
              "      <th>1156</th>\n",
              "      <td>1864</td>\n",
              "      <td>187</td>\n",
              "      <td>63</td>\n",
              "      <td>124</td>\n",
              "    </tr>\n",
              "    <tr>\n",
              "      <th>1157</th>\n",
              "      <td>1865</td>\n",
              "      <td>99</td>\n",
              "      <td>17</td>\n",
              "      <td>82</td>\n",
              "    </tr>\n",
              "    <tr>\n",
              "      <th>1158</th>\n",
              "      <td>1868</td>\n",
              "      <td>47</td>\n",
              "      <td>27</td>\n",
              "      <td>20</td>\n",
              "    </tr>\n",
              "  </tbody>\n",
              "</table>\n",
              "<p>1159 rows × 4 columns</p>\n",
              "</div>"
            ],
            "text/plain": [
              "        id  count_submit  count_is_final  count_resumit\n",
              "0        1             2               2              0\n",
              "1        4            54              38             16\n",
              "2        5             6               5              1\n",
              "3        6           130              88             42\n",
              "4        7             5               2              3\n",
              "...    ...           ...             ...            ...\n",
              "1154  1860            76              48             28\n",
              "1155  1862            12               6              6\n",
              "1156  1864           187              63            124\n",
              "1157  1865            99              17             82\n",
              "1158  1868            47              27             20\n",
              "\n",
              "[1159 rows x 4 columns]"
            ]
          },
          "metadata": {
            "tags": []
          },
          "execution_count": 37
        }
      ]
    },
    {
      "cell_type": "code",
      "metadata": {
        "colab": {
          "base_uri": "https://localhost:8080/"
        },
        "id": "JNHS9ofp8OSx",
        "outputId": "5876d5d2-809a-4363-cd10-ae7ef0662e84"
      },
      "source": [
        "df = count_resumit.merge(score, on='id', how=\"inner\")\n",
        "fig, (axs) = plt.subplots(1,1, figsize = (15,10))\n",
        "axs.scatter(x = df['count_resumit'], y = df['CK'])\n",
        "axs.set_title(\"count_resumit\")\n",
        "axs.set(xlabel='count_resumit', ylabel='Điểm thi cuối kì')\n",
        "plt.show()"
      ],
      "execution_count": null,
      "outputs": [
        {
          "output_type": "display_data",
          "data": {
            "image/png": "[encoded data removed]",
            "text/plain": [
              "<Figure size 1080x720 with 1 Axes>"
            ]
          },
          "metadata": {
            "tags": [],
            "needs_background": "light"
          }
        }
      ]
    },
    {
      "cell_type": "markdown",
      "metadata": {
        "id": "fp3VVmAo-ark"
      },
      "source": [
        "#### Số lần nộp bài submit đúng 100%"
      ]
    },
    {
      "cell_type": "code",
      "metadata": {
        "colab": {
          "base_uri": "https://localhost:8080/",
          "height": 407
        },
        "id": "z_SMOMa3-oZv",
        "outputId": "80652f5b-d014-472d-ae9a-43eb66db1718"
      },
      "source": [
        "true_submit = (wecode2.loc[(wecode2.pre_score == 10000) & (wecode2.is_final == 1)]).groupby(\"user_id\")[[\"is_final\"]].count().reset_index().rename(columns={'user_id':'id','is_final' : 'true_submit'})           \n",
        "true_submit"
      ],
      "execution_count": null,
      "outputs": [
        {
          "output_type": "execute_result",
          "data": {
            "text/html": [
              "<div>\n",
              "<style scoped>\n",
              "    .dataframe tbody tr th:only-of-type {\n",
              "        vertical-align: middle;\n",
              "    }\n",
              "\n",
              "    .dataframe tbody tr th {\n",
              "        vertical-align: top;\n",
              "    }\n",
              "\n",
              "    .dataframe thead th {\n",
              "        text-align: right;\n",
              "    }\n",
              "</style>\n",
              "<table border=\"1\" class=\"dataframe\">\n",
              "  <thead>\n",
              "    <tr style=\"text-align: right;\">\n",
              "      <th></th>\n",
              "      <th>id</th>\n",
              "      <th>true_submit</th>\n",
              "    </tr>\n",
              "  </thead>\n",
              "  <tbody>\n",
              "    <tr>\n",
              "      <th>0</th>\n",
              "      <td>1</td>\n",
              "      <td>1</td>\n",
              "    </tr>\n",
              "    <tr>\n",
              "      <th>1</th>\n",
              "      <td>4</td>\n",
              "      <td>37</td>\n",
              "    </tr>\n",
              "    <tr>\n",
              "      <th>2</th>\n",
              "      <td>5</td>\n",
              "      <td>3</td>\n",
              "    </tr>\n",
              "    <tr>\n",
              "      <th>3</th>\n",
              "      <td>6</td>\n",
              "      <td>85</td>\n",
              "    </tr>\n",
              "    <tr>\n",
              "      <th>4</th>\n",
              "      <td>11</td>\n",
              "      <td>9</td>\n",
              "    </tr>\n",
              "    <tr>\n",
              "      <th>...</th>\n",
              "      <td>...</td>\n",
              "      <td>...</td>\n",
              "    </tr>\n",
              "    <tr>\n",
              "      <th>1134</th>\n",
              "      <td>1860</td>\n",
              "      <td>28</td>\n",
              "    </tr>\n",
              "    <tr>\n",
              "      <th>1135</th>\n",
              "      <td>1862</td>\n",
              "      <td>4</td>\n",
              "    </tr>\n",
              "    <tr>\n",
              "      <th>1136</th>\n",
              "      <td>1864</td>\n",
              "      <td>28</td>\n",
              "    </tr>\n",
              "    <tr>\n",
              "      <th>1137</th>\n",
              "      <td>1865</td>\n",
              "      <td>10</td>\n",
              "    </tr>\n",
              "    <tr>\n",
              "      <th>1138</th>\n",
              "      <td>1868</td>\n",
              "      <td>27</td>\n",
              "    </tr>\n",
              "  </tbody>\n",
              "</table>\n",
              "<p>1139 rows × 2 columns</p>\n",
              "</div>"
            ],
            "text/plain": [
              "        id  true_submit\n",
              "0        1            1\n",
              "1        4           37\n",
              "2        5            3\n",
              "3        6           85\n",
              "4       11            9\n",
              "...    ...          ...\n",
              "1134  1860           28\n",
              "1135  1862            4\n",
              "1136  1864           28\n",
              "1137  1865           10\n",
              "1138  1868           27\n",
              "\n",
              "[1139 rows x 2 columns]"
            ]
          },
          "metadata": {
            "tags": []
          },
          "execution_count": 39
        }
      ]
    },
    {
      "cell_type": "code",
      "metadata": {
        "colab": {
          "base_uri": "https://localhost:8080/",
          "height": 622
        },
        "id": "zINDhkRY_r8a",
        "outputId": "efa5afb2-60ad-496d-ba36-54fdf1c33834"
      },
      "source": [
        "df = true_submit.merge(score, on='id', how=\"inner\")\n",
        "fig, (axs) = plt.subplots(1,1, figsize = (15,10))\n",
        "axs.scatter(x = df['true_submit'], y = df['CK'])\n",
        "axs.set_title(\"true_submit\")\n",
        "axs.set(xlabel='true_submit', ylabel='Điểm thi cuối kì')\n",
        "plt.show()"
      ],
      "execution_count": null,
      "outputs": [
        {
          "output_type": "display_data",
          "data": {
            "image/png": "[encoded data removed]",
            "text/plain": [
              "<Figure size 1080x720 with 1 Axes>"
            ]
          },
          "metadata": {
            "tags": [],
            "needs_background": "light"
          }
        }
      ]
    },
    {
      "cell_type": "code",
      "metadata": {
        "colab": {
          "base_uri": "https://localhost:8080/",
          "height": 407
        },
        "id": "Ty9q_IRT9HKc",
        "outputId": "f5ae53c2-2e27-47ce-8653-18b89ea29a2d"
      },
      "source": [
        "wecode2\n"
      ],
      "execution_count": null,
      "outputs": [
        {
          "output_type": "execute_result",
          "data": {
            "text/html": [
              "<div>\n",
              "<style scoped>\n",
              "    .dataframe tbody tr th:only-of-type {\n",
              "        vertical-align: middle;\n",
              "    }\n",
              "\n",
              "    .dataframe tbody tr th {\n",
              "        vertical-align: top;\n",
              "    }\n",
              "\n",
              "    .dataframe thead th {\n",
              "        text-align: right;\n",
              "    }\n",
              "</style>\n",
              "<table border=\"1\" class=\"dataframe\">\n",
              "  <thead>\n",
              "    <tr style=\"text-align: right;\">\n",
              "      <th></th>\n",
              "      <th>problem_id</th>\n",
              "      <th>user_id</th>\n",
              "      <th>is_final</th>\n",
              "      <th>pre_score</th>\n",
              "      <th>coefficient</th>\n",
              "      <th>sum_score</th>\n",
              "    </tr>\n",
              "  </thead>\n",
              "  <tbody>\n",
              "    <tr>\n",
              "      <th>0</th>\n",
              "      <td>3</td>\n",
              "      <td>4</td>\n",
              "      <td>1</td>\n",
              "      <td>10000</td>\n",
              "      <td>100</td>\n",
              "      <td>1000000</td>\n",
              "    </tr>\n",
              "    <tr>\n",
              "      <th>1</th>\n",
              "      <td>4</td>\n",
              "      <td>4</td>\n",
              "      <td>1</td>\n",
              "      <td>10000</td>\n",
              "      <td>100</td>\n",
              "      <td>1000000</td>\n",
              "    </tr>\n",
              "    <tr>\n",
              "      <th>2</th>\n",
              "      <td>5</td>\n",
              "      <td>4</td>\n",
              "      <td>0</td>\n",
              "      <td>0</td>\n",
              "      <td>100</td>\n",
              "      <td>0</td>\n",
              "    </tr>\n",
              "    <tr>\n",
              "      <th>3</th>\n",
              "      <td>5</td>\n",
              "      <td>4</td>\n",
              "      <td>0</td>\n",
              "      <td>0</td>\n",
              "      <td>100</td>\n",
              "      <td>0</td>\n",
              "    </tr>\n",
              "    <tr>\n",
              "      <th>4</th>\n",
              "      <td>5</td>\n",
              "      <td>4</td>\n",
              "      <td>0</td>\n",
              "      <td>0</td>\n",
              "      <td>100</td>\n",
              "      <td>0</td>\n",
              "    </tr>\n",
              "    <tr>\n",
              "      <th>...</th>\n",
              "      <td>...</td>\n",
              "      <td>...</td>\n",
              "      <td>...</td>\n",
              "      <td>...</td>\n",
              "      <td>...</td>\n",
              "      <td>...</td>\n",
              "    </tr>\n",
              "    <tr>\n",
              "      <th>264601</th>\n",
              "      <td>25</td>\n",
              "      <td>1796</td>\n",
              "      <td>0</td>\n",
              "      <td>0</td>\n",
              "      <td>100</td>\n",
              "      <td>0</td>\n",
              "    </tr>\n",
              "    <tr>\n",
              "      <th>264602</th>\n",
              "      <td>25</td>\n",
              "      <td>1796</td>\n",
              "      <td>0</td>\n",
              "      <td>0</td>\n",
              "      <td>100</td>\n",
              "      <td>0</td>\n",
              "    </tr>\n",
              "    <tr>\n",
              "      <th>264603</th>\n",
              "      <td>25</td>\n",
              "      <td>1796</td>\n",
              "      <td>1</td>\n",
              "      <td>10000</td>\n",
              "      <td>100</td>\n",
              "      <td>1000000</td>\n",
              "    </tr>\n",
              "    <tr>\n",
              "      <th>264604</th>\n",
              "      <td>150</td>\n",
              "      <td>255</td>\n",
              "      <td>1</td>\n",
              "      <td>6250</td>\n",
              "      <td>100</td>\n",
              "      <td>625000</td>\n",
              "    </tr>\n",
              "    <tr>\n",
              "      <th>264605</th>\n",
              "      <td>24</td>\n",
              "      <td>1568</td>\n",
              "      <td>0</td>\n",
              "      <td>10000</td>\n",
              "      <td>100</td>\n",
              "      <td>1000000</td>\n",
              "    </tr>\n",
              "  </tbody>\n",
              "</table>\n",
              "<p>264606 rows × 6 columns</p>\n",
              "</div>"
            ],
            "text/plain": [
              "        problem_id  user_id  is_final  pre_score  coefficient  sum_score\n",
              "0                3        4         1      10000          100    1000000\n",
              "1                4        4         1      10000          100    1000000\n",
              "2                5        4         0          0          100          0\n",
              "3                5        4         0          0          100          0\n",
              "4                5        4         0          0          100          0\n",
              "...            ...      ...       ...        ...          ...        ...\n",
              "264601          25     1796         0          0          100          0\n",
              "264602          25     1796         0          0          100          0\n",
              "264603          25     1796         1      10000          100    1000000\n",
              "264604         150      255         1       6250          100     625000\n",
              "264605          24     1568         0      10000          100    1000000\n",
              "\n",
              "[264606 rows x 6 columns]"
            ]
          },
          "metadata": {
            "tags": []
          },
          "execution_count": 41
        }
      ]
    },
    {
      "cell_type": "code",
      "metadata": {
        "colab": {
          "base_uri": "https://localhost:8080/"
        },
        "id": "0z4BrxYTE6o6",
        "outputId": "afaabae9-ea73-4aae-8a79-e62ce03bb41d"
      },
      "source": [
        "wecode2.value_counts(\"problem_id\")"
      ],
      "execution_count": null,
      "outputs": [
        {
          "output_type": "execute_result",
          "data": {
            "text/plain": [
              "problem_id\n",
              "86     4728\n",
              "6      4407\n",
              "4      4213\n",
              "240    3833\n",
              "319    3349\n",
              "       ... \n",
              "153       1\n",
              "155       1\n",
              "156       1\n",
              "157       1\n",
              "115       1\n",
              "Length: 635, dtype: int64"
            ]
          },
          "metadata": {
            "tags": []
          },
          "execution_count": 82
        }
      ]
    },
    {
      "cell_type": "code",
      "metadata": {
        "colab": {
          "base_uri": "https://localhost:8080/",
          "height": 407
        },
        "id": "ypl56gbZ9raS",
        "outputId": "2453fd86-820a-4e79-f701-caac6ae101b0"
      },
      "source": [
        "#số problem xanh\n",
        "problem = (wecode2.loc[wecode2.pre_score == 10000]).groupby([\"user_id\",\"problem_id\"])[[\"pre_score\"]].max().reset_index() \n",
        "count_problem = problem.groupby([\"user_id\"])[[\"problem_id\"]].count().reset_index().rename(columns={\"user_id\":\"id\",'problem_id':'count_problem'})   \n",
        "count_problem"
      ],
      "execution_count": null,
      "outputs": [
        {
          "output_type": "execute_result",
          "data": {
            "text/html": [
              "<div>\n",
              "<style scoped>\n",
              "    .dataframe tbody tr th:only-of-type {\n",
              "        vertical-align: middle;\n",
              "    }\n",
              "\n",
              "    .dataframe tbody tr th {\n",
              "        vertical-align: top;\n",
              "    }\n",
              "\n",
              "    .dataframe thead th {\n",
              "        text-align: right;\n",
              "    }\n",
              "</style>\n",
              "<table border=\"1\" class=\"dataframe\">\n",
              "  <thead>\n",
              "    <tr style=\"text-align: right;\">\n",
              "      <th></th>\n",
              "      <th>id</th>\n",
              "      <th>count_problem</th>\n",
              "    </tr>\n",
              "  </thead>\n",
              "  <tbody>\n",
              "    <tr>\n",
              "      <th>0</th>\n",
              "      <td>1</td>\n",
              "      <td>1</td>\n",
              "    </tr>\n",
              "    <tr>\n",
              "      <th>1</th>\n",
              "      <td>4</td>\n",
              "      <td>40</td>\n",
              "    </tr>\n",
              "    <tr>\n",
              "      <th>2</th>\n",
              "      <td>5</td>\n",
              "      <td>3</td>\n",
              "    </tr>\n",
              "    <tr>\n",
              "      <th>3</th>\n",
              "      <td>6</td>\n",
              "      <td>85</td>\n",
              "    </tr>\n",
              "    <tr>\n",
              "      <th>4</th>\n",
              "      <td>11</td>\n",
              "      <td>12</td>\n",
              "    </tr>\n",
              "    <tr>\n",
              "      <th>...</th>\n",
              "      <td>...</td>\n",
              "      <td>...</td>\n",
              "    </tr>\n",
              "    <tr>\n",
              "      <th>1134</th>\n",
              "      <td>1860</td>\n",
              "      <td>26</td>\n",
              "    </tr>\n",
              "    <tr>\n",
              "      <th>1135</th>\n",
              "      <td>1862</td>\n",
              "      <td>4</td>\n",
              "    </tr>\n",
              "    <tr>\n",
              "      <th>1136</th>\n",
              "      <td>1864</td>\n",
              "      <td>28</td>\n",
              "    </tr>\n",
              "    <tr>\n",
              "      <th>1137</th>\n",
              "      <td>1865</td>\n",
              "      <td>10</td>\n",
              "    </tr>\n",
              "    <tr>\n",
              "      <th>1138</th>\n",
              "      <td>1868</td>\n",
              "      <td>20</td>\n",
              "    </tr>\n",
              "  </tbody>\n",
              "</table>\n",
              "<p>1139 rows × 2 columns</p>\n",
              "</div>"
            ],
            "text/plain": [
              "        id  count_problem\n",
              "0        1              1\n",
              "1        4             40\n",
              "2        5              3\n",
              "3        6             85\n",
              "4       11             12\n",
              "...    ...            ...\n",
              "1134  1860             26\n",
              "1135  1862              4\n",
              "1136  1864             28\n",
              "1137  1865             10\n",
              "1138  1868             20\n",
              "\n",
              "[1139 rows x 2 columns]"
            ]
          },
          "metadata": {
            "tags": []
          },
          "execution_count": 80
        }
      ]
    },
    {
      "cell_type": "code",
      "metadata": {
        "colab": {
          "base_uri": "https://localhost:8080/"
        },
        "id": "oWB4FsPRFQed",
        "outputId": "9200839d-f1b6-4ada-bc3f-2f5384829286"
      },
      "source": [
        "count_problem.max()"
      ],
      "execution_count": null,
      "outputs": [
        {
          "output_type": "execute_result",
          "data": {
            "text/plain": [
              "id               1868\n",
              "count_problem     203\n",
              "dtype: int64"
            ]
          },
          "metadata": {
            "tags": []
          },
          "execution_count": 83
        }
      ]
    },
    {
      "cell_type": "code",
      "metadata": {
        "colab": {
          "base_uri": "https://localhost:8080/",
          "height": 407
        },
        "id": "hg4HJUXCFhhh",
        "outputId": "4a9d6761-35d4-4540-c148-924df6a544cd"
      },
      "source": [
        "count_problem[\"TiLe\"] = count_problem[\"count_problem\"]* 100//203\n",
        "count_problem"
      ],
      "execution_count": null,
      "outputs": [
        {
          "output_type": "execute_result",
          "data": {
            "text/html": [
              "<div>\n",
              "<style scoped>\n",
              "    .dataframe tbody tr th:only-of-type {\n",
              "        vertical-align: middle;\n",
              "    }\n",
              "\n",
              "    .dataframe tbody tr th {\n",
              "        vertical-align: top;\n",
              "    }\n",
              "\n",
              "    .dataframe thead th {\n",
              "        text-align: right;\n",
              "    }\n",
              "</style>\n",
              "<table border=\"1\" class=\"dataframe\">\n",
              "  <thead>\n",
              "    <tr style=\"text-align: right;\">\n",
              "      <th></th>\n",
              "      <th>id</th>\n",
              "      <th>count_problem</th>\n",
              "      <th>TiLe</th>\n",
              "    </tr>\n",
              "  </thead>\n",
              "  <tbody>\n",
              "    <tr>\n",
              "      <th>0</th>\n",
              "      <td>1</td>\n",
              "      <td>1</td>\n",
              "      <td>0</td>\n",
              "    </tr>\n",
              "    <tr>\n",
              "      <th>1</th>\n",
              "      <td>4</td>\n",
              "      <td>40</td>\n",
              "      <td>19</td>\n",
              "    </tr>\n",
              "    <tr>\n",
              "      <th>2</th>\n",
              "      <td>5</td>\n",
              "      <td>3</td>\n",
              "      <td>1</td>\n",
              "    </tr>\n",
              "    <tr>\n",
              "      <th>3</th>\n",
              "      <td>6</td>\n",
              "      <td>85</td>\n",
              "      <td>41</td>\n",
              "    </tr>\n",
              "    <tr>\n",
              "      <th>4</th>\n",
              "      <td>11</td>\n",
              "      <td>12</td>\n",
              "      <td>5</td>\n",
              "    </tr>\n",
              "    <tr>\n",
              "      <th>...</th>\n",
              "      <td>...</td>\n",
              "      <td>...</td>\n",
              "      <td>...</td>\n",
              "    </tr>\n",
              "    <tr>\n",
              "      <th>1134</th>\n",
              "      <td>1860</td>\n",
              "      <td>26</td>\n",
              "      <td>12</td>\n",
              "    </tr>\n",
              "    <tr>\n",
              "      <th>1135</th>\n",
              "      <td>1862</td>\n",
              "      <td>4</td>\n",
              "      <td>1</td>\n",
              "    </tr>\n",
              "    <tr>\n",
              "      <th>1136</th>\n",
              "      <td>1864</td>\n",
              "      <td>28</td>\n",
              "      <td>13</td>\n",
              "    </tr>\n",
              "    <tr>\n",
              "      <th>1137</th>\n",
              "      <td>1865</td>\n",
              "      <td>10</td>\n",
              "      <td>4</td>\n",
              "    </tr>\n",
              "    <tr>\n",
              "      <th>1138</th>\n",
              "      <td>1868</td>\n",
              "      <td>20</td>\n",
              "      <td>9</td>\n",
              "    </tr>\n",
              "  </tbody>\n",
              "</table>\n",
              "<p>1139 rows × 3 columns</p>\n",
              "</div>"
            ],
            "text/plain": [
              "        id  count_problem  TiLe\n",
              "0        1              1     0\n",
              "1        4             40    19\n",
              "2        5              3     1\n",
              "3        6             85    41\n",
              "4       11             12     5\n",
              "...    ...            ...   ...\n",
              "1134  1860             26    12\n",
              "1135  1862              4     1\n",
              "1136  1864             28    13\n",
              "1137  1865             10     4\n",
              "1138  1868             20     9\n",
              "\n",
              "[1139 rows x 3 columns]"
            ]
          },
          "metadata": {
            "tags": []
          },
          "execution_count": 88
        }
      ]
    },
    {
      "cell_type": "code",
      "metadata": {
        "colab": {
          "base_uri": "https://localhost:8080/",
          "height": 622
        },
        "id": "LyTyatT2D8sE",
        "outputId": "63c28c23-fb38-46ef-adec-cee4211c8d9d"
      },
      "source": [
        "df = count_problem.merge(score, on='id', how=\"inner\")\n",
        "fig, (axs) = plt.subplots(1,1, figsize = (15,10))\n",
        "axs.scatter(x = df['count_problem'], y = df['CK'])\n",
        "axs.set_title(\"count_problem\")\n",
        "axs.set(xlabel='count_problem', ylabel='Điểm thi cuối kì')\n",
        "plt.show()"
      ],
      "execution_count": null,
      "outputs": [
        {
          "output_type": "display_data",
          "data": {
            "image/png": "[encoded data removed]",
            "text/plain": [
              "<Figure size 1080x720 with 1 Axes>"
            ]
          },
          "metadata": {
            "tags": [],
            "needs_background": "light"
          }
        }
      ]
    },
    {
      "cell_type": "code",
      "metadata": {
        "colab": {
          "base_uri": "https://localhost:8080/",
          "height": 621
        },
        "id": "We-N72EQGMxR",
        "outputId": "66358770-2278-45eb-a233-5e78a2f9f93d"
      },
      "source": [
        "df = count_problem.merge(score, on='id', how=\"inner\")\n",
        "fig, (axs) = plt.subplots(1,1, figsize = (15,10))\n",
        "axs.scatter(x = df['TiLe'], y = df['CK'])\n",
        "axs.set_title(\"TiLe\")\n",
        "axs.set(xlabel='TiLe', ylabel='Điểm thi cuối kì')\n",
        "plt.show()"
      ],
      "execution_count": null,
      "outputs": [
        {
          "output_type": "display_data",
          "data": {
            "image/png": "[encoded data removed]",
            "text/plain": [
              "<Figure size 1080x720 with 1 Axes>"
            ]
          },
          "metadata": {
            "tags": [],
            "needs_background": "light"
          }
        }
      ]
    },
    {
      "cell_type": "code",
      "metadata": {
        "colab": {
          "base_uri": "https://localhost:8080/",
          "height": 108
        },
        "id": "gU98zHiQGloN",
        "outputId": "67a8cdc7-a261-428b-cb7b-1e4081f5e69e"
      },
      "source": [
        "df.loc[df.CK == 10]"
      ],
      "execution_count": null,
      "outputs": [
        {
          "output_type": "execute_result",
          "data": {
            "text/html": [
              "<div>\n",
              "<style scoped>\n",
              "    .dataframe tbody tr th:only-of-type {\n",
              "        vertical-align: middle;\n",
              "    }\n",
              "\n",
              "    .dataframe tbody tr th {\n",
              "        vertical-align: top;\n",
              "    }\n",
              "\n",
              "    .dataframe thead th {\n",
              "        text-align: right;\n",
              "    }\n",
              "</style>\n",
              "<table border=\"1\" class=\"dataframe\">\n",
              "  <thead>\n",
              "    <tr style=\"text-align: right;\">\n",
              "      <th></th>\n",
              "      <th>id</th>\n",
              "      <th>count_problem</th>\n",
              "      <th>TiLe</th>\n",
              "      <th>CK</th>\n",
              "    </tr>\n",
              "  </thead>\n",
              "  <tbody>\n",
              "    <tr>\n",
              "      <th>1</th>\n",
              "      <td>27</td>\n",
              "      <td>3</td>\n",
              "      <td>1</td>\n",
              "      <td>10.0</td>\n",
              "    </tr>\n",
              "    <tr>\n",
              "      <th>139</th>\n",
              "      <td>343</td>\n",
              "      <td>159</td>\n",
              "      <td>78</td>\n",
              "      <td>10.0</td>\n",
              "    </tr>\n",
              "  </tbody>\n",
              "</table>\n",
              "</div>"
            ],
            "text/plain": [
              "      id  count_problem  TiLe    CK\n",
              "1     27              3     1  10.0\n",
              "139  343            159    78  10.0"
            ]
          },
          "metadata": {
            "tags": []
          },
          "execution_count": 90
        }
      ]
    }
  ]
}